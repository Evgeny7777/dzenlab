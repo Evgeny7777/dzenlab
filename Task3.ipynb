{
 "cells": [
  {
   "cell_type": "markdown",
   "metadata": {},
   "source": [
    "# Задача\n",
    "- На основе тренировочного множества (classification_train.csv) постройте модель, которая сможет определять по входных данных (все столбцы, кроме target),  произойдет событие (target = 1) или нет (target = 0). \n",
    "- На основе разработанной модели составьте прогноз для тестового множества (classification_test.csv).  \n",
    "- Приложите описание решения (код или какие-то другие материалы, созданные в ходе решения приветствуются). \n",
    "- Приложите прогноз в виде, представленном в sample submission.csv"
   ]
  },
  {
   "cell_type": "code",
   "execution_count": 1,
   "metadata": {
    "collapsed": false
   },
   "outputs": [
    {
     "name": "stdout",
     "output_type": "stream",
     "text": [
      "total 17920\r\n",
      "-rw-rw-r--@ 1 Evgeny  staff  1824443 Aug 22  2016 classification_test.csv\r\n",
      "-rw-rw-r--@ 1 Evgeny  staff  7343138 Aug 22  2016 classification_train.csv\r\n",
      "-rw-rw-r--@ 1 Evgeny  staff       38 Aug 22  2016 sample submission.csv\r\n"
     ]
    }
   ],
   "source": [
    "! ls -l ./data"
   ]
  },
  {
   "cell_type": "markdown",
   "metadata": {},
   "source": [
    "# Looking at data and preparing"
   ]
  },
  {
   "cell_type": "code",
   "execution_count": 2,
   "metadata": {
    "collapsed": true
   },
   "outputs": [],
   "source": [
    "import pandas as pd\n",
    "pd.set_option('display.max_columns', None)\n",
    "from IPython.core.interactiveshell import InteractiveShell\n",
    "InteractiveShell.ast_node_interactivity = \"all\"\n",
    "%matplotlib inline"
   ]
  },
  {
   "cell_type": "code",
   "execution_count": 3,
   "metadata": {
    "collapsed": true
   },
   "outputs": [],
   "source": [
    "df = pd.read_csv('./data/classification_train.csv')\n",
    "df_test = pd.read_csv('./data/classification_test.csv')"
   ]
  },
  {
   "cell_type": "code",
   "execution_count": 4,
   "metadata": {
    "collapsed": false
   },
   "outputs": [
    {
     "data": {
      "text/plain": [
       "18420"
      ]
     },
     "execution_count": 4,
     "metadata": {},
     "output_type": "execute_result"
    },
    {
     "data": {
      "text/html": [
       "<div>\n",
       "<table border=\"1\" class=\"dataframe\">\n",
       "  <thead>\n",
       "    <tr style=\"text-align: right;\">\n",
       "      <th></th>\n",
       "      <th>row_number</th>\n",
       "      <th>day_of_week</th>\n",
       "      <th>time_interval</th>\n",
       "      <th>numerical_feature1</th>\n",
       "      <th>binary_feature1</th>\n",
       "      <th>numerical_feature2</th>\n",
       "      <th>numerical_feature3</th>\n",
       "      <th>numerical_feature4</th>\n",
       "      <th>numerical_feature5</th>\n",
       "      <th>numerical_feature6</th>\n",
       "      <th>numerical_feature7</th>\n",
       "      <th>numerical_feature8</th>\n",
       "      <th>numerical_feature9</th>\n",
       "      <th>numerical_feature10</th>\n",
       "      <th>numerical_feature11</th>\n",
       "      <th>numerical_feature12</th>\n",
       "      <th>numerical_feature13</th>\n",
       "      <th>numerical_feature14</th>\n",
       "      <th>numerical_feature15</th>\n",
       "      <th>numerical_feature16</th>\n",
       "      <th>numerical_feature17</th>\n",
       "      <th>numerical_feature18</th>\n",
       "      <th>numerical_feature19</th>\n",
       "      <th>numerical_feature20</th>\n",
       "      <th>numerical_feature21</th>\n",
       "      <th>target</th>\n",
       "    </tr>\n",
       "  </thead>\n",
       "  <tbody>\n",
       "    <tr>\n",
       "      <th>0</th>\n",
       "      <td>1</td>\n",
       "      <td>6</td>\n",
       "      <td>28</td>\n",
       "      <td>-1.293887</td>\n",
       "      <td>0</td>\n",
       "      <td>-0.202881</td>\n",
       "      <td>-0.148187</td>\n",
       "      <td>-0.915432</td>\n",
       "      <td>0.123721</td>\n",
       "      <td>0.067026</td>\n",
       "      <td>-0.174143</td>\n",
       "      <td>-0.679518</td>\n",
       "      <td>-0.419538</td>\n",
       "      <td>-0.085589</td>\n",
       "      <td>-0.907569</td>\n",
       "      <td>0.158600</td>\n",
       "      <td>0.080291</td>\n",
       "      <td>-0.197479</td>\n",
       "      <td>-0.756770</td>\n",
       "      <td>-0.410152</td>\n",
       "      <td>-1.145737</td>\n",
       "      <td>-1.135511</td>\n",
       "      <td>-0.368707</td>\n",
       "      <td>-0.692058</td>\n",
       "      <td>-0.176466</td>\n",
       "      <td>1</td>\n",
       "    </tr>\n",
       "    <tr>\n",
       "      <th>1</th>\n",
       "      <td>2</td>\n",
       "      <td>5</td>\n",
       "      <td>9</td>\n",
       "      <td>2.046774</td>\n",
       "      <td>0</td>\n",
       "      <td>-0.202881</td>\n",
       "      <td>-0.429073</td>\n",
       "      <td>-1.381668</td>\n",
       "      <td>-0.153588</td>\n",
       "      <td>0.105036</td>\n",
       "      <td>0.340381</td>\n",
       "      <td>-0.358484</td>\n",
       "      <td>-1.187368</td>\n",
       "      <td>-0.225571</td>\n",
       "      <td>-1.322025</td>\n",
       "      <td>-0.036902</td>\n",
       "      <td>0.285351</td>\n",
       "      <td>0.574601</td>\n",
       "      <td>-0.367721</td>\n",
       "      <td>-1.378392</td>\n",
       "      <td>-0.797372</td>\n",
       "      <td>-0.857479</td>\n",
       "      <td>-0.315709</td>\n",
       "      <td>0.240003</td>\n",
       "      <td>-0.176466</td>\n",
       "      <td>0</td>\n",
       "    </tr>\n",
       "    <tr>\n",
       "      <th>2</th>\n",
       "      <td>3</td>\n",
       "      <td>6</td>\n",
       "      <td>13</td>\n",
       "      <td>1.789800</td>\n",
       "      <td>0</td>\n",
       "      <td>-0.202881</td>\n",
       "      <td>-0.268481</td>\n",
       "      <td>0.867711</td>\n",
       "      <td>-0.497171</td>\n",
       "      <td>-1.075316</td>\n",
       "      <td>-1.518250</td>\n",
       "      <td>0.797099</td>\n",
       "      <td>0.959080</td>\n",
       "      <td>-0.951920</td>\n",
       "      <td>0.394999</td>\n",
       "      <td>-1.006386</td>\n",
       "      <td>-1.337036</td>\n",
       "      <td>-0.733739</td>\n",
       "      <td>0.712635</td>\n",
       "      <td>0.309325</td>\n",
       "      <td>0.910619</td>\n",
       "      <td>0.606608</td>\n",
       "      <td>-0.594949</td>\n",
       "      <td>-0.651534</td>\n",
       "      <td>1.855187</td>\n",
       "      <td>0</td>\n",
       "    </tr>\n",
       "    <tr>\n",
       "      <th>3</th>\n",
       "      <td>4</td>\n",
       "      <td>7</td>\n",
       "      <td>19</td>\n",
       "      <td>0.504930</td>\n",
       "      <td>0</td>\n",
       "      <td>-0.202881</td>\n",
       "      <td>-0.619177</td>\n",
       "      <td>1.318468</td>\n",
       "      <td>-2.109093</td>\n",
       "      <td>-1.114104</td>\n",
       "      <td>0.327221</td>\n",
       "      <td>1.722900</td>\n",
       "      <td>0.683492</td>\n",
       "      <td>-1.416160</td>\n",
       "      <td>0.122735</td>\n",
       "      <td>-1.148890</td>\n",
       "      <td>-1.040386</td>\n",
       "      <td>-0.275062</td>\n",
       "      <td>0.653164</td>\n",
       "      <td>-0.116479</td>\n",
       "      <td>1.716941</td>\n",
       "      <td>1.326551</td>\n",
       "      <td>0.015649</td>\n",
       "      <td>0.158954</td>\n",
       "      <td>3.886840</td>\n",
       "      <td>0</td>\n",
       "    </tr>\n",
       "    <tr>\n",
       "      <th>4</th>\n",
       "      <td>5</td>\n",
       "      <td>3</td>\n",
       "      <td>9</td>\n",
       "      <td>-0.522965</td>\n",
       "      <td>0</td>\n",
       "      <td>-0.202881</td>\n",
       "      <td>-1.158597</td>\n",
       "      <td>-0.353492</td>\n",
       "      <td>-0.797533</td>\n",
       "      <td>-0.786577</td>\n",
       "      <td>-0.456209</td>\n",
       "      <td>0.208238</td>\n",
       "      <td>-0.321273</td>\n",
       "      <td>-1.166933</td>\n",
       "      <td>-0.011053</td>\n",
       "      <td>-0.923628</td>\n",
       "      <td>-0.995696</td>\n",
       "      <td>-0.493787</td>\n",
       "      <td>0.445493</td>\n",
       "      <td>-0.090425</td>\n",
       "      <td>-0.569411</td>\n",
       "      <td>-0.705167</td>\n",
       "      <td>-0.485654</td>\n",
       "      <td>-0.124716</td>\n",
       "      <td>-0.176466</td>\n",
       "      <td>1</td>\n",
       "    </tr>\n",
       "  </tbody>\n",
       "</table>\n",
       "</div>"
      ],
      "text/plain": [
       "   row_number  day_of_week  time_interval  numerical_feature1  \\\n",
       "0           1            6             28           -1.293887   \n",
       "1           2            5              9            2.046774   \n",
       "2           3            6             13            1.789800   \n",
       "3           4            7             19            0.504930   \n",
       "4           5            3              9           -0.522965   \n",
       "\n",
       "   binary_feature1  numerical_feature2  numerical_feature3  \\\n",
       "0                0           -0.202881           -0.148187   \n",
       "1                0           -0.202881           -0.429073   \n",
       "2                0           -0.202881           -0.268481   \n",
       "3                0           -0.202881           -0.619177   \n",
       "4                0           -0.202881           -1.158597   \n",
       "\n",
       "   numerical_feature4  numerical_feature5  numerical_feature6  \\\n",
       "0           -0.915432            0.123721            0.067026   \n",
       "1           -1.381668           -0.153588            0.105036   \n",
       "2            0.867711           -0.497171           -1.075316   \n",
       "3            1.318468           -2.109093           -1.114104   \n",
       "4           -0.353492           -0.797533           -0.786577   \n",
       "\n",
       "   numerical_feature7  numerical_feature8  numerical_feature9  \\\n",
       "0           -0.174143           -0.679518           -0.419538   \n",
       "1            0.340381           -0.358484           -1.187368   \n",
       "2           -1.518250            0.797099            0.959080   \n",
       "3            0.327221            1.722900            0.683492   \n",
       "4           -0.456209            0.208238           -0.321273   \n",
       "\n",
       "   numerical_feature10  numerical_feature11  numerical_feature12  \\\n",
       "0            -0.085589            -0.907569             0.158600   \n",
       "1            -0.225571            -1.322025            -0.036902   \n",
       "2            -0.951920             0.394999            -1.006386   \n",
       "3            -1.416160             0.122735            -1.148890   \n",
       "4            -1.166933            -0.011053            -0.923628   \n",
       "\n",
       "   numerical_feature13  numerical_feature14  numerical_feature15  \\\n",
       "0             0.080291            -0.197479            -0.756770   \n",
       "1             0.285351             0.574601            -0.367721   \n",
       "2            -1.337036            -0.733739             0.712635   \n",
       "3            -1.040386            -0.275062             0.653164   \n",
       "4            -0.995696            -0.493787             0.445493   \n",
       "\n",
       "   numerical_feature16  numerical_feature17  numerical_feature18  \\\n",
       "0            -0.410152            -1.145737            -1.135511   \n",
       "1            -1.378392            -0.797372            -0.857479   \n",
       "2             0.309325             0.910619             0.606608   \n",
       "3            -0.116479             1.716941             1.326551   \n",
       "4            -0.090425            -0.569411            -0.705167   \n",
       "\n",
       "   numerical_feature19  numerical_feature20  numerical_feature21  target  \n",
       "0            -0.368707            -0.692058            -0.176466       1  \n",
       "1            -0.315709             0.240003            -0.176466       0  \n",
       "2            -0.594949            -0.651534             1.855187       0  \n",
       "3             0.015649             0.158954             3.886840       0  \n",
       "4            -0.485654            -0.124716            -0.176466       1  "
      ]
     },
     "execution_count": 4,
     "metadata": {},
     "output_type": "execute_result"
    }
   ],
   "source": [
    "df.shape[0]\n",
    "df[:5]"
   ]
  },
  {
   "cell_type": "code",
   "execution_count": 5,
   "metadata": {
    "collapsed": false
   },
   "outputs": [
    {
     "data": {
      "text/plain": [
       "target                 1.000000\n",
       "numerical_feature1     0.350570\n",
       "numerical_feature17    0.261505\n",
       "numerical_feature18    0.260588\n",
       "numerical_feature21    0.162189\n",
       "Name: target, dtype: float64"
      ]
     },
     "execution_count": 5,
     "metadata": {},
     "output_type": "execute_result"
    }
   ],
   "source": [
    "df.corr()['target'].abs().sort_values(ascending=False)[:5]"
   ]
  },
  {
   "cell_type": "code",
   "execution_count": 6,
   "metadata": {
    "collapsed": false
   },
   "outputs": [
    {
     "name": "stderr",
     "output_type": "stream",
     "text": [
      "/Users/Evgeny/.virtualenvs/datascience/lib/python3.5/site-packages/numpy/lib/function_base.py:4116: RuntimeWarning: Invalid value encountered in percentile\n",
      "  interpolation=interpolation)\n"
     ]
    },
    {
     "data": {
      "text/html": [
       "<div>\n",
       "<table border=\"1\" class=\"dataframe\">\n",
       "  <thead>\n",
       "    <tr style=\"text-align: right;\">\n",
       "      <th></th>\n",
       "      <th>row_number</th>\n",
       "      <th>day_of_week</th>\n",
       "      <th>time_interval</th>\n",
       "      <th>numerical_feature1</th>\n",
       "      <th>binary_feature1</th>\n",
       "      <th>numerical_feature2</th>\n",
       "      <th>numerical_feature3</th>\n",
       "      <th>numerical_feature4</th>\n",
       "      <th>numerical_feature5</th>\n",
       "      <th>numerical_feature6</th>\n",
       "      <th>numerical_feature7</th>\n",
       "      <th>numerical_feature8</th>\n",
       "      <th>numerical_feature9</th>\n",
       "      <th>numerical_feature10</th>\n",
       "      <th>numerical_feature11</th>\n",
       "      <th>numerical_feature12</th>\n",
       "      <th>numerical_feature13</th>\n",
       "      <th>numerical_feature14</th>\n",
       "      <th>numerical_feature15</th>\n",
       "      <th>numerical_feature16</th>\n",
       "      <th>numerical_feature17</th>\n",
       "      <th>numerical_feature18</th>\n",
       "      <th>numerical_feature19</th>\n",
       "      <th>numerical_feature20</th>\n",
       "      <th>numerical_feature21</th>\n",
       "      <th>target</th>\n",
       "    </tr>\n",
       "  </thead>\n",
       "  <tbody>\n",
       "    <tr>\n",
       "      <th>count</th>\n",
       "      <td>18420.000000</td>\n",
       "      <td>18420.000000</td>\n",
       "      <td>18420.000000</td>\n",
       "      <td>18420.000000</td>\n",
       "      <td>18420.000000</td>\n",
       "      <td>18420.000000</td>\n",
       "      <td>18420.000000</td>\n",
       "      <td>18420.000000</td>\n",
       "      <td>18420.000000</td>\n",
       "      <td>18420.000000</td>\n",
       "      <td>18420.000000</td>\n",
       "      <td>18420.000000</td>\n",
       "      <td>18420.000000</td>\n",
       "      <td>18419.000000</td>\n",
       "      <td>18419.000000</td>\n",
       "      <td>18419.000000</td>\n",
       "      <td>18419.000000</td>\n",
       "      <td>18419.000000</td>\n",
       "      <td>18419.000000</td>\n",
       "      <td>18419.000000</td>\n",
       "      <td>18419.000000</td>\n",
       "      <td>18419.000000</td>\n",
       "      <td>18419.000000</td>\n",
       "      <td>18420.000000</td>\n",
       "      <td>18420.000000</td>\n",
       "      <td>18420.000000</td>\n",
       "    </tr>\n",
       "    <tr>\n",
       "      <th>mean</th>\n",
       "      <td>9210.500000</td>\n",
       "      <td>3.964495</td>\n",
       "      <td>15.626059</td>\n",
       "      <td>-0.004637</td>\n",
       "      <td>0.040011</td>\n",
       "      <td>-0.000295</td>\n",
       "      <td>0.003799</td>\n",
       "      <td>0.000736</td>\n",
       "      <td>0.005228</td>\n",
       "      <td>0.004205</td>\n",
       "      <td>0.002685</td>\n",
       "      <td>-0.002729</td>\n",
       "      <td>0.001871</td>\n",
       "      <td>0.006395</td>\n",
       "      <td>-0.000676</td>\n",
       "      <td>0.008141</td>\n",
       "      <td>0.006883</td>\n",
       "      <td>0.003906</td>\n",
       "      <td>-0.004815</td>\n",
       "      <td>0.000463</td>\n",
       "      <td>-0.005381</td>\n",
       "      <td>-0.005341</td>\n",
       "      <td>-0.002344</td>\n",
       "      <td>0.000445</td>\n",
       "      <td>-0.006500</td>\n",
       "      <td>0.499077</td>\n",
       "    </tr>\n",
       "    <tr>\n",
       "      <th>std</th>\n",
       "      <td>5317.540315</td>\n",
       "      <td>1.872689</td>\n",
       "      <td>10.576227</td>\n",
       "      <td>1.000443</td>\n",
       "      <td>0.195990</td>\n",
       "      <td>0.999527</td>\n",
       "      <td>1.008043</td>\n",
       "      <td>1.003409</td>\n",
       "      <td>1.005749</td>\n",
       "      <td>1.005374</td>\n",
       "      <td>1.001369</td>\n",
       "      <td>1.000152</td>\n",
       "      <td>1.004276</td>\n",
       "      <td>1.007227</td>\n",
       "      <td>1.004028</td>\n",
       "      <td>1.005808</td>\n",
       "      <td>1.006305</td>\n",
       "      <td>1.001639</td>\n",
       "      <td>0.998324</td>\n",
       "      <td>1.007471</td>\n",
       "      <td>0.997451</td>\n",
       "      <td>0.997268</td>\n",
       "      <td>1.007052</td>\n",
       "      <td>1.000764</td>\n",
       "      <td>0.987563</td>\n",
       "      <td>0.500013</td>\n",
       "    </tr>\n",
       "    <tr>\n",
       "      <th>min</th>\n",
       "      <td>1.000000</td>\n",
       "      <td>1.000000</td>\n",
       "      <td>0.000000</td>\n",
       "      <td>-1.807835</td>\n",
       "      <td>0.000000</td>\n",
       "      <td>-0.202881</td>\n",
       "      <td>-1.789510</td>\n",
       "      <td>-1.839408</td>\n",
       "      <td>-2.283283</td>\n",
       "      <td>-1.980911</td>\n",
       "      <td>-1.870994</td>\n",
       "      <td>-2.092420</td>\n",
       "      <td>-2.572195</td>\n",
       "      <td>-1.560905</td>\n",
       "      <td>-1.856822</td>\n",
       "      <td>-2.111801</td>\n",
       "      <td>-1.935753</td>\n",
       "      <td>-1.936510</td>\n",
       "      <td>-2.413073</td>\n",
       "      <td>-2.551180</td>\n",
       "      <td>-1.398410</td>\n",
       "      <td>-1.394246</td>\n",
       "      <td>-0.677634</td>\n",
       "      <td>-1.543071</td>\n",
       "      <td>-0.176466</td>\n",
       "      <td>0.000000</td>\n",
       "    </tr>\n",
       "    <tr>\n",
       "      <th>25%</th>\n",
       "      <td>4605.750000</td>\n",
       "      <td>2.000000</td>\n",
       "      <td>6.000000</td>\n",
       "      <td>-0.779939</td>\n",
       "      <td>0.000000</td>\n",
       "      <td>-0.202881</td>\n",
       "      <td>-0.690041</td>\n",
       "      <td>-0.741257</td>\n",
       "      <td>-0.707542</td>\n",
       "      <td>-0.770828</td>\n",
       "      <td>-0.694720</td>\n",
       "      <td>-0.643349</td>\n",
       "      <td>-0.492581</td>\n",
       "      <td>NaN</td>\n",
       "      <td>NaN</td>\n",
       "      <td>NaN</td>\n",
       "      <td>NaN</td>\n",
       "      <td>NaN</td>\n",
       "      <td>NaN</td>\n",
       "      <td>NaN</td>\n",
       "      <td>NaN</td>\n",
       "      <td>NaN</td>\n",
       "      <td>NaN</td>\n",
       "      <td>-0.651534</td>\n",
       "      <td>-0.176466</td>\n",
       "      <td>0.000000</td>\n",
       "    </tr>\n",
       "    <tr>\n",
       "      <th>50%</th>\n",
       "      <td>9210.500000</td>\n",
       "      <td>4.000000</td>\n",
       "      <td>14.000000</td>\n",
       "      <td>-0.265991</td>\n",
       "      <td>0.000000</td>\n",
       "      <td>-0.202881</td>\n",
       "      <td>-0.094823</td>\n",
       "      <td>-0.162567</td>\n",
       "      <td>-0.036937</td>\n",
       "      <td>-0.043635</td>\n",
       "      <td>-0.114775</td>\n",
       "      <td>0.029001</td>\n",
       "      <td>-0.083286</td>\n",
       "      <td>NaN</td>\n",
       "      <td>NaN</td>\n",
       "      <td>NaN</td>\n",
       "      <td>NaN</td>\n",
       "      <td>NaN</td>\n",
       "      <td>NaN</td>\n",
       "      <td>NaN</td>\n",
       "      <td>NaN</td>\n",
       "      <td>NaN</td>\n",
       "      <td>NaN</td>\n",
       "      <td>-0.286814</td>\n",
       "      <td>-0.176466</td>\n",
       "      <td>0.000000</td>\n",
       "    </tr>\n",
       "    <tr>\n",
       "      <th>75%</th>\n",
       "      <td>13815.250000</td>\n",
       "      <td>5.000000</td>\n",
       "      <td>25.000000</td>\n",
       "      <td>0.504930</td>\n",
       "      <td>0.000000</td>\n",
       "      <td>-0.202881</td>\n",
       "      <td>0.597771</td>\n",
       "      <td>0.665734</td>\n",
       "      <td>0.668696</td>\n",
       "      <td>0.719044</td>\n",
       "      <td>0.634048</td>\n",
       "      <td>0.680481</td>\n",
       "      <td>0.575705</td>\n",
       "      <td>NaN</td>\n",
       "      <td>NaN</td>\n",
       "      <td>NaN</td>\n",
       "      <td>NaN</td>\n",
       "      <td>NaN</td>\n",
       "      <td>NaN</td>\n",
       "      <td>NaN</td>\n",
       "      <td>NaN</td>\n",
       "      <td>NaN</td>\n",
       "      <td>NaN</td>\n",
       "      <td>0.402101</td>\n",
       "      <td>-0.176466</td>\n",
       "      <td>1.000000</td>\n",
       "    </tr>\n",
       "    <tr>\n",
       "      <th>max</th>\n",
       "      <td>18420.000000</td>\n",
       "      <td>7.000000</td>\n",
       "      <td>35.000000</td>\n",
       "      <td>5.901382</td>\n",
       "      <td>1.000000</td>\n",
       "      <td>9.879596</td>\n",
       "      <td>17.882610</td>\n",
       "      <td>18.408528</td>\n",
       "      <td>15.934948</td>\n",
       "      <td>15.604594</td>\n",
       "      <td>15.208451</td>\n",
       "      <td>13.258007</td>\n",
       "      <td>17.480824</td>\n",
       "      <td>17.169138</td>\n",
       "      <td>18.733943</td>\n",
       "      <td>15.795156</td>\n",
       "      <td>16.117432</td>\n",
       "      <td>16.000404</td>\n",
       "      <td>14.560901</td>\n",
       "      <td>17.859575</td>\n",
       "      <td>4.846631</td>\n",
       "      <td>4.758302</td>\n",
       "      <td>19.072898</td>\n",
       "      <td>6.197090</td>\n",
       "      <td>20.140064</td>\n",
       "      <td>1.000000</td>\n",
       "    </tr>\n",
       "  </tbody>\n",
       "</table>\n",
       "</div>"
      ],
      "text/plain": [
       "         row_number   day_of_week  time_interval  numerical_feature1  \\\n",
       "count  18420.000000  18420.000000   18420.000000        18420.000000   \n",
       "mean    9210.500000      3.964495      15.626059           -0.004637   \n",
       "std     5317.540315      1.872689      10.576227            1.000443   \n",
       "min        1.000000      1.000000       0.000000           -1.807835   \n",
       "25%     4605.750000      2.000000       6.000000           -0.779939   \n",
       "50%     9210.500000      4.000000      14.000000           -0.265991   \n",
       "75%    13815.250000      5.000000      25.000000            0.504930   \n",
       "max    18420.000000      7.000000      35.000000            5.901382   \n",
       "\n",
       "       binary_feature1  numerical_feature2  numerical_feature3  \\\n",
       "count     18420.000000        18420.000000        18420.000000   \n",
       "mean          0.040011           -0.000295            0.003799   \n",
       "std           0.195990            0.999527            1.008043   \n",
       "min           0.000000           -0.202881           -1.789510   \n",
       "25%           0.000000           -0.202881           -0.690041   \n",
       "50%           0.000000           -0.202881           -0.094823   \n",
       "75%           0.000000           -0.202881            0.597771   \n",
       "max           1.000000            9.879596           17.882610   \n",
       "\n",
       "       numerical_feature4  numerical_feature5  numerical_feature6  \\\n",
       "count        18420.000000        18420.000000        18420.000000   \n",
       "mean             0.000736            0.005228            0.004205   \n",
       "std              1.003409            1.005749            1.005374   \n",
       "min             -1.839408           -2.283283           -1.980911   \n",
       "25%             -0.741257           -0.707542           -0.770828   \n",
       "50%             -0.162567           -0.036937           -0.043635   \n",
       "75%              0.665734            0.668696            0.719044   \n",
       "max             18.408528           15.934948           15.604594   \n",
       "\n",
       "       numerical_feature7  numerical_feature8  numerical_feature9  \\\n",
       "count        18420.000000        18420.000000        18420.000000   \n",
       "mean             0.002685           -0.002729            0.001871   \n",
       "std              1.001369            1.000152            1.004276   \n",
       "min             -1.870994           -2.092420           -2.572195   \n",
       "25%             -0.694720           -0.643349           -0.492581   \n",
       "50%             -0.114775            0.029001           -0.083286   \n",
       "75%              0.634048            0.680481            0.575705   \n",
       "max             15.208451           13.258007           17.480824   \n",
       "\n",
       "       numerical_feature10  numerical_feature11  numerical_feature12  \\\n",
       "count         18419.000000         18419.000000         18419.000000   \n",
       "mean              0.006395            -0.000676             0.008141   \n",
       "std               1.007227             1.004028             1.005808   \n",
       "min              -1.560905            -1.856822            -2.111801   \n",
       "25%                    NaN                  NaN                  NaN   \n",
       "50%                    NaN                  NaN                  NaN   \n",
       "75%                    NaN                  NaN                  NaN   \n",
       "max              17.169138            18.733943            15.795156   \n",
       "\n",
       "       numerical_feature13  numerical_feature14  numerical_feature15  \\\n",
       "count         18419.000000         18419.000000         18419.000000   \n",
       "mean              0.006883             0.003906            -0.004815   \n",
       "std               1.006305             1.001639             0.998324   \n",
       "min              -1.935753            -1.936510            -2.413073   \n",
       "25%                    NaN                  NaN                  NaN   \n",
       "50%                    NaN                  NaN                  NaN   \n",
       "75%                    NaN                  NaN                  NaN   \n",
       "max              16.117432            16.000404            14.560901   \n",
       "\n",
       "       numerical_feature16  numerical_feature17  numerical_feature18  \\\n",
       "count         18419.000000         18419.000000         18419.000000   \n",
       "mean              0.000463            -0.005381            -0.005341   \n",
       "std               1.007471             0.997451             0.997268   \n",
       "min              -2.551180            -1.398410            -1.394246   \n",
       "25%                    NaN                  NaN                  NaN   \n",
       "50%                    NaN                  NaN                  NaN   \n",
       "75%                    NaN                  NaN                  NaN   \n",
       "max              17.859575             4.846631             4.758302   \n",
       "\n",
       "       numerical_feature19  numerical_feature20  numerical_feature21  \\\n",
       "count         18419.000000         18420.000000         18420.000000   \n",
       "mean             -0.002344             0.000445            -0.006500   \n",
       "std               1.007052             1.000764             0.987563   \n",
       "min              -0.677634            -1.543071            -0.176466   \n",
       "25%                    NaN            -0.651534            -0.176466   \n",
       "50%                    NaN            -0.286814            -0.176466   \n",
       "75%                    NaN             0.402101            -0.176466   \n",
       "max              19.072898             6.197090            20.140064   \n",
       "\n",
       "             target  \n",
       "count  18420.000000  \n",
       "mean       0.499077  \n",
       "std        0.500013  \n",
       "min        0.000000  \n",
       "25%        0.000000  \n",
       "50%        0.000000  \n",
       "75%        1.000000  \n",
       "max        1.000000  "
      ]
     },
     "execution_count": 6,
     "metadata": {},
     "output_type": "execute_result"
    },
    {
     "data": {
      "text/html": [
       "<div>\n",
       "<table border=\"1\" class=\"dataframe\">\n",
       "  <thead>\n",
       "    <tr style=\"text-align: right;\">\n",
       "      <th></th>\n",
       "      <th>row_number</th>\n",
       "      <th>day_of_week</th>\n",
       "      <th>time_interval</th>\n",
       "      <th>numerical_feature1</th>\n",
       "      <th>binary_feature1</th>\n",
       "      <th>numerical_feature2</th>\n",
       "      <th>numerical_feature3</th>\n",
       "      <th>numerical_feature4</th>\n",
       "      <th>numerical_feature5</th>\n",
       "      <th>numerical_feature6</th>\n",
       "      <th>numerical_feature7</th>\n",
       "      <th>numerical_feature8</th>\n",
       "      <th>numerical_feature9</th>\n",
       "      <th>numerical_feature10</th>\n",
       "      <th>numerical_feature11</th>\n",
       "      <th>numerical_feature12</th>\n",
       "      <th>numerical_feature13</th>\n",
       "      <th>numerical_feature14</th>\n",
       "      <th>numerical_feature15</th>\n",
       "      <th>numerical_feature16</th>\n",
       "      <th>numerical_feature17</th>\n",
       "      <th>numerical_feature18</th>\n",
       "      <th>numerical_feature19</th>\n",
       "      <th>numerical_feature20</th>\n",
       "      <th>numerical_feature21</th>\n",
       "    </tr>\n",
       "  </thead>\n",
       "  <tbody>\n",
       "    <tr>\n",
       "      <th>count</th>\n",
       "      <td>4606.000</td>\n",
       "      <td>4606.000000</td>\n",
       "      <td>4606.000000</td>\n",
       "      <td>4606.000000</td>\n",
       "      <td>4606.000000</td>\n",
       "      <td>4606.000000</td>\n",
       "      <td>4606.000000</td>\n",
       "      <td>4606.000000</td>\n",
       "      <td>4606.000000</td>\n",
       "      <td>4606.000000</td>\n",
       "      <td>4606.000000</td>\n",
       "      <td>4606.000000</td>\n",
       "      <td>4606.000000</td>\n",
       "      <td>4605.000000</td>\n",
       "      <td>4605.000000</td>\n",
       "      <td>4605.000000</td>\n",
       "      <td>4605.000000</td>\n",
       "      <td>4605.000000</td>\n",
       "      <td>4605.000000</td>\n",
       "      <td>4605.000000</td>\n",
       "      <td>4605.000000</td>\n",
       "      <td>4605.000000</td>\n",
       "      <td>4605.000000</td>\n",
       "      <td>4606.000000</td>\n",
       "      <td>4606.000000</td>\n",
       "    </tr>\n",
       "    <tr>\n",
       "      <th>mean</th>\n",
       "      <td>2303.500</td>\n",
       "      <td>3.985888</td>\n",
       "      <td>15.597482</td>\n",
       "      <td>0.018543</td>\n",
       "      <td>0.040599</td>\n",
       "      <td>0.001181</td>\n",
       "      <td>-0.015193</td>\n",
       "      <td>-0.002943</td>\n",
       "      <td>-0.020909</td>\n",
       "      <td>-0.016817</td>\n",
       "      <td>-0.010739</td>\n",
       "      <td>0.010915</td>\n",
       "      <td>-0.007482</td>\n",
       "      <td>-0.025579</td>\n",
       "      <td>0.002702</td>\n",
       "      <td>-0.032563</td>\n",
       "      <td>-0.027532</td>\n",
       "      <td>-0.015625</td>\n",
       "      <td>0.019260</td>\n",
       "      <td>-0.001853</td>\n",
       "      <td>0.021521</td>\n",
       "      <td>0.021362</td>\n",
       "      <td>0.009375</td>\n",
       "      <td>-0.001780</td>\n",
       "      <td>0.025994</td>\n",
       "    </tr>\n",
       "    <tr>\n",
       "      <th>std</th>\n",
       "      <td>1329.782</td>\n",
       "      <td>1.895883</td>\n",
       "      <td>10.669955</td>\n",
       "      <td>0.998119</td>\n",
       "      <td>0.197381</td>\n",
       "      <td>1.001998</td>\n",
       "      <td>0.967124</td>\n",
       "      <td>0.986352</td>\n",
       "      <td>0.976500</td>\n",
       "      <td>0.978139</td>\n",
       "      <td>0.994544</td>\n",
       "      <td>0.999424</td>\n",
       "      <td>0.982788</td>\n",
       "      <td>0.970242</td>\n",
       "      <td>0.983827</td>\n",
       "      <td>0.975852</td>\n",
       "      <td>0.973995</td>\n",
       "      <td>0.993374</td>\n",
       "      <td>1.006554</td>\n",
       "      <td>0.969646</td>\n",
       "      <td>1.009953</td>\n",
       "      <td>1.010681</td>\n",
       "      <td>0.971333</td>\n",
       "      <td>0.997044</td>\n",
       "      <td>1.047970</td>\n",
       "    </tr>\n",
       "    <tr>\n",
       "      <th>min</th>\n",
       "      <td>1.000</td>\n",
       "      <td>1.000000</td>\n",
       "      <td>0.000000</td>\n",
       "      <td>-1.807835</td>\n",
       "      <td>0.000000</td>\n",
       "      <td>-0.202881</td>\n",
       "      <td>-1.788199</td>\n",
       "      <td>-1.828044</td>\n",
       "      <td>-2.283283</td>\n",
       "      <td>-1.978166</td>\n",
       "      <td>-1.854289</td>\n",
       "      <td>-2.053969</td>\n",
       "      <td>-2.499387</td>\n",
       "      <td>-1.550014</td>\n",
       "      <td>-1.834461</td>\n",
       "      <td>-2.119922</td>\n",
       "      <td>-1.912597</td>\n",
       "      <td>-1.948652</td>\n",
       "      <td>-2.385950</td>\n",
       "      <td>-2.540920</td>\n",
       "      <td>-1.397812</td>\n",
       "      <td>-1.393617</td>\n",
       "      <td>-0.635016</td>\n",
       "      <td>-1.543071</td>\n",
       "      <td>-0.176466</td>\n",
       "    </tr>\n",
       "    <tr>\n",
       "      <th>25%</th>\n",
       "      <td>1152.250</td>\n",
       "      <td>2.000000</td>\n",
       "      <td>6.000000</td>\n",
       "      <td>-0.779939</td>\n",
       "      <td>0.000000</td>\n",
       "      <td>-0.202881</td>\n",
       "      <td>-0.691775</td>\n",
       "      <td>-0.749689</td>\n",
       "      <td>-0.715963</td>\n",
       "      <td>-0.766546</td>\n",
       "      <td>-0.715866</td>\n",
       "      <td>-0.638647</td>\n",
       "      <td>-0.514883</td>\n",
       "      <td>NaN</td>\n",
       "      <td>NaN</td>\n",
       "      <td>NaN</td>\n",
       "      <td>NaN</td>\n",
       "      <td>NaN</td>\n",
       "      <td>NaN</td>\n",
       "      <td>NaN</td>\n",
       "      <td>NaN</td>\n",
       "      <td>NaN</td>\n",
       "      <td>NaN</td>\n",
       "      <td>-0.651534</td>\n",
       "      <td>-0.176466</td>\n",
       "    </tr>\n",
       "    <tr>\n",
       "      <th>50%</th>\n",
       "      <td>2303.500</td>\n",
       "      <td>4.000000</td>\n",
       "      <td>14.000000</td>\n",
       "      <td>-0.009017</td>\n",
       "      <td>0.000000</td>\n",
       "      <td>-0.202881</td>\n",
       "      <td>-0.103263</td>\n",
       "      <td>-0.170131</td>\n",
       "      <td>-0.048276</td>\n",
       "      <td>-0.081485</td>\n",
       "      <td>-0.115258</td>\n",
       "      <td>0.054411</td>\n",
       "      <td>-0.094082</td>\n",
       "      <td>NaN</td>\n",
       "      <td>NaN</td>\n",
       "      <td>NaN</td>\n",
       "      <td>NaN</td>\n",
       "      <td>NaN</td>\n",
       "      <td>NaN</td>\n",
       "      <td>NaN</td>\n",
       "      <td>NaN</td>\n",
       "      <td>NaN</td>\n",
       "      <td>NaN</td>\n",
       "      <td>-0.286814</td>\n",
       "      <td>-0.176466</td>\n",
       "    </tr>\n",
       "    <tr>\n",
       "      <th>75%</th>\n",
       "      <td>3454.750</td>\n",
       "      <td>5.000000</td>\n",
       "      <td>25.000000</td>\n",
       "      <td>0.504930</td>\n",
       "      <td>0.000000</td>\n",
       "      <td>-0.202881</td>\n",
       "      <td>0.588268</td>\n",
       "      <td>0.654850</td>\n",
       "      <td>0.639534</td>\n",
       "      <td>0.693918</td>\n",
       "      <td>0.607256</td>\n",
       "      <td>0.680481</td>\n",
       "      <td>0.587147</td>\n",
       "      <td>NaN</td>\n",
       "      <td>NaN</td>\n",
       "      <td>NaN</td>\n",
       "      <td>NaN</td>\n",
       "      <td>NaN</td>\n",
       "      <td>NaN</td>\n",
       "      <td>NaN</td>\n",
       "      <td>NaN</td>\n",
       "      <td>NaN</td>\n",
       "      <td>NaN</td>\n",
       "      <td>0.402101</td>\n",
       "      <td>-0.176466</td>\n",
       "    </tr>\n",
       "    <tr>\n",
       "      <th>max</th>\n",
       "      <td>4606.000</td>\n",
       "      <td>7.000000</td>\n",
       "      <td>35.000000</td>\n",
       "      <td>5.387434</td>\n",
       "      <td>1.000000</td>\n",
       "      <td>10.626446</td>\n",
       "      <td>5.201711</td>\n",
       "      <td>4.928027</td>\n",
       "      <td>4.717585</td>\n",
       "      <td>5.279611</td>\n",
       "      <td>5.570260</td>\n",
       "      <td>4.704657</td>\n",
       "      <td>4.775193</td>\n",
       "      <td>5.293866</td>\n",
       "      <td>5.481027</td>\n",
       "      <td>4.966087</td>\n",
       "      <td>5.688757</td>\n",
       "      <td>5.998763</td>\n",
       "      <td>5.160179</td>\n",
       "      <td>5.547135</td>\n",
       "      <td>4.708229</td>\n",
       "      <td>4.528985</td>\n",
       "      <td>10.021254</td>\n",
       "      <td>6.197090</td>\n",
       "      <td>20.140064</td>\n",
       "    </tr>\n",
       "  </tbody>\n",
       "</table>\n",
       "</div>"
      ],
      "text/plain": [
       "       row_number  day_of_week  time_interval  numerical_feature1  \\\n",
       "count    4606.000  4606.000000    4606.000000         4606.000000   \n",
       "mean     2303.500     3.985888      15.597482            0.018543   \n",
       "std      1329.782     1.895883      10.669955            0.998119   \n",
       "min         1.000     1.000000       0.000000           -1.807835   \n",
       "25%      1152.250     2.000000       6.000000           -0.779939   \n",
       "50%      2303.500     4.000000      14.000000           -0.009017   \n",
       "75%      3454.750     5.000000      25.000000            0.504930   \n",
       "max      4606.000     7.000000      35.000000            5.387434   \n",
       "\n",
       "       binary_feature1  numerical_feature2  numerical_feature3  \\\n",
       "count      4606.000000         4606.000000         4606.000000   \n",
       "mean          0.040599            0.001181           -0.015193   \n",
       "std           0.197381            1.001998            0.967124   \n",
       "min           0.000000           -0.202881           -1.788199   \n",
       "25%           0.000000           -0.202881           -0.691775   \n",
       "50%           0.000000           -0.202881           -0.103263   \n",
       "75%           0.000000           -0.202881            0.588268   \n",
       "max           1.000000           10.626446            5.201711   \n",
       "\n",
       "       numerical_feature4  numerical_feature5  numerical_feature6  \\\n",
       "count         4606.000000         4606.000000         4606.000000   \n",
       "mean            -0.002943           -0.020909           -0.016817   \n",
       "std              0.986352            0.976500            0.978139   \n",
       "min             -1.828044           -2.283283           -1.978166   \n",
       "25%             -0.749689           -0.715963           -0.766546   \n",
       "50%             -0.170131           -0.048276           -0.081485   \n",
       "75%              0.654850            0.639534            0.693918   \n",
       "max              4.928027            4.717585            5.279611   \n",
       "\n",
       "       numerical_feature7  numerical_feature8  numerical_feature9  \\\n",
       "count         4606.000000         4606.000000         4606.000000   \n",
       "mean            -0.010739            0.010915           -0.007482   \n",
       "std              0.994544            0.999424            0.982788   \n",
       "min             -1.854289           -2.053969           -2.499387   \n",
       "25%             -0.715866           -0.638647           -0.514883   \n",
       "50%             -0.115258            0.054411           -0.094082   \n",
       "75%              0.607256            0.680481            0.587147   \n",
       "max              5.570260            4.704657            4.775193   \n",
       "\n",
       "       numerical_feature10  numerical_feature11  numerical_feature12  \\\n",
       "count          4605.000000          4605.000000          4605.000000   \n",
       "mean             -0.025579             0.002702            -0.032563   \n",
       "std               0.970242             0.983827             0.975852   \n",
       "min              -1.550014            -1.834461            -2.119922   \n",
       "25%                    NaN                  NaN                  NaN   \n",
       "50%                    NaN                  NaN                  NaN   \n",
       "75%                    NaN                  NaN                  NaN   \n",
       "max               5.293866             5.481027             4.966087   \n",
       "\n",
       "       numerical_feature13  numerical_feature14  numerical_feature15  \\\n",
       "count          4605.000000          4605.000000          4605.000000   \n",
       "mean             -0.027532            -0.015625             0.019260   \n",
       "std               0.973995             0.993374             1.006554   \n",
       "min              -1.912597            -1.948652            -2.385950   \n",
       "25%                    NaN                  NaN                  NaN   \n",
       "50%                    NaN                  NaN                  NaN   \n",
       "75%                    NaN                  NaN                  NaN   \n",
       "max               5.688757             5.998763             5.160179   \n",
       "\n",
       "       numerical_feature16  numerical_feature17  numerical_feature18  \\\n",
       "count          4605.000000          4605.000000          4605.000000   \n",
       "mean             -0.001853             0.021521             0.021362   \n",
       "std               0.969646             1.009953             1.010681   \n",
       "min              -2.540920            -1.397812            -1.393617   \n",
       "25%                    NaN                  NaN                  NaN   \n",
       "50%                    NaN                  NaN                  NaN   \n",
       "75%                    NaN                  NaN                  NaN   \n",
       "max               5.547135             4.708229             4.528985   \n",
       "\n",
       "       numerical_feature19  numerical_feature20  numerical_feature21  \n",
       "count          4605.000000          4606.000000          4606.000000  \n",
       "mean              0.009375            -0.001780             0.025994  \n",
       "std               0.971333             0.997044             1.047970  \n",
       "min              -0.635016            -1.543071            -0.176466  \n",
       "25%                    NaN            -0.651534            -0.176466  \n",
       "50%                    NaN            -0.286814            -0.176466  \n",
       "75%                    NaN             0.402101            -0.176466  \n",
       "max              10.021254             6.197090            20.140064  "
      ]
     },
     "execution_count": 6,
     "metadata": {},
     "output_type": "execute_result"
    }
   ],
   "source": [
    "df.describe()\n",
    "df_test.describe()"
   ]
  },
  {
   "cell_type": "markdown",
   "metadata": {},
   "source": [
    "we see that for some of features there NA in one line. As it's relatively rare case let's jst fill na with mean value"
   ]
  },
  {
   "cell_type": "code",
   "execution_count": 7,
   "metadata": {
    "collapsed": false
   },
   "outputs": [],
   "source": [
    "df = df.fillna(df.mean())\n",
    "df_test = df_test.fillna(df_test.mean())"
   ]
  },
  {
   "cell_type": "markdown",
   "metadata": {},
   "source": [
    "looks like we have 2 outliers in train set with index 4296 and 39. Let's remove them"
   ]
  },
  {
   "cell_type": "code",
   "execution_count": 8,
   "metadata": {
    "collapsed": false
   },
   "outputs": [
    {
     "data": {
      "text/plain": [
       "4885    5.901382\n",
       "5867    5.901382\n",
       "9626    5.644408\n",
       "Name: numerical_feature1, dtype: float64"
      ]
     },
     "execution_count": 8,
     "metadata": {},
     "output_type": "execute_result"
    },
    {
     "data": {
      "text/plain": [
       "8370    9.879596\n",
       "5048    8.759321\n",
       "23      8.012470\n",
       "Name: numerical_feature2, dtype: float64"
      ]
     },
     "execution_count": 8,
     "metadata": {},
     "output_type": "execute_result"
    },
    {
     "data": {
      "text/plain": [
       "4296    17.882610\n",
       "39      10.800253\n",
       "8746     6.840987\n",
       "Name: numerical_feature3, dtype: float64"
      ]
     },
     "execution_count": 8,
     "metadata": {},
     "output_type": "execute_result"
    },
    {
     "data": {
      "text/plain": [
       "4296     18.408528\n",
       "39       11.323055\n",
       "17275     6.393609\n",
       "Name: numerical_feature4, dtype: float64"
      ]
     },
     "execution_count": 8,
     "metadata": {},
     "output_type": "execute_result"
    },
    {
     "data": {
      "text/plain": [
       "4296    15.934948\n",
       "39       9.462586\n",
       "8746     6.369004\n",
       "Name: numerical_feature5, dtype: float64"
      ]
     },
     "execution_count": 8,
     "metadata": {},
     "output_type": "execute_result"
    },
    {
     "data": {
      "text/plain": [
       "4296    15.604594\n",
       "39       8.999227\n",
       "8746     6.331738\n",
       "Name: numerical_feature6, dtype: float64"
      ]
     },
     "execution_count": 8,
     "metadata": {},
     "output_type": "execute_result"
    },
    {
     "data": {
      "text/plain": [
       "4296     15.208451\n",
       "39        8.347681\n",
       "10432     5.932634\n",
       "Name: numerical_feature7, dtype: float64"
      ]
     },
     "execution_count": 8,
     "metadata": {},
     "output_type": "execute_result"
    },
    {
     "data": {
      "text/plain": [
       "4296     13.258007\n",
       "39        7.751712\n",
       "10432     6.049143\n",
       "Name: numerical_feature8, dtype: float64"
      ]
     },
     "execution_count": 8,
     "metadata": {},
     "output_type": "execute_result"
    },
    {
     "data": {
      "text/plain": [
       "4296     17.480824\n",
       "39       10.982328\n",
       "17275     6.311432\n",
       "Name: numerical_feature9, dtype: float64"
      ]
     },
     "execution_count": 8,
     "metadata": {},
     "output_type": "execute_result"
    },
    {
     "data": {
      "text/plain": [
       "4296    17.169138\n",
       "39      10.325617\n",
       "8746     6.664346\n",
       "Name: numerical_feature10, dtype: float64"
      ]
     },
     "execution_count": 8,
     "metadata": {},
     "output_type": "execute_result"
    },
    {
     "data": {
      "text/plain": [
       "4296     18.733943\n",
       "39       11.405693\n",
       "10432     6.934758\n",
       "Name: numerical_feature11, dtype: float64"
      ]
     },
     "execution_count": 8,
     "metadata": {},
     "output_type": "execute_result"
    },
    {
     "data": {
      "text/plain": [
       "4296    15.795156\n",
       "39       9.339502\n",
       "8746     6.391592\n",
       "Name: numerical_feature12, dtype: float64"
      ]
     },
     "execution_count": 8,
     "metadata": {},
     "output_type": "execute_result"
    },
    {
     "data": {
      "text/plain": [
       "4296    16.117432\n",
       "39       9.238737\n",
       "8746     6.600548\n",
       "Name: numerical_feature13, dtype: float64"
      ]
     },
     "execution_count": 8,
     "metadata": {},
     "output_type": "execute_result"
    },
    {
     "data": {
      "text/plain": [
       "4296     16.000404\n",
       "39        8.686749\n",
       "10432     6.603028\n",
       "Name: numerical_feature14, dtype: float64"
      ]
     },
     "execution_count": 8,
     "metadata": {},
     "output_type": "execute_result"
    },
    {
     "data": {
      "text/plain": [
       "4296     14.560901\n",
       "39        8.355986\n",
       "10432     6.963119\n",
       "Name: numerical_feature15, dtype: float64"
      ]
     },
     "execution_count": 8,
     "metadata": {},
     "output_type": "execute_result"
    },
    {
     "data": {
      "text/plain": [
       "4296    17.859575\n",
       "39      11.117335\n",
       "124      6.418994\n",
       "Name: numerical_feature16, dtype: float64"
      ]
     },
     "execution_count": 8,
     "metadata": {},
     "output_type": "execute_result"
    },
    {
     "data": {
      "text/plain": [
       "12926    4.846631\n",
       "287      4.642878\n",
       "18238    4.610173\n",
       "Name: numerical_feature17, dtype: float64"
      ]
     },
     "execution_count": 8,
     "metadata": {},
     "output_type": "execute_result"
    },
    {
     "data": {
      "text/plain": [
       "13032    4.758302\n",
       "13770    4.582166\n",
       "8521     4.504659\n",
       "Name: numerical_feature18, dtype: float64"
      ]
     },
     "execution_count": 8,
     "metadata": {},
     "output_type": "execute_result"
    },
    {
     "data": {
      "text/plain": [
       "2739    19.072898\n",
       "9677    17.807809\n",
       "8325    14.807909\n",
       "Name: numerical_feature19, dtype: float64"
      ]
     },
     "execution_count": 8,
     "metadata": {},
     "output_type": "execute_result"
    },
    {
     "data": {
      "text/plain": [
       "10154    6.19709\n",
       "3377     6.19709\n",
       "13360    6.19709\n",
       "Name: numerical_feature20, dtype: float64"
      ]
     },
     "execution_count": 8,
     "metadata": {},
     "output_type": "execute_result"
    },
    {
     "data": {
      "text/plain": [
       "4598     20.140064\n",
       "18012    16.076758\n",
       "8710     16.076758\n",
       "Name: numerical_feature21, dtype: float64"
      ]
     },
     "execution_count": 8,
     "metadata": {},
     "output_type": "execute_result"
    }
   ],
   "source": [
    "#\n",
    "for i in range(1,22):    \n",
    "    df['numerical_feature{}'.format(i)].sort_values(ascending=0)[:3]"
   ]
  },
  {
   "cell_type": "code",
   "execution_count": 9,
   "metadata": {
    "collapsed": false
   },
   "outputs": [],
   "source": [
    "df = df.sort_values(by='numerical_feature3', ascending=False)[2:]"
   ]
  },
  {
   "cell_type": "markdown",
   "metadata": {},
   "source": [
    "According to names and distribution **row_number** and **day_of_week** are candidates for one hot encoding"
   ]
  },
  {
   "cell_type": "code",
   "execution_count": 10,
   "metadata": {
    "collapsed": false
   },
   "outputs": [],
   "source": [
    "# encode train set\n",
    "df = pd.get_dummies(df, prefix='wd_', columns=['day_of_week'])\n",
    "df = pd.get_dummies(df, prefix='ti_', columns=['time_interval'])\n",
    "# encode test set\n",
    "df_test = pd.get_dummies(df_test, prefix='wd_', columns=['day_of_week'])\n",
    "df_test = pd.get_dummies(df_test, prefix='ti_', columns=['time_interval'])"
   ]
  },
  {
   "cell_type": "code",
   "execution_count": 25,
   "metadata": {
    "collapsed": false
   },
   "outputs": [
    {
     "data": {
      "text/plain": [
       "0.4990769899011836"
      ]
     },
     "execution_count": 25,
     "metadata": {},
     "output_type": "execute_result"
    }
   ],
   "source": [
    "# answers are distributed almost equally\n",
    "df.target.sum()/df.shape[0]"
   ]
  },
  {
   "cell_type": "markdown",
   "metadata": {},
   "source": [
    "#  Checking models"
   ]
  },
  {
   "cell_type": "code",
   "execution_count": 87,
   "metadata": {
    "collapsed": true
   },
   "outputs": [],
   "source": [
    "from sklearn import svm\n",
    "from sklearn import metrics\n",
    "from sklearn import preprocessing\n",
    "from sklearn.model_selection import cross_val_predict\n",
    "from sklearn.model_selection import RandomizedSearchCV\n",
    "from sklearn.model_selection import train_test_split\n",
    "from sklearn.model_selection import GridSearchCV\n",
    "from sklearn.metrics import classification_report\n",
    "from scipy.stats import randint as sp_randint\n",
    "\n",
    "import scipy\n",
    "from sklearn.ensemble import RandomForestClassifier\n",
    "\n",
    "# get some dataimport numpy as np"
   ]
  },
  {
   "cell_type": "code",
   "execution_count": 39,
   "metadata": {
    "collapsed": true
   },
   "outputs": [],
   "source": [
    "def warn(*args, **kwargs):\n",
    "    pass\n",
    "import warnings\n",
    "warnings.warn = warn"
   ]
  },
  {
   "cell_type": "code",
   "execution_count": 72,
   "metadata": {
    "collapsed": false
   },
   "outputs": [],
   "source": [
    "def save_result(fname, arr):\n",
    "    with open('data/'+fname, 'w') as f:\n",
    "        f.write('row_number,prediction\\n')\n",
    "        c=1\n",
    "        for val in arr:\n",
    "            f.write('{},{}\\n'.format(c, val))\n",
    "            c += 1"
   ]
  },
  {
   "cell_type": "code",
   "execution_count": 33,
   "metadata": {
    "collapsed": true
   },
   "outputs": [],
   "source": [
    "X = df.drop(labels=['target'], axis=1)\n",
    "Y = df.target\n",
    "\n",
    "X_test = df_test"
   ]
  },
  {
   "cell_type": "code",
   "execution_count": 34,
   "metadata": {
    "collapsed": false
   },
   "outputs": [],
   "source": [
    "# scaling\n",
    "scaler = preprocessing.StandardScaler().fit(X)\n",
    "X = scaler.transform(X)\n",
    "X_test = scaler.transform(df_test)"
   ]
  },
  {
   "cell_type": "markdown",
   "metadata": {},
   "source": [
    "### SVM"
   ]
  },
  {
   "cell_type": "code",
   "execution_count": 66,
   "metadata": {
    "collapsed": false
   },
   "outputs": [
    {
     "name": "stdout",
     "output_type": "stream",
     "text": [
      "Fitting 3 folds for each of 10 candidates, totalling 30 fits\n",
      "[CV] gamma=0.464828139913, C=136.358217257, kernel=linear ............\n",
      "[CV] gamma=0.464828139913, C=136.358217257, kernel=linear ............\n",
      "[CV] gamma=0.464828139913, C=136.358217257, kernel=linear ............\n",
      "[CV] gamma=0.002108355201, C=88.8959157483, kernel=rbf ...............\n",
      "[CV] ...... gamma=0.002108355201, C=88.8959157483, kernel=rbf -   4.2s\n",
      "[CV] gamma=0.002108355201, C=88.8959157483, kernel=rbf ...............\n",
      "[CV] ...... gamma=0.002108355201, C=88.8959157483, kernel=rbf -   4.1s\n",
      "[CV] gamma=0.002108355201, C=88.8959157483, kernel=rbf ...............\n",
      "[CV] ...... gamma=0.002108355201, C=88.8959157483, kernel=rbf -   4.4s\n",
      "[CV] gamma=0.00503160069854, C=65.0743476334, kernel=rbf .............\n",
      "[CV] .... gamma=0.00503160069854, C=65.0743476334, kernel=rbf -   4.2s\n",
      "[CV] gamma=0.00503160069854, C=65.0743476334, kernel=rbf .............\n",
      "[CV] .... gamma=0.00503160069854, C=65.0743476334, kernel=rbf -   4.1s\n",
      "[CV] gamma=0.00503160069854, C=65.0743476334, kernel=rbf .............\n",
      "[CV] .... gamma=0.00503160069854, C=65.0743476334, kernel=rbf -   4.1s\n",
      "[CV] gamma=0.1599517346, C=1.66652128649, kernel=rbf .................\n",
      "[CV] ........ gamma=0.1599517346, C=1.66652128649, kernel=rbf -   5.9s\n",
      "[CV] gamma=0.1599517346, C=1.66652128649, kernel=rbf .................\n",
      "[CV] ........ gamma=0.1599517346, C=1.66652128649, kernel=rbf -   5.4s\n",
      "[CV] gamma=0.1599517346, C=1.66652128649, kernel=rbf .................\n",
      "[CV] ........ gamma=0.1599517346, C=1.66652128649, kernel=rbf -   5.1s\n",
      "[CV] gamma=0.12468366887, C=56.702518748, kernel=linear ..............\n",
      "[CV] ..... gamma=0.12468366887, C=56.702518748, kernel=linear -   3.4s\n",
      "[CV] gamma=0.12468366887, C=56.702518748, kernel=linear ..............\n",
      "[CV] ... gamma=0.464828139913, C=136.358217257, kernel=linear -   3.5s\n",
      "[CV] gamma=0.12468366887, C=56.702518748, kernel=linear ..............\n",
      "[CV] ... gamma=0.464828139913, C=136.358217257, kernel=linear -   3.6s\n",
      "[CV] gamma=0.0962790156618, C=85.3811537593, kernel=linear ...........\n",
      "[CV] ... gamma=0.464828139913, C=136.358217257, kernel=linear -   3.4s\n",
      "[CV] gamma=0.0962790156618, C=85.3811537593, kernel=linear ...........\n",
      "[CV] ..... gamma=0.12468366887, C=56.702518748, kernel=linear -   3.4s\n",
      "[CV] gamma=0.0962790156618, C=85.3811537593, kernel=linear ...........\n",
      "[CV] ..... gamma=0.12468366887, C=56.702518748, kernel=linear -   3.3s\n",
      "[CV] gamma=0.0736989354082, C=88.774620835, kernel=rbf ...............\n",
      "[CV] ...... gamma=0.0736989354082, C=88.774620835, kernel=rbf -   4.2s\n",
      "[CV] gamma=0.0736989354082, C=88.774620835, kernel=rbf ...............\n",
      "[CV] ...... gamma=0.0736989354082, C=88.774620835, kernel=rbf -   3.9s\n",
      "[CV] gamma=0.0736989354082, C=88.774620835, kernel=rbf ...............\n",
      "[CV] ...... gamma=0.0736989354082, C=88.774620835, kernel=rbf -   3.9s\n",
      "[CV] gamma=0.215564179075, C=131.014366549, kernel=linear ............\n",
      "[CV] .. gamma=0.0962790156618, C=85.3811537593, kernel=linear -   3.3s\n",
      "[CV] gamma=0.215564179075, C=131.014366549, kernel=linear ............\n",
      "[CV] .. gamma=0.0962790156618, C=85.3811537593, kernel=linear -   4.6s\n",
      "[CV] gamma=0.215564179075, C=131.014366549, kernel=linear ............\n",
      "[CV] .. gamma=0.0962790156618, C=85.3811537593, kernel=linear -   3.4s\n",
      "[CV] gamma=0.14087722933, C=79.3206743611, kernel=rbf ................\n",
      "[CV] ....... gamma=0.14087722933, C=79.3206743611, kernel=rbf -   4.8s\n",
      "[CV] gamma=0.14087722933, C=79.3206743611, kernel=rbf ................\n",
      "[CV] ....... gamma=0.14087722933, C=79.3206743611, kernel=rbf -   4.6s\n",
      "[CV] gamma=0.14087722933, C=79.3206743611, kernel=rbf ................\n",
      "[CV] ....... gamma=0.14087722933, C=79.3206743611, kernel=rbf -   4.6s\n",
      "[CV] gamma=0.00189322035878, C=71.9352397025, kernel=linear ..........\n",
      "[CV] ... gamma=0.215564179075, C=131.014366549, kernel=linear -   3.3s\n",
      "[CV] gamma=0.00189322035878, C=71.9352397025, kernel=linear ..........\n",
      "[CV] ... gamma=0.215564179075, C=131.014366549, kernel=linear -   3.2s\n",
      "[CV] gamma=0.00189322035878, C=71.9352397025, kernel=linear ..........\n",
      "[CV] . gamma=0.00189322035878, C=71.9352397025, kernel=linear -   3.4s\n",
      "[CV] ... gamma=0.215564179075, C=131.014366549, kernel=linear -   2.8s\n",
      "[CV] . gamma=0.00189322035878, C=71.9352397025, kernel=linear -   2.0s\n",
      "[CV] . gamma=0.00189322035878, C=71.9352397025, kernel=linear -   2.0s\n"
     ]
    },
    {
     "name": "stderr",
     "output_type": "stream",
     "text": [
      "[Parallel(n_jobs=-1)]: Done  30 out of  30 | elapsed: 51.5min finished\n"
     ]
    },
    {
     "data": {
      "text/plain": [
       "RandomizedSearchCV(cv=None, error_score='raise',\n",
       "          estimator=SVC(C=1.0, cache_size=200, class_weight=None, coef0=0.0,\n",
       "  decision_function_shape=None, degree=3, gamma='auto', kernel='rbf',\n",
       "  max_iter=-1, probability=False, random_state=None, shrinking=True,\n",
       "  tol=0.001, verbose=False),\n",
       "          fit_params={}, iid=True, n_iter=10, n_jobs=-1,\n",
       "          param_distributions={'gamma': <scipy.stats._distn_infrastructure.rv_frozen object at 0x10827d438>, 'C': <scipy.stats._distn_infrastructure.rv_frozen object at 0x114e292e8>, 'kernel': ['linear', 'rbf']},\n",
       "          pre_dispatch='2*n_jobs', random_state=None, refit=True,\n",
       "          return_train_score=True, scoring=None, verbose=2)"
      ]
     },
     "execution_count": 66,
     "metadata": {},
     "output_type": "execute_result"
    }
   ],
   "source": [
    "X_train, X_dev, Y_train, Y_dev = train_test_split(\n",
    "    X, Y, test_size=0.2, random_state=0)\n",
    "\n",
    "# Set the parameters by cross-validation\n",
    "tuned_parameters = [{'kernel': ['rbf'], 'gamma': [1e-3, 1e-4],\n",
    "                     'C': [1, 10, 100, 1000]},\n",
    "                    {'kernel': ['linear'], 'C': [1, 10, 100, 1000]}]\n",
    "\n",
    "\n",
    "# specify parameters and distributions to sample from\n",
    "param_dist = {\"kernel\": ['linear', 'rbf'],\n",
    "              'C': scipy.stats.expon(scale=100), \n",
    "              'gamma': scipy.stats.expon(scale=.1)\n",
    "              }\n",
    "\n",
    "clf = RandomizedSearchCV(svm.SVC(), param_distributions=param_dist, n_iter=10,verbose=2, n_jobs=-1)\n",
    "# clf = GridSearchCV(svm.SVC(C=1), tuned_parameters, cv=5,verbose=2, n_jobs=-1)\n",
    "clf.fit(X_train, Y_train)"
   ]
  },
  {
   "cell_type": "code",
   "execution_count": 68,
   "metadata": {
    "collapsed": false
   },
   "outputs": [
    {
     "name": "stdout",
     "output_type": "stream",
     "text": [
      "             precision    recall  f1-score   support\n",
      "\n",
      "          0       0.70      0.61      0.65      1806\n",
      "          1       0.67      0.75      0.71      1878\n",
      "\n",
      "avg / total       0.68      0.68      0.68      3684\n",
      "\n",
      "0.681867535288\n"
     ]
    }
   ],
   "source": [
    "Y_true, Y_pred = Y_dev, clf.predict(X_dev)\n",
    "\n",
    "print(classification_report(Y_true, Y_pred))\n",
    "\n",
    "print(metrics.accuracy_score(Y_true, Y_pred) )"
   ]
  },
  {
   "cell_type": "code",
   "execution_count": 70,
   "metadata": {
    "collapsed": false
   },
   "outputs": [
    {
     "data": {
      "text/plain": [
       "array([0, 0, 1, ..., 1, 0, 1])"
      ]
     },
     "execution_count": 70,
     "metadata": {},
     "output_type": "execute_result"
    }
   ],
   "source": [
    "pred = clf.predict(X_test)\n",
    "pred"
   ]
  },
  {
   "cell_type": "code",
   "execution_count": 73,
   "metadata": {
    "collapsed": false
   },
   "outputs": [],
   "source": [
    "save_result('SVM_RS.csv', pred)"
   ]
  },
  {
   "cell_type": "markdown",
   "metadata": {},
   "source": [
    "### RandomForest"
   ]
  },
  {
   "cell_type": "code",
   "execution_count": 80,
   "metadata": {
    "collapsed": false
   },
   "outputs": [],
   "source": [
    "X_train, X_dev, Y_train, Y_dev = train_test_split(\n",
    "    X, Y, test_size=0.2, random_state=31)\n",
    "clf_rf = RandomForestClassifier(n_estimators=20)"
   ]
  },
  {
   "cell_type": "code",
   "execution_count": 81,
   "metadata": {
    "collapsed": false
   },
   "outputs": [
    {
     "data": {
      "text/plain": [
       "RandomForestClassifier(bootstrap=True, class_weight=None, criterion='gini',\n",
       "            max_depth=None, max_features='auto', max_leaf_nodes=None,\n",
       "            min_impurity_split=1e-07, min_samples_leaf=1,\n",
       "            min_samples_split=2, min_weight_fraction_leaf=0.0,\n",
       "            n_estimators=20, n_jobs=1, oob_score=False, random_state=None,\n",
       "            verbose=0, warm_start=False)"
      ]
     },
     "execution_count": 81,
     "metadata": {},
     "output_type": "execute_result"
    }
   ],
   "source": [
    "clf_rf.fit(X_train, Y_train)"
   ]
  },
  {
   "cell_type": "code",
   "execution_count": 82,
   "metadata": {
    "collapsed": false
   },
   "outputs": [
    {
     "data": {
      "text/plain": [
       "0.66775244299674263"
      ]
     },
     "execution_count": 82,
     "metadata": {},
     "output_type": "execute_result"
    }
   ],
   "source": [
    "Y_true, Y_pred = Y_dev, clf_rf.predict(X_dev)\n",
    "metrics.accuracy_score(Y_true, Y_pred)"
   ]
  },
  {
   "cell_type": "code",
   "execution_count": 83,
   "metadata": {
    "collapsed": false
   },
   "outputs": [
    {
     "data": {
      "text/plain": [
       "array([1, 0, 0, ..., 1, 0, 1])"
      ]
     },
     "execution_count": 83,
     "metadata": {},
     "output_type": "execute_result"
    }
   ],
   "source": [
    "pred = clf_rf.predict(X_test)\n",
    "pred"
   ]
  },
  {
   "cell_type": "code",
   "execution_count": 84,
   "metadata": {
    "collapsed": true
   },
   "outputs": [],
   "source": [
    "save_result('RF.csv', pred)"
   ]
  },
  {
   "cell_type": "markdown",
   "metadata": {},
   "source": [
    "### Random Forest random search"
   ]
  },
  {
   "cell_type": "code",
   "execution_count": 85,
   "metadata": {
    "collapsed": true
   },
   "outputs": [],
   "source": [
    "X_train, X_dev, Y_train, Y_dev = train_test_split(\n",
    "    X, Y, test_size=0.2, random_state=32)"
   ]
  },
  {
   "cell_type": "code",
   "execution_count": 101,
   "metadata": {
    "collapsed": false
   },
   "outputs": [],
   "source": [
    "param_dist = {\"max_depth\": [3, None],\n",
    "              \"max_features\": sp_randint(1, 11),\n",
    "              \"min_samples_split\": sp_randint(1, 11),\n",
    "              \"min_samples_leaf\": sp_randint(1, 11),\n",
    "              \"bootstrap\": [True, False]}\n",
    "\n",
    "# run randomized search\n",
    "clf_rf_rs = RandomizedSearchCV(RandomForestClassifier(n_estimators=50), param_distributions=param_dist,\n",
    "                                   n_iter=20, verbose=2)"
   ]
  },
  {
   "cell_type": "code",
   "execution_count": 102,
   "metadata": {
    "collapsed": false
   },
   "outputs": [
    {
     "name": "stdout",
     "output_type": "stream",
     "text": [
      "Fitting 3 folds for each of 20 candidates, totalling 60 fits\n",
      "[CV] max_depth=None, min_samples_leaf=6, bootstrap=True, min_samples_split=2, max_features=3 \n",
      "[CV]  max_depth=None, min_samples_leaf=6, bootstrap=True, min_samples_split=2, max_features=3 -   0.0s\n",
      "[CV] max_depth=None, min_samples_leaf=6, bootstrap=True, min_samples_split=2, max_features=3 \n"
     ]
    },
    {
     "name": "stderr",
     "output_type": "stream",
     "text": [
      "[Parallel(n_jobs=1)]: Done   1 out of   1 | elapsed:    0.7s remaining:    0.0s\n"
     ]
    },
    {
     "name": "stdout",
     "output_type": "stream",
     "text": [
      "[CV]  max_depth=None, min_samples_leaf=6, bootstrap=True, min_samples_split=2, max_features=3 -   0.0s\n",
      "[CV] max_depth=None, min_samples_leaf=6, bootstrap=True, min_samples_split=2, max_features=3 \n",
      "[CV]  max_depth=None, min_samples_leaf=6, bootstrap=True, min_samples_split=2, max_features=3 -   0.0s\n",
      "[CV] max_depth=None, min_samples_leaf=1, bootstrap=False, min_samples_split=6, max_features=9 \n",
      "[CV]  max_depth=None, min_samples_leaf=1, bootstrap=False, min_samples_split=6, max_features=9 -   0.1s\n",
      "[CV] max_depth=None, min_samples_leaf=1, bootstrap=False, min_samples_split=6, max_features=9 \n",
      "[CV]  max_depth=None, min_samples_leaf=1, bootstrap=False, min_samples_split=6, max_features=9 -   0.1s\n",
      "[CV] max_depth=None, min_samples_leaf=1, bootstrap=False, min_samples_split=6, max_features=9 \n",
      "[CV]  max_depth=None, min_samples_leaf=1, bootstrap=False, min_samples_split=6, max_features=9 -   0.1s\n",
      "[CV] max_depth=None, min_samples_leaf=9, bootstrap=True, min_samples_split=5, max_features=8 \n",
      "[CV]  max_depth=None, min_samples_leaf=9, bootstrap=True, min_samples_split=5, max_features=8 -   0.0s\n",
      "[CV] max_depth=None, min_samples_leaf=9, bootstrap=True, min_samples_split=5, max_features=8 \n",
      "[CV]  max_depth=None, min_samples_leaf=9, bootstrap=True, min_samples_split=5, max_features=8 -   0.0s\n",
      "[CV] max_depth=None, min_samples_leaf=9, bootstrap=True, min_samples_split=5, max_features=8 \n",
      "[CV]  max_depth=None, min_samples_leaf=9, bootstrap=True, min_samples_split=5, max_features=8 -   0.0s\n",
      "[CV] max_depth=3, min_samples_leaf=3, bootstrap=False, min_samples_split=3, max_features=3 \n",
      "[CV]  max_depth=3, min_samples_leaf=3, bootstrap=False, min_samples_split=3, max_features=3 -   0.0s\n",
      "[CV] max_depth=3, min_samples_leaf=3, bootstrap=False, min_samples_split=3, max_features=3 \n",
      "[CV]  max_depth=3, min_samples_leaf=3, bootstrap=False, min_samples_split=3, max_features=3 -   0.0s\n",
      "[CV] max_depth=3, min_samples_leaf=3, bootstrap=False, min_samples_split=3, max_features=3 \n",
      "[CV]  max_depth=3, min_samples_leaf=3, bootstrap=False, min_samples_split=3, max_features=3 -   0.0s\n",
      "[CV] max_depth=3, min_samples_leaf=5, bootstrap=True, min_samples_split=2, max_features=7 \n",
      "[CV]  max_depth=3, min_samples_leaf=5, bootstrap=True, min_samples_split=2, max_features=7 -   0.0s\n",
      "[CV] max_depth=3, min_samples_leaf=5, bootstrap=True, min_samples_split=2, max_features=7 \n",
      "[CV]  max_depth=3, min_samples_leaf=5, bootstrap=True, min_samples_split=2, max_features=7 -   0.0s\n",
      "[CV] max_depth=3, min_samples_leaf=5, bootstrap=True, min_samples_split=2, max_features=7 \n",
      "[CV]  max_depth=3, min_samples_leaf=5, bootstrap=True, min_samples_split=2, max_features=7 -   0.0s\n",
      "[CV] max_depth=3, min_samples_leaf=3, bootstrap=False, min_samples_split=1, max_features=9 \n",
      "[CV]  max_depth=3, min_samples_leaf=3, bootstrap=False, min_samples_split=1, max_features=9 -   0.0s\n",
      "[CV] max_depth=3, min_samples_leaf=3, bootstrap=False, min_samples_split=1, max_features=9 \n",
      "[CV]  max_depth=3, min_samples_leaf=3, bootstrap=False, min_samples_split=1, max_features=9 -   0.0s\n",
      "[CV] max_depth=3, min_samples_leaf=3, bootstrap=False, min_samples_split=1, max_features=9 \n",
      "[CV]  max_depth=3, min_samples_leaf=3, bootstrap=False, min_samples_split=1, max_features=9 -   0.0s\n",
      "[CV] max_depth=None, min_samples_leaf=8, bootstrap=True, min_samples_split=9, max_features=10 \n",
      "[CV]  max_depth=None, min_samples_leaf=8, bootstrap=True, min_samples_split=9, max_features=10 -   0.1s\n",
      "[CV] max_depth=None, min_samples_leaf=8, bootstrap=True, min_samples_split=9, max_features=10 \n",
      "[CV]  max_depth=None, min_samples_leaf=8, bootstrap=True, min_samples_split=9, max_features=10 -   0.0s\n",
      "[CV] max_depth=None, min_samples_leaf=8, bootstrap=True, min_samples_split=9, max_features=10 \n",
      "[CV]  max_depth=None, min_samples_leaf=8, bootstrap=True, min_samples_split=9, max_features=10 -   0.1s\n",
      "[CV] max_depth=3, min_samples_leaf=8, bootstrap=True, min_samples_split=5, max_features=3 \n",
      "[CV]  max_depth=3, min_samples_leaf=8, bootstrap=True, min_samples_split=5, max_features=3 -   0.0s\n",
      "[CV] max_depth=3, min_samples_leaf=8, bootstrap=True, min_samples_split=5, max_features=3 \n",
      "[CV]  max_depth=3, min_samples_leaf=8, bootstrap=True, min_samples_split=5, max_features=3 -   0.0s\n",
      "[CV] max_depth=3, min_samples_leaf=8, bootstrap=True, min_samples_split=5, max_features=3 \n",
      "[CV]  max_depth=3, min_samples_leaf=8, bootstrap=True, min_samples_split=5, max_features=3 -   0.0s\n",
      "[CV] max_depth=3, min_samples_leaf=6, bootstrap=False, min_samples_split=2, max_features=10 \n",
      "[CV]  max_depth=3, min_samples_leaf=6, bootstrap=False, min_samples_split=2, max_features=10 -   0.0s\n",
      "[CV] max_depth=3, min_samples_leaf=6, bootstrap=False, min_samples_split=2, max_features=10 \n",
      "[CV]  max_depth=3, min_samples_leaf=6, bootstrap=False, min_samples_split=2, max_features=10 -   0.0s\n",
      "[CV] max_depth=3, min_samples_leaf=6, bootstrap=False, min_samples_split=2, max_features=10 \n",
      "[CV]  max_depth=3, min_samples_leaf=6, bootstrap=False, min_samples_split=2, max_features=10 -   0.0s\n",
      "[CV] max_depth=None, min_samples_leaf=9, bootstrap=False, min_samples_split=4, max_features=1 \n",
      "[CV]  max_depth=None, min_samples_leaf=9, bootstrap=False, min_samples_split=4, max_features=1 -   0.0s\n",
      "[CV] max_depth=None, min_samples_leaf=9, bootstrap=False, min_samples_split=4, max_features=1 \n",
      "[CV]  max_depth=None, min_samples_leaf=9, bootstrap=False, min_samples_split=4, max_features=1 -   0.0s\n",
      "[CV] max_depth=None, min_samples_leaf=9, bootstrap=False, min_samples_split=4, max_features=1 \n",
      "[CV]  max_depth=None, min_samples_leaf=9, bootstrap=False, min_samples_split=4, max_features=1 -   0.0s\n",
      "[CV] max_depth=None, min_samples_leaf=1, bootstrap=False, min_samples_split=8, max_features=10 \n",
      "[CV]  max_depth=None, min_samples_leaf=1, bootstrap=False, min_samples_split=8, max_features=10 -   0.1s\n",
      "[CV] max_depth=None, min_samples_leaf=1, bootstrap=False, min_samples_split=8, max_features=10 \n",
      "[CV]  max_depth=None, min_samples_leaf=1, bootstrap=False, min_samples_split=8, max_features=10 -   0.1s\n",
      "[CV] max_depth=None, min_samples_leaf=1, bootstrap=False, min_samples_split=8, max_features=10 \n",
      "[CV]  max_depth=None, min_samples_leaf=1, bootstrap=False, min_samples_split=8, max_features=10 -   0.1s\n",
      "[CV] max_depth=None, min_samples_leaf=9, bootstrap=True, min_samples_split=5, max_features=4 \n",
      "[CV]  max_depth=None, min_samples_leaf=9, bootstrap=True, min_samples_split=5, max_features=4 -   0.0s\n",
      "[CV] max_depth=None, min_samples_leaf=9, bootstrap=True, min_samples_split=5, max_features=4 \n",
      "[CV]  max_depth=None, min_samples_leaf=9, bootstrap=True, min_samples_split=5, max_features=4 -   0.0s\n",
      "[CV] max_depth=None, min_samples_leaf=9, bootstrap=True, min_samples_split=5, max_features=4 \n",
      "[CV]  max_depth=None, min_samples_leaf=9, bootstrap=True, min_samples_split=5, max_features=4 -   0.0s\n",
      "[CV] max_depth=3, min_samples_leaf=8, bootstrap=False, min_samples_split=1, max_features=4 \n",
      "[CV]  max_depth=3, min_samples_leaf=8, bootstrap=False, min_samples_split=1, max_features=4 -   0.0s\n",
      "[CV] max_depth=3, min_samples_leaf=8, bootstrap=False, min_samples_split=1, max_features=4 \n",
      "[CV]  max_depth=3, min_samples_leaf=8, bootstrap=False, min_samples_split=1, max_features=4 -   0.0s\n",
      "[CV] max_depth=3, min_samples_leaf=8, bootstrap=False, min_samples_split=1, max_features=4 \n",
      "[CV]  max_depth=3, min_samples_leaf=8, bootstrap=False, min_samples_split=1, max_features=4 -   0.0s\n",
      "[CV] max_depth=3, min_samples_leaf=7, bootstrap=False, min_samples_split=1, max_features=9 \n",
      "[CV]  max_depth=3, min_samples_leaf=7, bootstrap=False, min_samples_split=1, max_features=9 -   0.0s\n",
      "[CV] max_depth=3, min_samples_leaf=7, bootstrap=False, min_samples_split=1, max_features=9 \n",
      "[CV]  max_depth=3, min_samples_leaf=7, bootstrap=False, min_samples_split=1, max_features=9 -   0.0s\n",
      "[CV] max_depth=3, min_samples_leaf=7, bootstrap=False, min_samples_split=1, max_features=9 \n",
      "[CV]  max_depth=3, min_samples_leaf=7, bootstrap=False, min_samples_split=1, max_features=9 -   0.0s\n",
      "[CV] max_depth=3, min_samples_leaf=3, bootstrap=False, min_samples_split=7, max_features=7 \n",
      "[CV]  max_depth=3, min_samples_leaf=3, bootstrap=False, min_samples_split=7, max_features=7 -   0.0s\n",
      "[CV] max_depth=3, min_samples_leaf=3, bootstrap=False, min_samples_split=7, max_features=7 \n",
      "[CV]  max_depth=3, min_samples_leaf=3, bootstrap=False, min_samples_split=7, max_features=7 -   0.0s\n",
      "[CV] max_depth=3, min_samples_leaf=3, bootstrap=False, min_samples_split=7, max_features=7 \n",
      "[CV]  max_depth=3, min_samples_leaf=3, bootstrap=False, min_samples_split=7, max_features=7 -   0.0s\n",
      "[CV] max_depth=None, min_samples_leaf=2, bootstrap=False, min_samples_split=6, max_features=4 \n",
      "[CV]  max_depth=None, min_samples_leaf=2, bootstrap=False, min_samples_split=6, max_features=4 -   0.1s\n",
      "[CV] max_depth=None, min_samples_leaf=2, bootstrap=False, min_samples_split=6, max_features=4 \n",
      "[CV]  max_depth=None, min_samples_leaf=2, bootstrap=False, min_samples_split=6, max_features=4 -   0.0s\n",
      "[CV] max_depth=None, min_samples_leaf=2, bootstrap=False, min_samples_split=6, max_features=4 \n",
      "[CV]  max_depth=None, min_samples_leaf=2, bootstrap=False, min_samples_split=6, max_features=4 -   0.2s\n",
      "[CV] max_depth=None, min_samples_leaf=2, bootstrap=True, min_samples_split=9, max_features=9 \n",
      "[CV]  max_depth=None, min_samples_leaf=2, bootstrap=True, min_samples_split=9, max_features=9 -   0.0s\n",
      "[CV] max_depth=None, min_samples_leaf=2, bootstrap=True, min_samples_split=9, max_features=9 \n",
      "[CV]  max_depth=None, min_samples_leaf=2, bootstrap=True, min_samples_split=9, max_features=9 -   0.1s\n",
      "[CV] max_depth=None, min_samples_leaf=2, bootstrap=True, min_samples_split=9, max_features=9 \n",
      "[CV]  max_depth=None, min_samples_leaf=2, bootstrap=True, min_samples_split=9, max_features=9 -   0.0s\n",
      "[CV] max_depth=None, min_samples_leaf=4, bootstrap=False, min_samples_split=9, max_features=9 \n",
      "[CV]  max_depth=None, min_samples_leaf=4, bootstrap=False, min_samples_split=9, max_features=9 -   0.0s\n",
      "[CV] max_depth=None, min_samples_leaf=4, bootstrap=False, min_samples_split=9, max_features=9 \n",
      "[CV]  max_depth=None, min_samples_leaf=4, bootstrap=False, min_samples_split=9, max_features=9 -   0.0s\n",
      "[CV] max_depth=None, min_samples_leaf=4, bootstrap=False, min_samples_split=9, max_features=9 \n",
      "[CV]  max_depth=None, min_samples_leaf=4, bootstrap=False, min_samples_split=9, max_features=9 -   0.0s\n",
      "[CV] max_depth=None, min_samples_leaf=4, bootstrap=True, min_samples_split=10, max_features=8 \n",
      "[CV]  max_depth=None, min_samples_leaf=4, bootstrap=True, min_samples_split=10, max_features=8 -   0.0s\n",
      "[CV] max_depth=None, min_samples_leaf=4, bootstrap=True, min_samples_split=10, max_features=8 \n",
      "[CV]  max_depth=None, min_samples_leaf=4, bootstrap=True, min_samples_split=10, max_features=8 -   0.0s\n",
      "[CV] max_depth=None, min_samples_leaf=4, bootstrap=True, min_samples_split=10, max_features=8 \n",
      "[CV]  max_depth=None, min_samples_leaf=4, bootstrap=True, min_samples_split=10, max_features=8 -   0.0s\n",
      "[CV] max_depth=None, min_samples_leaf=4, bootstrap=True, min_samples_split=1, max_features=4 \n",
      "[CV]  max_depth=None, min_samples_leaf=4, bootstrap=True, min_samples_split=1, max_features=4 -   0.1s\n",
      "[CV] max_depth=None, min_samples_leaf=4, bootstrap=True, min_samples_split=1, max_features=4 \n",
      "[CV]  max_depth=None, min_samples_leaf=4, bootstrap=True, min_samples_split=1, max_features=4 -   0.1s\n",
      "[CV] max_depth=None, min_samples_leaf=4, bootstrap=True, min_samples_split=1, max_features=4 \n",
      "[CV]  max_depth=None, min_samples_leaf=4, bootstrap=True, min_samples_split=1, max_features=4 -   0.0s\n"
     ]
    },
    {
     "name": "stderr",
     "output_type": "stream",
     "text": [
      "[Parallel(n_jobs=1)]: Done  60 out of  60 | elapsed:  1.1min finished\n"
     ]
    },
    {
     "data": {
      "text/plain": [
       "RandomizedSearchCV(cv=None, error_score='raise',\n",
       "          estimator=RandomForestClassifier(bootstrap=True, class_weight=None, criterion='gini',\n",
       "            max_depth=None, max_features='auto', max_leaf_nodes=None,\n",
       "            min_impurity_split=1e-07, min_samples_leaf=1,\n",
       "            min_samples_split=2, min_weight_fraction_leaf=0.0,\n",
       "            n_estimators=50, n_jobs=1, oob_score=False, random_state=None,\n",
       "            verbose=0, warm_start=False),\n",
       "          fit_params={}, iid=True, n_iter=20, n_jobs=1,\n",
       "          param_distributions={'bootstrap': [True, False], 'max_features': <scipy.stats._distn_infrastructure.rv_frozen object at 0x10828a080>, 'max_depth': [3, None], 'min_samples_split': <scipy.stats._distn_infrastructure.rv_frozen object at 0x109a88320>, 'min_samples_leaf': <scipy.stats._distn_infrastructure.rv_frozen object at 0x109a88400>},\n",
       "          pre_dispatch='2*n_jobs', random_state=None, refit=True,\n",
       "          return_train_score=True, scoring=None, verbose=2)"
      ]
     },
     "execution_count": 102,
     "metadata": {},
     "output_type": "execute_result"
    }
   ],
   "source": [
    "clf_rf_rs.fit(X_train, Y_train)"
   ]
  },
  {
   "cell_type": "code",
   "execution_count": 103,
   "metadata": {
    "collapsed": false
   },
   "outputs": [
    {
     "data": {
      "text/plain": [
       "0.68675352877307272"
      ]
     },
     "execution_count": 103,
     "metadata": {},
     "output_type": "execute_result"
    }
   ],
   "source": [
    "Y_true, Y_pred = Y_dev, clf_rf_rs.predict(X_dev)\n",
    "metrics.accuracy_score(Y_true, Y_pred)"
   ]
  },
  {
   "cell_type": "code",
   "execution_count": 104,
   "metadata": {
    "collapsed": false
   },
   "outputs": [
    {
     "data": {
      "text/plain": [
       "array([1, 0, 0, ..., 0, 0, 1])"
      ]
     },
     "execution_count": 104,
     "metadata": {},
     "output_type": "execute_result"
    }
   ],
   "source": [
    "pred = clf_rf_rs.predict(X_test)\n",
    "pred"
   ]
  },
  {
   "cell_type": "code",
   "execution_count": null,
   "metadata": {
    "collapsed": true
   },
   "outputs": [],
   "source": [
    "save_result('RF_RS_e50.csv', pred)"
   ]
  },
  {
   "cell_type": "markdown",
   "metadata": {},
   "source": [
    "# Keras"
   ]
  },
  {
   "cell_type": "code",
   "execution_count": 106,
   "metadata": {
    "collapsed": false
   },
   "outputs": [],
   "source": [
    "from keras.layers import Dense, Activation\n",
    "from keras.models import Sequential\n",
    "import keras"
   ]
  },
  {
   "cell_type": "code",
   "execution_count": 107,
   "metadata": {
    "collapsed": false
   },
   "outputs": [
    {
     "ename": "SyntaxError",
     "evalue": "keyword argument repeated (<ipython-input-107-2cadf7d0383b>, line 2)",
     "output_type": "error",
     "traceback": [
      "\u001b[0;36m  File \u001b[0;32m\"<ipython-input-107-2cadf7d0383b>\"\u001b[0;36m, line \u001b[0;32m2\u001b[0m\n\u001b[0;31m    X, Y, test_size=0.2, random_state=0, random_state=33)\u001b[0m\n\u001b[0m                                        ^\u001b[0m\n\u001b[0;31mSyntaxError\u001b[0m\u001b[0;31m:\u001b[0m keyword argument repeated\n"
     ]
    }
   ],
   "source": [
    "X_train, X_dev, Y_train, Y_dev = train_test_split(\n",
    "    X, Y, test_size=0.2, random_state=0, random_state=33)"
   ]
  },
  {
   "cell_type": "code",
   "execution_count": 108,
   "metadata": {
    "collapsed": false,
    "scrolled": true
   },
   "outputs": [],
   "source": [
    "model = Sequential()\n",
    "model.add(Dense(128,input_dim=X_train.shape[1], activation='relu'))\n",
    "model.add(Dense(64,activation='relu'))\n",
    "model.add(Dense(64,activation='relu'))\n",
    "# model.add(Dense(128,activation='relu'))\n",
    "model.add(Dense(1,activation='sigmoid'))\n",
    "adam = keras.optimizers.Adam(lr=0.00001)\n",
    "model.compile(optimizer=adam,\n",
    "              loss='mse',\n",
    "              metrics=['accuracy'])"
   ]
  },
  {
   "cell_type": "code",
   "execution_count": 114,
   "metadata": {
    "collapsed": false
   },
   "outputs": [
    {
     "name": "stdout",
     "output_type": "stream",
     "text": [
      "Train on 14734 samples, validate on 3684 samples\n",
      "Epoch 1/40\n",
      "14734/14734 [==============================] - 2s - loss: 0.1987 - acc: 0.6926 - val_loss: 0.2126 - val_acc: 0.6667\n",
      "Epoch 2/40\n",
      "14734/14734 [==============================] - 2s - loss: 0.1984 - acc: 0.6929 - val_loss: 0.2125 - val_acc: 0.6656\n",
      "Epoch 3/40\n",
      "14734/14734 [==============================] - 2s - loss: 0.1982 - acc: 0.6941 - val_loss: 0.2124 - val_acc: 0.6669\n",
      "Epoch 4/40\n",
      "14734/14734 [==============================] - 2s - loss: 0.1979 - acc: 0.6948 - val_loss: 0.2124 - val_acc: 0.6664\n",
      "Epoch 5/40\n",
      "14734/14734 [==============================] - 2s - loss: 0.1976 - acc: 0.6947 - val_loss: 0.2123 - val_acc: 0.6659\n",
      "Epoch 6/40\n",
      "14734/14734 [==============================] - 2s - loss: 0.1974 - acc: 0.6946 - val_loss: 0.2123 - val_acc: 0.6650\n",
      "Epoch 7/40\n",
      "14734/14734 [==============================] - 2s - loss: 0.1972 - acc: 0.6955 - val_loss: 0.2122 - val_acc: 0.6661\n",
      "Epoch 8/40\n",
      "14734/14734 [==============================] - 2s - loss: 0.1969 - acc: 0.6956 - val_loss: 0.2122 - val_acc: 0.6678\n",
      "Epoch 9/40\n",
      "14734/14734 [==============================] - 2s - loss: 0.1967 - acc: 0.6969 - val_loss: 0.2121 - val_acc: 0.6664\n",
      "Epoch 10/40\n",
      "14734/14734 [==============================] - 2s - loss: 0.1965 - acc: 0.6970 - val_loss: 0.2120 - val_acc: 0.6650\n",
      "Epoch 11/40\n",
      "14734/14734 [==============================] - 2s - loss: 0.1962 - acc: 0.6972 - val_loss: 0.2120 - val_acc: 0.6656\n",
      "Epoch 12/40\n",
      "14734/14734 [==============================] - 2s - loss: 0.1960 - acc: 0.6977 - val_loss: 0.2120 - val_acc: 0.6661\n",
      "Epoch 13/40\n",
      "14734/14734 [==============================] - 2s - loss: 0.1958 - acc: 0.6978 - val_loss: 0.2119 - val_acc: 0.6667\n",
      "Epoch 14/40\n",
      "14734/14734 [==============================] - 3s - loss: 0.1956 - acc: 0.6987 - val_loss: 0.2119 - val_acc: 0.6694\n",
      "Epoch 15/40\n",
      "14734/14734 [==============================] - 3s - loss: 0.1954 - acc: 0.6997 - val_loss: 0.2118 - val_acc: 0.6659\n",
      "Epoch 16/40\n",
      "14734/14734 [==============================] - 3s - loss: 0.1952 - acc: 0.7001 - val_loss: 0.2118 - val_acc: 0.6672\n",
      "Epoch 17/40\n",
      "14734/14734 [==============================] - 3s - loss: 0.1950 - acc: 0.7003 - val_loss: 0.2117 - val_acc: 0.6675\n",
      "Epoch 18/40\n",
      "14734/14734 [==============================] - 3s - loss: 0.1948 - acc: 0.6997 - val_loss: 0.2117 - val_acc: 0.6669\n",
      "Epoch 19/40\n",
      "14734/14734 [==============================] - 3s - loss: 0.1946 - acc: 0.6997 - val_loss: 0.2117 - val_acc: 0.6680\n",
      "Epoch 20/40\n",
      "14734/14734 [==============================] - 3s - loss: 0.1944 - acc: 0.7000 - val_loss: 0.2117 - val_acc: 0.6675\n",
      "Epoch 21/40\n",
      "14734/14734 [==============================] - 3s - loss: 0.1943 - acc: 0.7014 - val_loss: 0.2116 - val_acc: 0.6661\n",
      "Epoch 22/40\n",
      "14734/14734 [==============================] - 3s - loss: 0.1941 - acc: 0.7015 - val_loss: 0.2116 - val_acc: 0.6648\n",
      "Epoch 23/40\n",
      "14734/14734 [==============================] - 3s - loss: 0.1939 - acc: 0.7014 - val_loss: 0.2116 - val_acc: 0.6659\n",
      "Epoch 24/40\n",
      "14734/14734 [==============================] - 3s - loss: 0.1937 - acc: 0.7022 - val_loss: 0.2115 - val_acc: 0.6661\n",
      "Epoch 25/40\n",
      "14734/14734 [==============================] - 3s - loss: 0.1936 - acc: 0.7024 - val_loss: 0.2115 - val_acc: 0.6648\n",
      "Epoch 26/40\n",
      "14734/14734 [==============================] - 3s - loss: 0.1934 - acc: 0.7025 - val_loss: 0.2115 - val_acc: 0.6653\n",
      "Epoch 27/40\n",
      "14734/14734 [==============================] - 3s - loss: 0.1932 - acc: 0.7032 - val_loss: 0.2115 - val_acc: 0.6650\n",
      "Epoch 28/40\n",
      "14734/14734 [==============================] - 3s - loss: 0.1930 - acc: 0.7033 - val_loss: 0.2115 - val_acc: 0.6648\n",
      "Epoch 29/40\n",
      "14734/14734 [==============================] - 3s - loss: 0.1929 - acc: 0.7035 - val_loss: 0.2115 - val_acc: 0.6650\n",
      "Epoch 30/40\n",
      "14734/14734 [==============================] - 3s - loss: 0.1927 - acc: 0.7036 - val_loss: 0.2115 - val_acc: 0.6650\n",
      "Epoch 31/40\n",
      "14734/14734 [==============================] - 3s - loss: 0.1926 - acc: 0.7050 - val_loss: 0.2114 - val_acc: 0.6648\n",
      "Epoch 32/40\n",
      "14734/14734 [==============================] - 3s - loss: 0.1924 - acc: 0.7048 - val_loss: 0.2114 - val_acc: 0.6640\n",
      "Epoch 33/40\n",
      "14734/14734 [==============================] - 3s - loss: 0.1922 - acc: 0.7054 - val_loss: 0.2114 - val_acc: 0.6650\n",
      "Epoch 34/40\n",
      "14734/14734 [==============================] - 3s - loss: 0.1921 - acc: 0.7054 - val_loss: 0.2114 - val_acc: 0.6642\n",
      "Epoch 35/40\n",
      "14734/14734 [==============================] - 3s - loss: 0.1919 - acc: 0.7051 - val_loss: 0.2114 - val_acc: 0.6637\n",
      "Epoch 36/40\n",
      "14734/14734 [==============================] - 3s - loss: 0.1918 - acc: 0.7063 - val_loss: 0.2114 - val_acc: 0.6631\n",
      "Epoch 37/40\n",
      "14734/14734 [==============================] - 3s - loss: 0.1916 - acc: 0.7056 - val_loss: 0.2114 - val_acc: 0.6656\n",
      "Epoch 38/40\n",
      "14734/14734 [==============================] - 3s - loss: 0.1915 - acc: 0.7079 - val_loss: 0.2114 - val_acc: 0.6659\n",
      "Epoch 39/40\n",
      "14734/14734 [==============================] - 3s - loss: 0.1914 - acc: 0.7088 - val_loss: 0.2114 - val_acc: 0.6669\n",
      "Epoch 40/40\n",
      "14734/14734 [==============================] - 3s - loss: 0.1912 - acc: 0.7083 - val_loss: 0.2114 - val_acc: 0.6667\n"
     ]
    },
    {
     "data": {
      "text/plain": [
       "<keras.callbacks.History at 0x115a921d0>"
      ]
     },
     "execution_count": 114,
     "metadata": {},
     "output_type": "execute_result"
    }
   ],
   "source": [
    "model.fit(X_train, \n",
    "          Y_train, \n",
    "          nb_epoch=40, batch_size=32, validation_data=[X_dev, Y_dev])"
   ]
  },
  {
   "cell_type": "code",
   "execution_count": 115,
   "metadata": {
    "collapsed": false
   },
   "outputs": [
    {
     "data": {
      "text/plain": [
       "array([[ 0.43490097],\n",
       "       [ 0.15489343],\n",
       "       [ 0.65762055],\n",
       "       ..., \n",
       "       [ 0.583318  ],\n",
       "       [ 0.00972962],\n",
       "       [ 0.69474638]], dtype=float32)"
      ]
     },
     "execution_count": 115,
     "metadata": {},
     "output_type": "execute_result"
    }
   ],
   "source": [
    "pred = model.predict(X_test)\n",
    "pred"
   ]
  },
  {
   "cell_type": "code",
   "execution_count": 116,
   "metadata": {
    "collapsed": true
   },
   "outputs": [],
   "source": [
    "save_result('MLP.csv', pred)"
   ]
  },
  {
   "cell_type": "code",
   "execution_count": null,
   "metadata": {
    "collapsed": true
   },
   "outputs": [],
   "source": []
  }
 ],
 "metadata": {
  "kernelspec": {
   "display_name": "Python 3",
   "language": "python",
   "name": "python3"
  },
  "language_info": {
   "codemirror_mode": {
    "name": "ipython",
    "version": 3
   },
   "file_extension": ".py",
   "mimetype": "text/x-python",
   "name": "python",
   "nbconvert_exporter": "python",
   "pygments_lexer": "ipython3",
   "version": "3.5.2"
  }
 },
 "nbformat": 4,
 "nbformat_minor": 1
}
