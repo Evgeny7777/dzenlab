{
 "cells": [
  {
   "cell_type": "markdown",
   "metadata": {},
   "source": [
    "# Задача\n",
    "- На основе тренировочного множества (classification_train.csv) постройте модель, которая сможет определять по входных данных (все столбцы, кроме target),  произойдет событие (target = 1) или нет (target = 0). \n",
    "- На основе разработанной модели составьте прогноз для тестового множества (classification_test.csv).  \n",
    "- Приложите описание решения (код или какие-то другие материалы, созданные в ходе решения приветствуются). \n",
    "- Приложите прогноз в виде, представленном в sample submission.csv"
   ]
  },
  {
   "cell_type": "code",
   "execution_count": 1,
   "metadata": {
    "collapsed": false
   },
   "outputs": [
    {
     "name": "stdout",
     "output_type": "stream",
     "text": [
      "total 17920\r\n",
      "-rw-rw-r--@ 1 Evgeny  staff  1824443 Aug 22  2016 classification_test.csv\r\n",
      "-rw-rw-r--@ 1 Evgeny  staff  7343138 Aug 22  2016 classification_train.csv\r\n",
      "-rw-rw-r--@ 1 Evgeny  staff       38 Aug 22  2016 sample submission.csv\r\n"
     ]
    }
   ],
   "source": [
    "! ls -l ./data"
   ]
  },
  {
   "cell_type": "markdown",
   "metadata": {},
   "source": [
    "# Looking at data and preparing"
   ]
  },
  {
   "cell_type": "code",
   "execution_count": 1,
   "metadata": {
    "collapsed": true
   },
   "outputs": [],
   "source": [
    "import pandas as pd\n",
    "pd.set_option('display.max_columns', None)\n",
    "from IPython.core.interactiveshell import InteractiveShell\n",
    "InteractiveShell.ast_node_interactivity = \"all\"\n",
    "%matplotlib inline"
   ]
  },
  {
   "cell_type": "code",
   "execution_count": 2,
   "metadata": {
    "collapsed": true
   },
   "outputs": [],
   "source": [
    "df = pd.read_csv('./data/classification_train.csv')\n",
    "df_test = pd.read_csv('./data/classification_test.csv')"
   ]
  },
  {
   "cell_type": "code",
   "execution_count": 3,
   "metadata": {
    "collapsed": false
   },
   "outputs": [
    {
     "data": {
      "text/plain": [
       "18420"
      ]
     },
     "execution_count": 3,
     "metadata": {},
     "output_type": "execute_result"
    },
    {
     "data": {
      "text/html": [
       "<div>\n",
       "<table border=\"1\" class=\"dataframe\">\n",
       "  <thead>\n",
       "    <tr style=\"text-align: right;\">\n",
       "      <th></th>\n",
       "      <th>row_number</th>\n",
       "      <th>day_of_week</th>\n",
       "      <th>time_interval</th>\n",
       "      <th>numerical_feature1</th>\n",
       "      <th>binary_feature1</th>\n",
       "      <th>numerical_feature2</th>\n",
       "      <th>numerical_feature3</th>\n",
       "      <th>numerical_feature4</th>\n",
       "      <th>numerical_feature5</th>\n",
       "      <th>numerical_feature6</th>\n",
       "      <th>numerical_feature7</th>\n",
       "      <th>numerical_feature8</th>\n",
       "      <th>numerical_feature9</th>\n",
       "      <th>numerical_feature10</th>\n",
       "      <th>numerical_feature11</th>\n",
       "      <th>numerical_feature12</th>\n",
       "      <th>numerical_feature13</th>\n",
       "      <th>numerical_feature14</th>\n",
       "      <th>numerical_feature15</th>\n",
       "      <th>numerical_feature16</th>\n",
       "      <th>numerical_feature17</th>\n",
       "      <th>numerical_feature18</th>\n",
       "      <th>numerical_feature19</th>\n",
       "      <th>numerical_feature20</th>\n",
       "      <th>numerical_feature21</th>\n",
       "      <th>target</th>\n",
       "    </tr>\n",
       "  </thead>\n",
       "  <tbody>\n",
       "    <tr>\n",
       "      <th>0</th>\n",
       "      <td>1</td>\n",
       "      <td>6</td>\n",
       "      <td>28</td>\n",
       "      <td>-1.293887</td>\n",
       "      <td>0</td>\n",
       "      <td>-0.202881</td>\n",
       "      <td>-0.148187</td>\n",
       "      <td>-0.915432</td>\n",
       "      <td>0.123721</td>\n",
       "      <td>0.067026</td>\n",
       "      <td>-0.174143</td>\n",
       "      <td>-0.679518</td>\n",
       "      <td>-0.419538</td>\n",
       "      <td>-0.085589</td>\n",
       "      <td>-0.907569</td>\n",
       "      <td>0.158600</td>\n",
       "      <td>0.080291</td>\n",
       "      <td>-0.197479</td>\n",
       "      <td>-0.756770</td>\n",
       "      <td>-0.410152</td>\n",
       "      <td>-1.145737</td>\n",
       "      <td>-1.135511</td>\n",
       "      <td>-0.368707</td>\n",
       "      <td>-0.692058</td>\n",
       "      <td>-0.176466</td>\n",
       "      <td>1</td>\n",
       "    </tr>\n",
       "    <tr>\n",
       "      <th>1</th>\n",
       "      <td>2</td>\n",
       "      <td>5</td>\n",
       "      <td>9</td>\n",
       "      <td>2.046774</td>\n",
       "      <td>0</td>\n",
       "      <td>-0.202881</td>\n",
       "      <td>-0.429073</td>\n",
       "      <td>-1.381668</td>\n",
       "      <td>-0.153588</td>\n",
       "      <td>0.105036</td>\n",
       "      <td>0.340381</td>\n",
       "      <td>-0.358484</td>\n",
       "      <td>-1.187368</td>\n",
       "      <td>-0.225571</td>\n",
       "      <td>-1.322025</td>\n",
       "      <td>-0.036902</td>\n",
       "      <td>0.285351</td>\n",
       "      <td>0.574601</td>\n",
       "      <td>-0.367721</td>\n",
       "      <td>-1.378392</td>\n",
       "      <td>-0.797372</td>\n",
       "      <td>-0.857479</td>\n",
       "      <td>-0.315709</td>\n",
       "      <td>0.240003</td>\n",
       "      <td>-0.176466</td>\n",
       "      <td>0</td>\n",
       "    </tr>\n",
       "    <tr>\n",
       "      <th>2</th>\n",
       "      <td>3</td>\n",
       "      <td>6</td>\n",
       "      <td>13</td>\n",
       "      <td>1.789800</td>\n",
       "      <td>0</td>\n",
       "      <td>-0.202881</td>\n",
       "      <td>-0.268481</td>\n",
       "      <td>0.867711</td>\n",
       "      <td>-0.497171</td>\n",
       "      <td>-1.075316</td>\n",
       "      <td>-1.518250</td>\n",
       "      <td>0.797099</td>\n",
       "      <td>0.959080</td>\n",
       "      <td>-0.951920</td>\n",
       "      <td>0.394999</td>\n",
       "      <td>-1.006386</td>\n",
       "      <td>-1.337036</td>\n",
       "      <td>-0.733739</td>\n",
       "      <td>0.712635</td>\n",
       "      <td>0.309325</td>\n",
       "      <td>0.910619</td>\n",
       "      <td>0.606608</td>\n",
       "      <td>-0.594949</td>\n",
       "      <td>-0.651534</td>\n",
       "      <td>1.855187</td>\n",
       "      <td>0</td>\n",
       "    </tr>\n",
       "    <tr>\n",
       "      <th>3</th>\n",
       "      <td>4</td>\n",
       "      <td>7</td>\n",
       "      <td>19</td>\n",
       "      <td>0.504930</td>\n",
       "      <td>0</td>\n",
       "      <td>-0.202881</td>\n",
       "      <td>-0.619177</td>\n",
       "      <td>1.318468</td>\n",
       "      <td>-2.109093</td>\n",
       "      <td>-1.114104</td>\n",
       "      <td>0.327221</td>\n",
       "      <td>1.722900</td>\n",
       "      <td>0.683492</td>\n",
       "      <td>-1.416160</td>\n",
       "      <td>0.122735</td>\n",
       "      <td>-1.148890</td>\n",
       "      <td>-1.040386</td>\n",
       "      <td>-0.275062</td>\n",
       "      <td>0.653164</td>\n",
       "      <td>-0.116479</td>\n",
       "      <td>1.716941</td>\n",
       "      <td>1.326551</td>\n",
       "      <td>0.015649</td>\n",
       "      <td>0.158954</td>\n",
       "      <td>3.886840</td>\n",
       "      <td>0</td>\n",
       "    </tr>\n",
       "    <tr>\n",
       "      <th>4</th>\n",
       "      <td>5</td>\n",
       "      <td>3</td>\n",
       "      <td>9</td>\n",
       "      <td>-0.522965</td>\n",
       "      <td>0</td>\n",
       "      <td>-0.202881</td>\n",
       "      <td>-1.158597</td>\n",
       "      <td>-0.353492</td>\n",
       "      <td>-0.797533</td>\n",
       "      <td>-0.786577</td>\n",
       "      <td>-0.456209</td>\n",
       "      <td>0.208238</td>\n",
       "      <td>-0.321273</td>\n",
       "      <td>-1.166933</td>\n",
       "      <td>-0.011053</td>\n",
       "      <td>-0.923628</td>\n",
       "      <td>-0.995696</td>\n",
       "      <td>-0.493787</td>\n",
       "      <td>0.445493</td>\n",
       "      <td>-0.090425</td>\n",
       "      <td>-0.569411</td>\n",
       "      <td>-0.705167</td>\n",
       "      <td>-0.485654</td>\n",
       "      <td>-0.124716</td>\n",
       "      <td>-0.176466</td>\n",
       "      <td>1</td>\n",
       "    </tr>\n",
       "  </tbody>\n",
       "</table>\n",
       "</div>"
      ],
      "text/plain": [
       "   row_number  day_of_week  time_interval  numerical_feature1  \\\n",
       "0           1            6             28           -1.293887   \n",
       "1           2            5              9            2.046774   \n",
       "2           3            6             13            1.789800   \n",
       "3           4            7             19            0.504930   \n",
       "4           5            3              9           -0.522965   \n",
       "\n",
       "   binary_feature1  numerical_feature2  numerical_feature3  \\\n",
       "0                0           -0.202881           -0.148187   \n",
       "1                0           -0.202881           -0.429073   \n",
       "2                0           -0.202881           -0.268481   \n",
       "3                0           -0.202881           -0.619177   \n",
       "4                0           -0.202881           -1.158597   \n",
       "\n",
       "   numerical_feature4  numerical_feature5  numerical_feature6  \\\n",
       "0           -0.915432            0.123721            0.067026   \n",
       "1           -1.381668           -0.153588            0.105036   \n",
       "2            0.867711           -0.497171           -1.075316   \n",
       "3            1.318468           -2.109093           -1.114104   \n",
       "4           -0.353492           -0.797533           -0.786577   \n",
       "\n",
       "   numerical_feature7  numerical_feature8  numerical_feature9  \\\n",
       "0           -0.174143           -0.679518           -0.419538   \n",
       "1            0.340381           -0.358484           -1.187368   \n",
       "2           -1.518250            0.797099            0.959080   \n",
       "3            0.327221            1.722900            0.683492   \n",
       "4           -0.456209            0.208238           -0.321273   \n",
       "\n",
       "   numerical_feature10  numerical_feature11  numerical_feature12  \\\n",
       "0            -0.085589            -0.907569             0.158600   \n",
       "1            -0.225571            -1.322025            -0.036902   \n",
       "2            -0.951920             0.394999            -1.006386   \n",
       "3            -1.416160             0.122735            -1.148890   \n",
       "4            -1.166933            -0.011053            -0.923628   \n",
       "\n",
       "   numerical_feature13  numerical_feature14  numerical_feature15  \\\n",
       "0             0.080291            -0.197479            -0.756770   \n",
       "1             0.285351             0.574601            -0.367721   \n",
       "2            -1.337036            -0.733739             0.712635   \n",
       "3            -1.040386            -0.275062             0.653164   \n",
       "4            -0.995696            -0.493787             0.445493   \n",
       "\n",
       "   numerical_feature16  numerical_feature17  numerical_feature18  \\\n",
       "0            -0.410152            -1.145737            -1.135511   \n",
       "1            -1.378392            -0.797372            -0.857479   \n",
       "2             0.309325             0.910619             0.606608   \n",
       "3            -0.116479             1.716941             1.326551   \n",
       "4            -0.090425            -0.569411            -0.705167   \n",
       "\n",
       "   numerical_feature19  numerical_feature20  numerical_feature21  target  \n",
       "0            -0.368707            -0.692058            -0.176466       1  \n",
       "1            -0.315709             0.240003            -0.176466       0  \n",
       "2            -0.594949            -0.651534             1.855187       0  \n",
       "3             0.015649             0.158954             3.886840       0  \n",
       "4            -0.485654            -0.124716            -0.176466       1  "
      ]
     },
     "execution_count": 3,
     "metadata": {},
     "output_type": "execute_result"
    }
   ],
   "source": [
    "df.shape[0]\n",
    "df[:5]"
   ]
  },
  {
   "cell_type": "code",
   "execution_count": 4,
   "metadata": {
    "collapsed": false
   },
   "outputs": [
    {
     "data": {
      "text/plain": [
       "target                 1.000000\n",
       "numerical_feature1     0.350570\n",
       "numerical_feature17    0.261505\n",
       "numerical_feature18    0.260588\n",
       "numerical_feature21    0.162189\n",
       "Name: target, dtype: float64"
      ]
     },
     "execution_count": 4,
     "metadata": {},
     "output_type": "execute_result"
    }
   ],
   "source": [
    "df.corr()['target'].abs().sort_values(ascending=False)[:5]"
   ]
  },
  {
   "cell_type": "code",
   "execution_count": 5,
   "metadata": {
    "collapsed": false
   },
   "outputs": [
    {
     "name": "stderr",
     "output_type": "stream",
     "text": [
      "/home/vagrant/anaconda3/lib/python3.5/site-packages/numpy/lib/function_base.py:3834: RuntimeWarning: Invalid value encountered in percentile\n",
      "  RuntimeWarning)\n"
     ]
    },
    {
     "data": {
      "text/html": [
       "<div>\n",
       "<table border=\"1\" class=\"dataframe\">\n",
       "  <thead>\n",
       "    <tr style=\"text-align: right;\">\n",
       "      <th></th>\n",
       "      <th>row_number</th>\n",
       "      <th>day_of_week</th>\n",
       "      <th>time_interval</th>\n",
       "      <th>numerical_feature1</th>\n",
       "      <th>binary_feature1</th>\n",
       "      <th>numerical_feature2</th>\n",
       "      <th>numerical_feature3</th>\n",
       "      <th>numerical_feature4</th>\n",
       "      <th>numerical_feature5</th>\n",
       "      <th>numerical_feature6</th>\n",
       "      <th>numerical_feature7</th>\n",
       "      <th>numerical_feature8</th>\n",
       "      <th>numerical_feature9</th>\n",
       "      <th>numerical_feature10</th>\n",
       "      <th>numerical_feature11</th>\n",
       "      <th>numerical_feature12</th>\n",
       "      <th>numerical_feature13</th>\n",
       "      <th>numerical_feature14</th>\n",
       "      <th>numerical_feature15</th>\n",
       "      <th>numerical_feature16</th>\n",
       "      <th>numerical_feature17</th>\n",
       "      <th>numerical_feature18</th>\n",
       "      <th>numerical_feature19</th>\n",
       "      <th>numerical_feature20</th>\n",
       "      <th>numerical_feature21</th>\n",
       "      <th>target</th>\n",
       "    </tr>\n",
       "  </thead>\n",
       "  <tbody>\n",
       "    <tr>\n",
       "      <th>count</th>\n",
       "      <td>18420.000000</td>\n",
       "      <td>18420.000000</td>\n",
       "      <td>18420.000000</td>\n",
       "      <td>18420.000000</td>\n",
       "      <td>18420.000000</td>\n",
       "      <td>18420.000000</td>\n",
       "      <td>18420.000000</td>\n",
       "      <td>18420.000000</td>\n",
       "      <td>18420.000000</td>\n",
       "      <td>18420.000000</td>\n",
       "      <td>18420.000000</td>\n",
       "      <td>18420.000000</td>\n",
       "      <td>18420.000000</td>\n",
       "      <td>18419.000000</td>\n",
       "      <td>18419.000000</td>\n",
       "      <td>18419.000000</td>\n",
       "      <td>18419.000000</td>\n",
       "      <td>18419.000000</td>\n",
       "      <td>18419.000000</td>\n",
       "      <td>18419.000000</td>\n",
       "      <td>18419.000000</td>\n",
       "      <td>18419.000000</td>\n",
       "      <td>18419.000000</td>\n",
       "      <td>18420.000000</td>\n",
       "      <td>18420.000000</td>\n",
       "      <td>18420.000000</td>\n",
       "    </tr>\n",
       "    <tr>\n",
       "      <th>mean</th>\n",
       "      <td>9210.500000</td>\n",
       "      <td>3.964495</td>\n",
       "      <td>15.626059</td>\n",
       "      <td>-0.004637</td>\n",
       "      <td>0.040011</td>\n",
       "      <td>-0.000295</td>\n",
       "      <td>0.003799</td>\n",
       "      <td>0.000736</td>\n",
       "      <td>0.005228</td>\n",
       "      <td>0.004205</td>\n",
       "      <td>0.002685</td>\n",
       "      <td>-0.002729</td>\n",
       "      <td>0.001871</td>\n",
       "      <td>0.006395</td>\n",
       "      <td>-0.000676</td>\n",
       "      <td>0.008141</td>\n",
       "      <td>0.006883</td>\n",
       "      <td>0.003906</td>\n",
       "      <td>-0.004815</td>\n",
       "      <td>0.000463</td>\n",
       "      <td>-0.005381</td>\n",
       "      <td>-0.005341</td>\n",
       "      <td>-0.002344</td>\n",
       "      <td>0.000445</td>\n",
       "      <td>-0.006500</td>\n",
       "      <td>0.499077</td>\n",
       "    </tr>\n",
       "    <tr>\n",
       "      <th>std</th>\n",
       "      <td>5317.540315</td>\n",
       "      <td>1.872689</td>\n",
       "      <td>10.576227</td>\n",
       "      <td>1.000443</td>\n",
       "      <td>0.195990</td>\n",
       "      <td>0.999527</td>\n",
       "      <td>1.008043</td>\n",
       "      <td>1.003409</td>\n",
       "      <td>1.005749</td>\n",
       "      <td>1.005374</td>\n",
       "      <td>1.001369</td>\n",
       "      <td>1.000152</td>\n",
       "      <td>1.004276</td>\n",
       "      <td>1.007227</td>\n",
       "      <td>1.004028</td>\n",
       "      <td>1.005808</td>\n",
       "      <td>1.006305</td>\n",
       "      <td>1.001639</td>\n",
       "      <td>0.998324</td>\n",
       "      <td>1.007471</td>\n",
       "      <td>0.997451</td>\n",
       "      <td>0.997268</td>\n",
       "      <td>1.007052</td>\n",
       "      <td>1.000764</td>\n",
       "      <td>0.987563</td>\n",
       "      <td>0.500013</td>\n",
       "    </tr>\n",
       "    <tr>\n",
       "      <th>min</th>\n",
       "      <td>1.000000</td>\n",
       "      <td>1.000000</td>\n",
       "      <td>0.000000</td>\n",
       "      <td>-1.807835</td>\n",
       "      <td>0.000000</td>\n",
       "      <td>-0.202881</td>\n",
       "      <td>-1.789510</td>\n",
       "      <td>-1.839408</td>\n",
       "      <td>-2.283283</td>\n",
       "      <td>-1.980911</td>\n",
       "      <td>-1.870994</td>\n",
       "      <td>-2.092420</td>\n",
       "      <td>-2.572195</td>\n",
       "      <td>-1.560905</td>\n",
       "      <td>-1.856822</td>\n",
       "      <td>-2.111801</td>\n",
       "      <td>-1.935753</td>\n",
       "      <td>-1.936510</td>\n",
       "      <td>-2.413073</td>\n",
       "      <td>-2.551180</td>\n",
       "      <td>-1.398410</td>\n",
       "      <td>-1.394246</td>\n",
       "      <td>-0.677634</td>\n",
       "      <td>-1.543071</td>\n",
       "      <td>-0.176466</td>\n",
       "      <td>0.000000</td>\n",
       "    </tr>\n",
       "    <tr>\n",
       "      <th>25%</th>\n",
       "      <td>4605.750000</td>\n",
       "      <td>2.000000</td>\n",
       "      <td>6.000000</td>\n",
       "      <td>-0.779939</td>\n",
       "      <td>0.000000</td>\n",
       "      <td>-0.202881</td>\n",
       "      <td>-0.690041</td>\n",
       "      <td>-0.741257</td>\n",
       "      <td>-0.707542</td>\n",
       "      <td>-0.770828</td>\n",
       "      <td>-0.694720</td>\n",
       "      <td>-0.643349</td>\n",
       "      <td>-0.492581</td>\n",
       "      <td>NaN</td>\n",
       "      <td>NaN</td>\n",
       "      <td>NaN</td>\n",
       "      <td>NaN</td>\n",
       "      <td>NaN</td>\n",
       "      <td>NaN</td>\n",
       "      <td>NaN</td>\n",
       "      <td>NaN</td>\n",
       "      <td>NaN</td>\n",
       "      <td>NaN</td>\n",
       "      <td>-0.651534</td>\n",
       "      <td>-0.176466</td>\n",
       "      <td>0.000000</td>\n",
       "    </tr>\n",
       "    <tr>\n",
       "      <th>50%</th>\n",
       "      <td>9210.500000</td>\n",
       "      <td>4.000000</td>\n",
       "      <td>14.000000</td>\n",
       "      <td>-0.265991</td>\n",
       "      <td>0.000000</td>\n",
       "      <td>-0.202881</td>\n",
       "      <td>-0.094823</td>\n",
       "      <td>-0.162567</td>\n",
       "      <td>-0.036937</td>\n",
       "      <td>-0.043635</td>\n",
       "      <td>-0.114775</td>\n",
       "      <td>0.029001</td>\n",
       "      <td>-0.083286</td>\n",
       "      <td>NaN</td>\n",
       "      <td>NaN</td>\n",
       "      <td>NaN</td>\n",
       "      <td>NaN</td>\n",
       "      <td>NaN</td>\n",
       "      <td>NaN</td>\n",
       "      <td>NaN</td>\n",
       "      <td>NaN</td>\n",
       "      <td>NaN</td>\n",
       "      <td>NaN</td>\n",
       "      <td>-0.286814</td>\n",
       "      <td>-0.176466</td>\n",
       "      <td>0.000000</td>\n",
       "    </tr>\n",
       "    <tr>\n",
       "      <th>75%</th>\n",
       "      <td>13815.250000</td>\n",
       "      <td>5.000000</td>\n",
       "      <td>25.000000</td>\n",
       "      <td>0.504930</td>\n",
       "      <td>0.000000</td>\n",
       "      <td>-0.202881</td>\n",
       "      <td>0.597771</td>\n",
       "      <td>0.665734</td>\n",
       "      <td>0.668696</td>\n",
       "      <td>0.719044</td>\n",
       "      <td>0.634048</td>\n",
       "      <td>0.680481</td>\n",
       "      <td>0.575705</td>\n",
       "      <td>NaN</td>\n",
       "      <td>NaN</td>\n",
       "      <td>NaN</td>\n",
       "      <td>NaN</td>\n",
       "      <td>NaN</td>\n",
       "      <td>NaN</td>\n",
       "      <td>NaN</td>\n",
       "      <td>NaN</td>\n",
       "      <td>NaN</td>\n",
       "      <td>NaN</td>\n",
       "      <td>0.402101</td>\n",
       "      <td>-0.176466</td>\n",
       "      <td>1.000000</td>\n",
       "    </tr>\n",
       "    <tr>\n",
       "      <th>max</th>\n",
       "      <td>18420.000000</td>\n",
       "      <td>7.000000</td>\n",
       "      <td>35.000000</td>\n",
       "      <td>5.901382</td>\n",
       "      <td>1.000000</td>\n",
       "      <td>9.879596</td>\n",
       "      <td>17.882610</td>\n",
       "      <td>18.408528</td>\n",
       "      <td>15.934948</td>\n",
       "      <td>15.604594</td>\n",
       "      <td>15.208451</td>\n",
       "      <td>13.258007</td>\n",
       "      <td>17.480824</td>\n",
       "      <td>17.169138</td>\n",
       "      <td>18.733943</td>\n",
       "      <td>15.795156</td>\n",
       "      <td>16.117432</td>\n",
       "      <td>16.000404</td>\n",
       "      <td>14.560901</td>\n",
       "      <td>17.859575</td>\n",
       "      <td>4.846631</td>\n",
       "      <td>4.758302</td>\n",
       "      <td>19.072898</td>\n",
       "      <td>6.197090</td>\n",
       "      <td>20.140064</td>\n",
       "      <td>1.000000</td>\n",
       "    </tr>\n",
       "  </tbody>\n",
       "</table>\n",
       "</div>"
      ],
      "text/plain": [
       "         row_number   day_of_week  time_interval  numerical_feature1  \\\n",
       "count  18420.000000  18420.000000   18420.000000        18420.000000   \n",
       "mean    9210.500000      3.964495      15.626059           -0.004637   \n",
       "std     5317.540315      1.872689      10.576227            1.000443   \n",
       "min        1.000000      1.000000       0.000000           -1.807835   \n",
       "25%     4605.750000      2.000000       6.000000           -0.779939   \n",
       "50%     9210.500000      4.000000      14.000000           -0.265991   \n",
       "75%    13815.250000      5.000000      25.000000            0.504930   \n",
       "max    18420.000000      7.000000      35.000000            5.901382   \n",
       "\n",
       "       binary_feature1  numerical_feature2  numerical_feature3  \\\n",
       "count     18420.000000        18420.000000        18420.000000   \n",
       "mean          0.040011           -0.000295            0.003799   \n",
       "std           0.195990            0.999527            1.008043   \n",
       "min           0.000000           -0.202881           -1.789510   \n",
       "25%           0.000000           -0.202881           -0.690041   \n",
       "50%           0.000000           -0.202881           -0.094823   \n",
       "75%           0.000000           -0.202881            0.597771   \n",
       "max           1.000000            9.879596           17.882610   \n",
       "\n",
       "       numerical_feature4  numerical_feature5  numerical_feature6  \\\n",
       "count        18420.000000        18420.000000        18420.000000   \n",
       "mean             0.000736            0.005228            0.004205   \n",
       "std              1.003409            1.005749            1.005374   \n",
       "min             -1.839408           -2.283283           -1.980911   \n",
       "25%             -0.741257           -0.707542           -0.770828   \n",
       "50%             -0.162567           -0.036937           -0.043635   \n",
       "75%              0.665734            0.668696            0.719044   \n",
       "max             18.408528           15.934948           15.604594   \n",
       "\n",
       "       numerical_feature7  numerical_feature8  numerical_feature9  \\\n",
       "count        18420.000000        18420.000000        18420.000000   \n",
       "mean             0.002685           -0.002729            0.001871   \n",
       "std              1.001369            1.000152            1.004276   \n",
       "min             -1.870994           -2.092420           -2.572195   \n",
       "25%             -0.694720           -0.643349           -0.492581   \n",
       "50%             -0.114775            0.029001           -0.083286   \n",
       "75%              0.634048            0.680481            0.575705   \n",
       "max             15.208451           13.258007           17.480824   \n",
       "\n",
       "       numerical_feature10  numerical_feature11  numerical_feature12  \\\n",
       "count         18419.000000         18419.000000         18419.000000   \n",
       "mean              0.006395            -0.000676             0.008141   \n",
       "std               1.007227             1.004028             1.005808   \n",
       "min              -1.560905            -1.856822            -2.111801   \n",
       "25%                    NaN                  NaN                  NaN   \n",
       "50%                    NaN                  NaN                  NaN   \n",
       "75%                    NaN                  NaN                  NaN   \n",
       "max              17.169138            18.733943            15.795156   \n",
       "\n",
       "       numerical_feature13  numerical_feature14  numerical_feature15  \\\n",
       "count         18419.000000         18419.000000         18419.000000   \n",
       "mean              0.006883             0.003906            -0.004815   \n",
       "std               1.006305             1.001639             0.998324   \n",
       "min              -1.935753            -1.936510            -2.413073   \n",
       "25%                    NaN                  NaN                  NaN   \n",
       "50%                    NaN                  NaN                  NaN   \n",
       "75%                    NaN                  NaN                  NaN   \n",
       "max              16.117432            16.000404            14.560901   \n",
       "\n",
       "       numerical_feature16  numerical_feature17  numerical_feature18  \\\n",
       "count         18419.000000         18419.000000         18419.000000   \n",
       "mean              0.000463            -0.005381            -0.005341   \n",
       "std               1.007471             0.997451             0.997268   \n",
       "min              -2.551180            -1.398410            -1.394246   \n",
       "25%                    NaN                  NaN                  NaN   \n",
       "50%                    NaN                  NaN                  NaN   \n",
       "75%                    NaN                  NaN                  NaN   \n",
       "max              17.859575             4.846631             4.758302   \n",
       "\n",
       "       numerical_feature19  numerical_feature20  numerical_feature21  \\\n",
       "count         18419.000000         18420.000000         18420.000000   \n",
       "mean             -0.002344             0.000445            -0.006500   \n",
       "std               1.007052             1.000764             0.987563   \n",
       "min              -0.677634            -1.543071            -0.176466   \n",
       "25%                    NaN            -0.651534            -0.176466   \n",
       "50%                    NaN            -0.286814            -0.176466   \n",
       "75%                    NaN             0.402101            -0.176466   \n",
       "max              19.072898             6.197090            20.140064   \n",
       "\n",
       "             target  \n",
       "count  18420.000000  \n",
       "mean       0.499077  \n",
       "std        0.500013  \n",
       "min        0.000000  \n",
       "25%        0.000000  \n",
       "50%        0.000000  \n",
       "75%        1.000000  \n",
       "max        1.000000  "
      ]
     },
     "execution_count": 5,
     "metadata": {},
     "output_type": "execute_result"
    },
    {
     "data": {
      "text/html": [
       "<div>\n",
       "<table border=\"1\" class=\"dataframe\">\n",
       "  <thead>\n",
       "    <tr style=\"text-align: right;\">\n",
       "      <th></th>\n",
       "      <th>row_number</th>\n",
       "      <th>day_of_week</th>\n",
       "      <th>time_interval</th>\n",
       "      <th>numerical_feature1</th>\n",
       "      <th>binary_feature1</th>\n",
       "      <th>numerical_feature2</th>\n",
       "      <th>numerical_feature3</th>\n",
       "      <th>numerical_feature4</th>\n",
       "      <th>numerical_feature5</th>\n",
       "      <th>numerical_feature6</th>\n",
       "      <th>numerical_feature7</th>\n",
       "      <th>numerical_feature8</th>\n",
       "      <th>numerical_feature9</th>\n",
       "      <th>numerical_feature10</th>\n",
       "      <th>numerical_feature11</th>\n",
       "      <th>numerical_feature12</th>\n",
       "      <th>numerical_feature13</th>\n",
       "      <th>numerical_feature14</th>\n",
       "      <th>numerical_feature15</th>\n",
       "      <th>numerical_feature16</th>\n",
       "      <th>numerical_feature17</th>\n",
       "      <th>numerical_feature18</th>\n",
       "      <th>numerical_feature19</th>\n",
       "      <th>numerical_feature20</th>\n",
       "      <th>numerical_feature21</th>\n",
       "    </tr>\n",
       "  </thead>\n",
       "  <tbody>\n",
       "    <tr>\n",
       "      <th>count</th>\n",
       "      <td>4606.000</td>\n",
       "      <td>4606.000000</td>\n",
       "      <td>4606.000000</td>\n",
       "      <td>4606.000000</td>\n",
       "      <td>4606.000000</td>\n",
       "      <td>4606.000000</td>\n",
       "      <td>4606.000000</td>\n",
       "      <td>4606.000000</td>\n",
       "      <td>4606.000000</td>\n",
       "      <td>4606.000000</td>\n",
       "      <td>4606.000000</td>\n",
       "      <td>4606.000000</td>\n",
       "      <td>4606.000000</td>\n",
       "      <td>4605.000000</td>\n",
       "      <td>4605.000000</td>\n",
       "      <td>4605.000000</td>\n",
       "      <td>4605.000000</td>\n",
       "      <td>4605.000000</td>\n",
       "      <td>4605.000000</td>\n",
       "      <td>4605.000000</td>\n",
       "      <td>4605.000000</td>\n",
       "      <td>4605.000000</td>\n",
       "      <td>4605.000000</td>\n",
       "      <td>4606.000000</td>\n",
       "      <td>4606.000000</td>\n",
       "    </tr>\n",
       "    <tr>\n",
       "      <th>mean</th>\n",
       "      <td>2303.500</td>\n",
       "      <td>3.985888</td>\n",
       "      <td>15.597482</td>\n",
       "      <td>0.018543</td>\n",
       "      <td>0.040599</td>\n",
       "      <td>0.001181</td>\n",
       "      <td>-0.015193</td>\n",
       "      <td>-0.002943</td>\n",
       "      <td>-0.020909</td>\n",
       "      <td>-0.016817</td>\n",
       "      <td>-0.010739</td>\n",
       "      <td>0.010915</td>\n",
       "      <td>-0.007482</td>\n",
       "      <td>-0.025579</td>\n",
       "      <td>0.002702</td>\n",
       "      <td>-0.032563</td>\n",
       "      <td>-0.027532</td>\n",
       "      <td>-0.015625</td>\n",
       "      <td>0.019260</td>\n",
       "      <td>-0.001853</td>\n",
       "      <td>0.021521</td>\n",
       "      <td>0.021362</td>\n",
       "      <td>0.009375</td>\n",
       "      <td>-0.001780</td>\n",
       "      <td>0.025994</td>\n",
       "    </tr>\n",
       "    <tr>\n",
       "      <th>std</th>\n",
       "      <td>1329.782</td>\n",
       "      <td>1.895883</td>\n",
       "      <td>10.669955</td>\n",
       "      <td>0.998119</td>\n",
       "      <td>0.197381</td>\n",
       "      <td>1.001998</td>\n",
       "      <td>0.967124</td>\n",
       "      <td>0.986352</td>\n",
       "      <td>0.976500</td>\n",
       "      <td>0.978139</td>\n",
       "      <td>0.994544</td>\n",
       "      <td>0.999424</td>\n",
       "      <td>0.982788</td>\n",
       "      <td>0.970242</td>\n",
       "      <td>0.983827</td>\n",
       "      <td>0.975852</td>\n",
       "      <td>0.973995</td>\n",
       "      <td>0.993374</td>\n",
       "      <td>1.006554</td>\n",
       "      <td>0.969646</td>\n",
       "      <td>1.009953</td>\n",
       "      <td>1.010681</td>\n",
       "      <td>0.971333</td>\n",
       "      <td>0.997044</td>\n",
       "      <td>1.047970</td>\n",
       "    </tr>\n",
       "    <tr>\n",
       "      <th>min</th>\n",
       "      <td>1.000</td>\n",
       "      <td>1.000000</td>\n",
       "      <td>0.000000</td>\n",
       "      <td>-1.807835</td>\n",
       "      <td>0.000000</td>\n",
       "      <td>-0.202881</td>\n",
       "      <td>-1.788199</td>\n",
       "      <td>-1.828044</td>\n",
       "      <td>-2.283283</td>\n",
       "      <td>-1.978166</td>\n",
       "      <td>-1.854289</td>\n",
       "      <td>-2.053969</td>\n",
       "      <td>-2.499387</td>\n",
       "      <td>-1.550014</td>\n",
       "      <td>-1.834461</td>\n",
       "      <td>-2.119922</td>\n",
       "      <td>-1.912597</td>\n",
       "      <td>-1.948652</td>\n",
       "      <td>-2.385950</td>\n",
       "      <td>-2.540920</td>\n",
       "      <td>-1.397812</td>\n",
       "      <td>-1.393617</td>\n",
       "      <td>-0.635016</td>\n",
       "      <td>-1.543071</td>\n",
       "      <td>-0.176466</td>\n",
       "    </tr>\n",
       "    <tr>\n",
       "      <th>25%</th>\n",
       "      <td>1152.250</td>\n",
       "      <td>2.000000</td>\n",
       "      <td>6.000000</td>\n",
       "      <td>-0.779939</td>\n",
       "      <td>0.000000</td>\n",
       "      <td>-0.202881</td>\n",
       "      <td>-0.691775</td>\n",
       "      <td>-0.749689</td>\n",
       "      <td>-0.715963</td>\n",
       "      <td>-0.766546</td>\n",
       "      <td>-0.715866</td>\n",
       "      <td>-0.638647</td>\n",
       "      <td>-0.514883</td>\n",
       "      <td>NaN</td>\n",
       "      <td>NaN</td>\n",
       "      <td>NaN</td>\n",
       "      <td>NaN</td>\n",
       "      <td>NaN</td>\n",
       "      <td>NaN</td>\n",
       "      <td>NaN</td>\n",
       "      <td>NaN</td>\n",
       "      <td>NaN</td>\n",
       "      <td>NaN</td>\n",
       "      <td>-0.651534</td>\n",
       "      <td>-0.176466</td>\n",
       "    </tr>\n",
       "    <tr>\n",
       "      <th>50%</th>\n",
       "      <td>2303.500</td>\n",
       "      <td>4.000000</td>\n",
       "      <td>14.000000</td>\n",
       "      <td>-0.009017</td>\n",
       "      <td>0.000000</td>\n",
       "      <td>-0.202881</td>\n",
       "      <td>-0.103263</td>\n",
       "      <td>-0.170131</td>\n",
       "      <td>-0.048276</td>\n",
       "      <td>-0.081485</td>\n",
       "      <td>-0.115258</td>\n",
       "      <td>0.054411</td>\n",
       "      <td>-0.094082</td>\n",
       "      <td>NaN</td>\n",
       "      <td>NaN</td>\n",
       "      <td>NaN</td>\n",
       "      <td>NaN</td>\n",
       "      <td>NaN</td>\n",
       "      <td>NaN</td>\n",
       "      <td>NaN</td>\n",
       "      <td>NaN</td>\n",
       "      <td>NaN</td>\n",
       "      <td>NaN</td>\n",
       "      <td>-0.286814</td>\n",
       "      <td>-0.176466</td>\n",
       "    </tr>\n",
       "    <tr>\n",
       "      <th>75%</th>\n",
       "      <td>3454.750</td>\n",
       "      <td>5.000000</td>\n",
       "      <td>25.000000</td>\n",
       "      <td>0.504930</td>\n",
       "      <td>0.000000</td>\n",
       "      <td>-0.202881</td>\n",
       "      <td>0.588268</td>\n",
       "      <td>0.654850</td>\n",
       "      <td>0.639534</td>\n",
       "      <td>0.693918</td>\n",
       "      <td>0.607256</td>\n",
       "      <td>0.680481</td>\n",
       "      <td>0.587147</td>\n",
       "      <td>NaN</td>\n",
       "      <td>NaN</td>\n",
       "      <td>NaN</td>\n",
       "      <td>NaN</td>\n",
       "      <td>NaN</td>\n",
       "      <td>NaN</td>\n",
       "      <td>NaN</td>\n",
       "      <td>NaN</td>\n",
       "      <td>NaN</td>\n",
       "      <td>NaN</td>\n",
       "      <td>0.402101</td>\n",
       "      <td>-0.176466</td>\n",
       "    </tr>\n",
       "    <tr>\n",
       "      <th>max</th>\n",
       "      <td>4606.000</td>\n",
       "      <td>7.000000</td>\n",
       "      <td>35.000000</td>\n",
       "      <td>5.387434</td>\n",
       "      <td>1.000000</td>\n",
       "      <td>10.626446</td>\n",
       "      <td>5.201711</td>\n",
       "      <td>4.928027</td>\n",
       "      <td>4.717585</td>\n",
       "      <td>5.279611</td>\n",
       "      <td>5.570260</td>\n",
       "      <td>4.704657</td>\n",
       "      <td>4.775193</td>\n",
       "      <td>5.293866</td>\n",
       "      <td>5.481027</td>\n",
       "      <td>4.966087</td>\n",
       "      <td>5.688757</td>\n",
       "      <td>5.998763</td>\n",
       "      <td>5.160179</td>\n",
       "      <td>5.547135</td>\n",
       "      <td>4.708229</td>\n",
       "      <td>4.528985</td>\n",
       "      <td>10.021254</td>\n",
       "      <td>6.197090</td>\n",
       "      <td>20.140064</td>\n",
       "    </tr>\n",
       "  </tbody>\n",
       "</table>\n",
       "</div>"
      ],
      "text/plain": [
       "       row_number  day_of_week  time_interval  numerical_feature1  \\\n",
       "count    4606.000  4606.000000    4606.000000         4606.000000   \n",
       "mean     2303.500     3.985888      15.597482            0.018543   \n",
       "std      1329.782     1.895883      10.669955            0.998119   \n",
       "min         1.000     1.000000       0.000000           -1.807835   \n",
       "25%      1152.250     2.000000       6.000000           -0.779939   \n",
       "50%      2303.500     4.000000      14.000000           -0.009017   \n",
       "75%      3454.750     5.000000      25.000000            0.504930   \n",
       "max      4606.000     7.000000      35.000000            5.387434   \n",
       "\n",
       "       binary_feature1  numerical_feature2  numerical_feature3  \\\n",
       "count      4606.000000         4606.000000         4606.000000   \n",
       "mean          0.040599            0.001181           -0.015193   \n",
       "std           0.197381            1.001998            0.967124   \n",
       "min           0.000000           -0.202881           -1.788199   \n",
       "25%           0.000000           -0.202881           -0.691775   \n",
       "50%           0.000000           -0.202881           -0.103263   \n",
       "75%           0.000000           -0.202881            0.588268   \n",
       "max           1.000000           10.626446            5.201711   \n",
       "\n",
       "       numerical_feature4  numerical_feature5  numerical_feature6  \\\n",
       "count         4606.000000         4606.000000         4606.000000   \n",
       "mean            -0.002943           -0.020909           -0.016817   \n",
       "std              0.986352            0.976500            0.978139   \n",
       "min             -1.828044           -2.283283           -1.978166   \n",
       "25%             -0.749689           -0.715963           -0.766546   \n",
       "50%             -0.170131           -0.048276           -0.081485   \n",
       "75%              0.654850            0.639534            0.693918   \n",
       "max              4.928027            4.717585            5.279611   \n",
       "\n",
       "       numerical_feature7  numerical_feature8  numerical_feature9  \\\n",
       "count         4606.000000         4606.000000         4606.000000   \n",
       "mean            -0.010739            0.010915           -0.007482   \n",
       "std              0.994544            0.999424            0.982788   \n",
       "min             -1.854289           -2.053969           -2.499387   \n",
       "25%             -0.715866           -0.638647           -0.514883   \n",
       "50%             -0.115258            0.054411           -0.094082   \n",
       "75%              0.607256            0.680481            0.587147   \n",
       "max              5.570260            4.704657            4.775193   \n",
       "\n",
       "       numerical_feature10  numerical_feature11  numerical_feature12  \\\n",
       "count          4605.000000          4605.000000          4605.000000   \n",
       "mean             -0.025579             0.002702            -0.032563   \n",
       "std               0.970242             0.983827             0.975852   \n",
       "min              -1.550014            -1.834461            -2.119922   \n",
       "25%                    NaN                  NaN                  NaN   \n",
       "50%                    NaN                  NaN                  NaN   \n",
       "75%                    NaN                  NaN                  NaN   \n",
       "max               5.293866             5.481027             4.966087   \n",
       "\n",
       "       numerical_feature13  numerical_feature14  numerical_feature15  \\\n",
       "count          4605.000000          4605.000000          4605.000000   \n",
       "mean             -0.027532            -0.015625             0.019260   \n",
       "std               0.973995             0.993374             1.006554   \n",
       "min              -1.912597            -1.948652            -2.385950   \n",
       "25%                    NaN                  NaN                  NaN   \n",
       "50%                    NaN                  NaN                  NaN   \n",
       "75%                    NaN                  NaN                  NaN   \n",
       "max               5.688757             5.998763             5.160179   \n",
       "\n",
       "       numerical_feature16  numerical_feature17  numerical_feature18  \\\n",
       "count          4605.000000          4605.000000          4605.000000   \n",
       "mean             -0.001853             0.021521             0.021362   \n",
       "std               0.969646             1.009953             1.010681   \n",
       "min              -2.540920            -1.397812            -1.393617   \n",
       "25%                    NaN                  NaN                  NaN   \n",
       "50%                    NaN                  NaN                  NaN   \n",
       "75%                    NaN                  NaN                  NaN   \n",
       "max               5.547135             4.708229             4.528985   \n",
       "\n",
       "       numerical_feature19  numerical_feature20  numerical_feature21  \n",
       "count          4605.000000          4606.000000          4606.000000  \n",
       "mean              0.009375            -0.001780             0.025994  \n",
       "std               0.971333             0.997044             1.047970  \n",
       "min              -0.635016            -1.543071            -0.176466  \n",
       "25%                    NaN            -0.651534            -0.176466  \n",
       "50%                    NaN            -0.286814            -0.176466  \n",
       "75%                    NaN             0.402101            -0.176466  \n",
       "max              10.021254             6.197090            20.140064  "
      ]
     },
     "execution_count": 5,
     "metadata": {},
     "output_type": "execute_result"
    }
   ],
   "source": [
    "df.describe()\n",
    "df_test.describe()"
   ]
  },
  {
   "cell_type": "markdown",
   "metadata": {},
   "source": [
    "we see that for some of features there NA in one line. As it's relatively rare case let's jst fill na with mean value"
   ]
  },
  {
   "cell_type": "code",
   "execution_count": 6,
   "metadata": {
    "collapsed": false
   },
   "outputs": [],
   "source": [
    "df = df.fillna(df.mean())\n",
    "df_test = df_test.fillna(df_test.mean())"
   ]
  },
  {
   "cell_type": "markdown",
   "metadata": {},
   "source": [
    "looks like we have 2 outliers in train set with index 4296 and 39. Let's remove them"
   ]
  },
  {
   "cell_type": "code",
   "execution_count": 7,
   "metadata": {
    "collapsed": false
   },
   "outputs": [
    {
     "data": {
      "text/plain": [
       "4885    5.901382\n",
       "5867    5.901382\n",
       "9626    5.644408\n",
       "Name: numerical_feature1, dtype: float64"
      ]
     },
     "execution_count": 7,
     "metadata": {},
     "output_type": "execute_result"
    },
    {
     "data": {
      "text/plain": [
       "8370    9.879596\n",
       "5048    8.759321\n",
       "23      8.012470\n",
       "Name: numerical_feature2, dtype: float64"
      ]
     },
     "execution_count": 7,
     "metadata": {},
     "output_type": "execute_result"
    },
    {
     "data": {
      "text/plain": [
       "4296    17.882610\n",
       "39      10.800253\n",
       "8746     6.840987\n",
       "Name: numerical_feature3, dtype: float64"
      ]
     },
     "execution_count": 7,
     "metadata": {},
     "output_type": "execute_result"
    },
    {
     "data": {
      "text/plain": [
       "4296     18.408528\n",
       "39       11.323055\n",
       "17275     6.393609\n",
       "Name: numerical_feature4, dtype: float64"
      ]
     },
     "execution_count": 7,
     "metadata": {},
     "output_type": "execute_result"
    },
    {
     "data": {
      "text/plain": [
       "4296    15.934948\n",
       "39       9.462586\n",
       "8746     6.369004\n",
       "Name: numerical_feature5, dtype: float64"
      ]
     },
     "execution_count": 7,
     "metadata": {},
     "output_type": "execute_result"
    },
    {
     "data": {
      "text/plain": [
       "4296    15.604594\n",
       "39       8.999227\n",
       "8746     6.331738\n",
       "Name: numerical_feature6, dtype: float64"
      ]
     },
     "execution_count": 7,
     "metadata": {},
     "output_type": "execute_result"
    },
    {
     "data": {
      "text/plain": [
       "4296     15.208451\n",
       "39        8.347681\n",
       "10432     5.932634\n",
       "Name: numerical_feature7, dtype: float64"
      ]
     },
     "execution_count": 7,
     "metadata": {},
     "output_type": "execute_result"
    },
    {
     "data": {
      "text/plain": [
       "4296     13.258007\n",
       "39        7.751712\n",
       "10432     6.049143\n",
       "Name: numerical_feature8, dtype: float64"
      ]
     },
     "execution_count": 7,
     "metadata": {},
     "output_type": "execute_result"
    },
    {
     "data": {
      "text/plain": [
       "4296     17.480824\n",
       "39       10.982328\n",
       "17275     6.311432\n",
       "Name: numerical_feature9, dtype: float64"
      ]
     },
     "execution_count": 7,
     "metadata": {},
     "output_type": "execute_result"
    },
    {
     "data": {
      "text/plain": [
       "4296    17.169138\n",
       "39      10.325617\n",
       "8746     6.664346\n",
       "Name: numerical_feature10, dtype: float64"
      ]
     },
     "execution_count": 7,
     "metadata": {},
     "output_type": "execute_result"
    },
    {
     "data": {
      "text/plain": [
       "4296     18.733943\n",
       "39       11.405693\n",
       "10432     6.934758\n",
       "Name: numerical_feature11, dtype: float64"
      ]
     },
     "execution_count": 7,
     "metadata": {},
     "output_type": "execute_result"
    },
    {
     "data": {
      "text/plain": [
       "4296    15.795156\n",
       "39       9.339502\n",
       "8746     6.391592\n",
       "Name: numerical_feature12, dtype: float64"
      ]
     },
     "execution_count": 7,
     "metadata": {},
     "output_type": "execute_result"
    },
    {
     "data": {
      "text/plain": [
       "4296    16.117432\n",
       "39       9.238737\n",
       "8746     6.600548\n",
       "Name: numerical_feature13, dtype: float64"
      ]
     },
     "execution_count": 7,
     "metadata": {},
     "output_type": "execute_result"
    },
    {
     "data": {
      "text/plain": [
       "4296     16.000404\n",
       "39        8.686749\n",
       "10432     6.603028\n",
       "Name: numerical_feature14, dtype: float64"
      ]
     },
     "execution_count": 7,
     "metadata": {},
     "output_type": "execute_result"
    },
    {
     "data": {
      "text/plain": [
       "4296     14.560901\n",
       "39        8.355986\n",
       "10432     6.963119\n",
       "Name: numerical_feature15, dtype: float64"
      ]
     },
     "execution_count": 7,
     "metadata": {},
     "output_type": "execute_result"
    },
    {
     "data": {
      "text/plain": [
       "4296    17.859575\n",
       "39      11.117335\n",
       "124      6.418994\n",
       "Name: numerical_feature16, dtype: float64"
      ]
     },
     "execution_count": 7,
     "metadata": {},
     "output_type": "execute_result"
    },
    {
     "data": {
      "text/plain": [
       "12926    4.846631\n",
       "287      4.642878\n",
       "18238    4.610173\n",
       "Name: numerical_feature17, dtype: float64"
      ]
     },
     "execution_count": 7,
     "metadata": {},
     "output_type": "execute_result"
    },
    {
     "data": {
      "text/plain": [
       "13032    4.758302\n",
       "13770    4.582166\n",
       "8521     4.504659\n",
       "Name: numerical_feature18, dtype: float64"
      ]
     },
     "execution_count": 7,
     "metadata": {},
     "output_type": "execute_result"
    },
    {
     "data": {
      "text/plain": [
       "2739    19.072898\n",
       "9677    17.807809\n",
       "8325    14.807909\n",
       "Name: numerical_feature19, dtype: float64"
      ]
     },
     "execution_count": 7,
     "metadata": {},
     "output_type": "execute_result"
    },
    {
     "data": {
      "text/plain": [
       "10154    6.19709\n",
       "3377     6.19709\n",
       "13360    6.19709\n",
       "Name: numerical_feature20, dtype: float64"
      ]
     },
     "execution_count": 7,
     "metadata": {},
     "output_type": "execute_result"
    },
    {
     "data": {
      "text/plain": [
       "4598     20.140064\n",
       "18012    16.076758\n",
       "8710     16.076758\n",
       "Name: numerical_feature21, dtype: float64"
      ]
     },
     "execution_count": 7,
     "metadata": {},
     "output_type": "execute_result"
    }
   ],
   "source": [
    "#\n",
    "for i in range(1,22):    \n",
    "    df['numerical_feature{}'.format(i)].sort_values(ascending=0)[:3]"
   ]
  },
  {
   "cell_type": "code",
   "execution_count": 8,
   "metadata": {
    "collapsed": false
   },
   "outputs": [],
   "source": [
    "df = df.sort_values(by='numerical_feature3', ascending=False)[2:]"
   ]
  },
  {
   "cell_type": "markdown",
   "metadata": {},
   "source": [
    "According to names and distribution **row_number** and **day_of_week** are candidates for one hot encoding"
   ]
  },
  {
   "cell_type": "code",
   "execution_count": 9,
   "metadata": {
    "collapsed": false
   },
   "outputs": [],
   "source": [
    "# encode train set\n",
    "df = pd.get_dummies(df, prefix='wd_', columns=['day_of_week'])\n",
    "df = pd.get_dummies(df, prefix='ti_', columns=['time_interval'])\n",
    "# encode test set\n",
    "df_test = pd.get_dummies(df_test, prefix='wd_', columns=['day_of_week'])\n",
    "df_test = pd.get_dummies(df_test, prefix='ti_', columns=['time_interval'])"
   ]
  },
  {
   "cell_type": "code",
   "execution_count": 10,
   "metadata": {
    "collapsed": false
   },
   "outputs": [
    {
     "data": {
      "text/plain": [
       "0.4990769899011836"
      ]
     },
     "execution_count": 10,
     "metadata": {},
     "output_type": "execute_result"
    }
   ],
   "source": [
    "# answers are distributed almost equally\n",
    "df.target.sum()/df.shape[0]"
   ]
  },
  {
   "cell_type": "markdown",
   "metadata": {},
   "source": [
    "#  Checking models"
   ]
  },
  {
   "cell_type": "code",
   "execution_count": 11,
   "metadata": {
    "collapsed": true
   },
   "outputs": [],
   "source": [
    "from sklearn import svm\n",
    "from sklearn import metrics\n",
    "from sklearn import preprocessing\n",
    "from sklearn.model_selection import cross_val_predict\n",
    "from sklearn.model_selection import RandomizedSearchCV\n",
    "from sklearn.model_selection import train_test_split\n",
    "from sklearn.model_selection import GridSearchCV\n",
    "from sklearn.metrics import classification_report\n",
    "from scipy.stats import randint as sp_randint\n",
    "\n",
    "import scipy\n",
    "from sklearn.ensemble import RandomForestClassifier\n",
    "\n",
    "# get some dataimport numpy as np"
   ]
  },
  {
   "cell_type": "code",
   "execution_count": 12,
   "metadata": {
    "collapsed": true
   },
   "outputs": [],
   "source": [
    "def warn(*args, **kwargs):\n",
    "    pass\n",
    "import warnings\n",
    "warnings.warn = warn"
   ]
  },
  {
   "cell_type": "code",
   "execution_count": 13,
   "metadata": {
    "collapsed": false
   },
   "outputs": [],
   "source": [
    "def save_result(fname, arr):\n",
    "    with open('data/'+fname, 'w') as f:\n",
    "        f.write('row_number,prediction\\n')\n",
    "        c=1\n",
    "        for val in arr:\n",
    "            f.write('{},{}\\n'.format(c, val))\n",
    "            c += 1"
   ]
  },
  {
   "cell_type": "code",
   "execution_count": 14,
   "metadata": {
    "collapsed": true
   },
   "outputs": [],
   "source": [
    "X = df.drop(labels=['target'], axis=1)\n",
    "Y = df.target\n",
    "\n",
    "X_test = df_test"
   ]
  },
  {
   "cell_type": "code",
   "execution_count": 15,
   "metadata": {
    "collapsed": false
   },
   "outputs": [],
   "source": [
    "# scaling\n",
    "scaler = preprocessing.StandardScaler().fit(X)\n",
    "X = scaler.transform(X)\n",
    "X_test = scaler.transform(df_test)"
   ]
  },
  {
   "cell_type": "markdown",
   "metadata": {},
   "source": [
    "### SVM"
   ]
  },
  {
   "cell_type": "code",
   "execution_count": 66,
   "metadata": {
    "collapsed": false
   },
   "outputs": [
    {
     "name": "stdout",
     "output_type": "stream",
     "text": [
      "Fitting 3 folds for each of 10 candidates, totalling 30 fits\n",
      "[CV] gamma=0.464828139913, C=136.358217257, kernel=linear ............\n",
      "[CV] gamma=0.464828139913, C=136.358217257, kernel=linear ............\n",
      "[CV] gamma=0.464828139913, C=136.358217257, kernel=linear ............\n",
      "[CV] gamma=0.002108355201, C=88.8959157483, kernel=rbf ...............\n",
      "[CV] ...... gamma=0.002108355201, C=88.8959157483, kernel=rbf -   4.2s\n",
      "[CV] gamma=0.002108355201, C=88.8959157483, kernel=rbf ...............\n",
      "[CV] ...... gamma=0.002108355201, C=88.8959157483, kernel=rbf -   4.1s\n",
      "[CV] gamma=0.002108355201, C=88.8959157483, kernel=rbf ...............\n",
      "[CV] ...... gamma=0.002108355201, C=88.8959157483, kernel=rbf -   4.4s\n",
      "[CV] gamma=0.00503160069854, C=65.0743476334, kernel=rbf .............\n",
      "[CV] .... gamma=0.00503160069854, C=65.0743476334, kernel=rbf -   4.2s\n",
      "[CV] gamma=0.00503160069854, C=65.0743476334, kernel=rbf .............\n",
      "[CV] .... gamma=0.00503160069854, C=65.0743476334, kernel=rbf -   4.1s\n",
      "[CV] gamma=0.00503160069854, C=65.0743476334, kernel=rbf .............\n",
      "[CV] .... gamma=0.00503160069854, C=65.0743476334, kernel=rbf -   4.1s\n",
      "[CV] gamma=0.1599517346, C=1.66652128649, kernel=rbf .................\n",
      "[CV] ........ gamma=0.1599517346, C=1.66652128649, kernel=rbf -   5.9s\n",
      "[CV] gamma=0.1599517346, C=1.66652128649, kernel=rbf .................\n",
      "[CV] ........ gamma=0.1599517346, C=1.66652128649, kernel=rbf -   5.4s\n",
      "[CV] gamma=0.1599517346, C=1.66652128649, kernel=rbf .................\n",
      "[CV] ........ gamma=0.1599517346, C=1.66652128649, kernel=rbf -   5.1s\n",
      "[CV] gamma=0.12468366887, C=56.702518748, kernel=linear ..............\n",
      "[CV] ..... gamma=0.12468366887, C=56.702518748, kernel=linear -   3.4s\n",
      "[CV] gamma=0.12468366887, C=56.702518748, kernel=linear ..............\n",
      "[CV] ... gamma=0.464828139913, C=136.358217257, kernel=linear -   3.5s\n",
      "[CV] gamma=0.12468366887, C=56.702518748, kernel=linear ..............\n",
      "[CV] ... gamma=0.464828139913, C=136.358217257, kernel=linear -   3.6s\n",
      "[CV] gamma=0.0962790156618, C=85.3811537593, kernel=linear ...........\n",
      "[CV] ... gamma=0.464828139913, C=136.358217257, kernel=linear -   3.4s\n",
      "[CV] gamma=0.0962790156618, C=85.3811537593, kernel=linear ...........\n",
      "[CV] ..... gamma=0.12468366887, C=56.702518748, kernel=linear -   3.4s\n",
      "[CV] gamma=0.0962790156618, C=85.3811537593, kernel=linear ...........\n",
      "[CV] ..... gamma=0.12468366887, C=56.702518748, kernel=linear -   3.3s\n",
      "[CV] gamma=0.0736989354082, C=88.774620835, kernel=rbf ...............\n",
      "[CV] ...... gamma=0.0736989354082, C=88.774620835, kernel=rbf -   4.2s\n",
      "[CV] gamma=0.0736989354082, C=88.774620835, kernel=rbf ...............\n",
      "[CV] ...... gamma=0.0736989354082, C=88.774620835, kernel=rbf -   3.9s\n",
      "[CV] gamma=0.0736989354082, C=88.774620835, kernel=rbf ...............\n",
      "[CV] ...... gamma=0.0736989354082, C=88.774620835, kernel=rbf -   3.9s\n",
      "[CV] gamma=0.215564179075, C=131.014366549, kernel=linear ............\n",
      "[CV] .. gamma=0.0962790156618, C=85.3811537593, kernel=linear -   3.3s\n",
      "[CV] gamma=0.215564179075, C=131.014366549, kernel=linear ............\n",
      "[CV] .. gamma=0.0962790156618, C=85.3811537593, kernel=linear -   4.6s\n",
      "[CV] gamma=0.215564179075, C=131.014366549, kernel=linear ............\n",
      "[CV] .. gamma=0.0962790156618, C=85.3811537593, kernel=linear -   3.4s\n",
      "[CV] gamma=0.14087722933, C=79.3206743611, kernel=rbf ................\n",
      "[CV] ....... gamma=0.14087722933, C=79.3206743611, kernel=rbf -   4.8s\n",
      "[CV] gamma=0.14087722933, C=79.3206743611, kernel=rbf ................\n",
      "[CV] ....... gamma=0.14087722933, C=79.3206743611, kernel=rbf -   4.6s\n",
      "[CV] gamma=0.14087722933, C=79.3206743611, kernel=rbf ................\n",
      "[CV] ....... gamma=0.14087722933, C=79.3206743611, kernel=rbf -   4.6s\n",
      "[CV] gamma=0.00189322035878, C=71.9352397025, kernel=linear ..........\n",
      "[CV] ... gamma=0.215564179075, C=131.014366549, kernel=linear -   3.3s\n",
      "[CV] gamma=0.00189322035878, C=71.9352397025, kernel=linear ..........\n",
      "[CV] ... gamma=0.215564179075, C=131.014366549, kernel=linear -   3.2s\n",
      "[CV] gamma=0.00189322035878, C=71.9352397025, kernel=linear ..........\n",
      "[CV] . gamma=0.00189322035878, C=71.9352397025, kernel=linear -   3.4s\n",
      "[CV] ... gamma=0.215564179075, C=131.014366549, kernel=linear -   2.8s\n",
      "[CV] . gamma=0.00189322035878, C=71.9352397025, kernel=linear -   2.0s\n",
      "[CV] . gamma=0.00189322035878, C=71.9352397025, kernel=linear -   2.0s\n"
     ]
    },
    {
     "name": "stderr",
     "output_type": "stream",
     "text": [
      "[Parallel(n_jobs=-1)]: Done  30 out of  30 | elapsed: 51.5min finished\n"
     ]
    },
    {
     "data": {
      "text/plain": [
       "RandomizedSearchCV(cv=None, error_score='raise',\n",
       "          estimator=SVC(C=1.0, cache_size=200, class_weight=None, coef0=0.0,\n",
       "  decision_function_shape=None, degree=3, gamma='auto', kernel='rbf',\n",
       "  max_iter=-1, probability=False, random_state=None, shrinking=True,\n",
       "  tol=0.001, verbose=False),\n",
       "          fit_params={}, iid=True, n_iter=10, n_jobs=-1,\n",
       "          param_distributions={'gamma': <scipy.stats._distn_infrastructure.rv_frozen object at 0x10827d438>, 'C': <scipy.stats._distn_infrastructure.rv_frozen object at 0x114e292e8>, 'kernel': ['linear', 'rbf']},\n",
       "          pre_dispatch='2*n_jobs', random_state=None, refit=True,\n",
       "          return_train_score=True, scoring=None, verbose=2)"
      ]
     },
     "execution_count": 66,
     "metadata": {},
     "output_type": "execute_result"
    }
   ],
   "source": [
    "X_train, X_dev, Y_train, Y_dev = train_test_split(\n",
    "    X, Y, test_size=0.2, random_state=0)\n",
    "\n",
    "# Set the parameters by cross-validation\n",
    "tuned_parameters = [{'kernel': ['rbf'], 'gamma': [1e-3, 1e-4],\n",
    "                     'C': [1, 10, 100, 1000]},\n",
    "                    {'kernel': ['linear'], 'C': [1, 10, 100, 1000]}]\n",
    "\n",
    "\n",
    "# specify parameters and distributions to sample from\n",
    "param_dist = {\"kernel\": ['linear', 'rbf'],\n",
    "              'C': scipy.stats.expon(scale=100), \n",
    "              'gamma': scipy.stats.expon(scale=.1)\n",
    "              }\n",
    "\n",
    "clf = RandomizedSearchCV(svm.SVC(), param_distributions=param_dist, n_iter=10,verbose=2, n_jobs=-1)\n",
    "# clf = GridSearchCV(svm.SVC(C=1), tuned_parameters, cv=5,verbose=2, n_jobs=-1)\n",
    "clf.fit(X_train, Y_train)"
   ]
  },
  {
   "cell_type": "code",
   "execution_count": 68,
   "metadata": {
    "collapsed": false
   },
   "outputs": [
    {
     "name": "stdout",
     "output_type": "stream",
     "text": [
      "             precision    recall  f1-score   support\n",
      "\n",
      "          0       0.70      0.61      0.65      1806\n",
      "          1       0.67      0.75      0.71      1878\n",
      "\n",
      "avg / total       0.68      0.68      0.68      3684\n",
      "\n",
      "0.681867535288\n"
     ]
    }
   ],
   "source": [
    "Y_true, Y_pred = Y_dev, clf.predict(X_dev)\n",
    "\n",
    "print(classification_report(Y_true, Y_pred))\n",
    "\n",
    "print(metrics.accuracy_score(Y_true, Y_pred) )"
   ]
  },
  {
   "cell_type": "code",
   "execution_count": 70,
   "metadata": {
    "collapsed": false
   },
   "outputs": [
    {
     "data": {
      "text/plain": [
       "array([0, 0, 1, ..., 1, 0, 1])"
      ]
     },
     "execution_count": 70,
     "metadata": {},
     "output_type": "execute_result"
    }
   ],
   "source": [
    "pred = clf.predict(X_test)\n",
    "pred"
   ]
  },
  {
   "cell_type": "code",
   "execution_count": 73,
   "metadata": {
    "collapsed": false
   },
   "outputs": [],
   "source": [
    "save_result('SVM_RS.csv', pred)"
   ]
  },
  {
   "cell_type": "markdown",
   "metadata": {},
   "source": [
    "### RandomForest"
   ]
  },
  {
   "cell_type": "code",
   "execution_count": 33,
   "metadata": {
    "collapsed": false
   },
   "outputs": [],
   "source": [
    "X_train, X_dev, Y_train, Y_dev = train_test_split(\n",
    "    X, Y, test_size=0.2, random_state=31)\n",
    "clf_rf = RandomForestClassifier(n_estimators=200)"
   ]
  },
  {
   "cell_type": "code",
   "execution_count": 34,
   "metadata": {
    "collapsed": false
   },
   "outputs": [
    {
     "data": {
      "text/plain": [
       "RandomForestClassifier(bootstrap=True, class_weight=None, criterion='gini',\n",
       "            max_depth=None, max_features='auto', max_leaf_nodes=None,\n",
       "            min_impurity_split=1e-07, min_samples_leaf=1,\n",
       "            min_samples_split=2, min_weight_fraction_leaf=0.0,\n",
       "            n_estimators=200, n_jobs=1, oob_score=False, random_state=None,\n",
       "            verbose=0, warm_start=False)"
      ]
     },
     "execution_count": 34,
     "metadata": {},
     "output_type": "execute_result"
    }
   ],
   "source": [
    "clf_rf.fit(X_train, Y_train)"
   ]
  },
  {
   "cell_type": "code",
   "execution_count": 48,
   "metadata": {
    "collapsed": false
   },
   "outputs": [
    {
     "data": {
      "text/plain": [
       "0.69869706840390877"
      ]
     },
     "execution_count": 48,
     "metadata": {},
     "output_type": "execute_result"
    }
   ],
   "source": [
    "Y_true, Y_pred = Y_dev, clf_rf_rs.predict(X_dev)\n",
    "acc = metrics.accuracy_score(Y_true, Y_pred)\n",
    "acc"
   ]
  },
  {
   "cell_type": "code",
   "execution_count": 49,
   "metadata": {
    "collapsed": false
   },
   "outputs": [
    {
     "data": {
      "text/plain": [
       "RandomForestClassifier(bootstrap=True, class_weight=None, criterion='gini',\n",
       "            max_depth=None, max_features='auto', max_leaf_nodes=None,\n",
       "            min_impurity_split=1e-07, min_samples_leaf=1,\n",
       "            min_samples_split=2, min_weight_fraction_leaf=0.0,\n",
       "            n_estimators=200, n_jobs=1, oob_score=False, random_state=None,\n",
       "            verbose=0, warm_start=False)"
      ]
     },
     "execution_count": 49,
     "metadata": {},
     "output_type": "execute_result"
    }
   ],
   "source": [
    "clf_rf_full = RandomForestClassifier(n_estimators=200)\n",
    "clf_rf_full.fit(X, Y)\n",
    "pred = clf_rf_full.predict(X_test)"
   ]
  },
  {
   "cell_type": "code",
   "execution_count": 51,
   "metadata": {
    "collapsed": false
   },
   "outputs": [],
   "source": [
    "save_result('results/RF_200_{:3.1f}.csv'.format(acc), pred)"
   ]
  },
  {
   "cell_type": "markdown",
   "metadata": {},
   "source": [
    "### Random Forest random search"
   ]
  },
  {
   "cell_type": "code",
   "execution_count": 38,
   "metadata": {
    "collapsed": true
   },
   "outputs": [],
   "source": [
    "X_train, X_dev, Y_train, Y_dev = train_test_split(\n",
    "    X, Y, test_size=0.2, random_state=32)"
   ]
  },
  {
   "cell_type": "code",
   "execution_count": 41,
   "metadata": {
    "collapsed": false
   },
   "outputs": [],
   "source": [
    "param_dist = {\"max_depth\": [3, None],\n",
    "              \"max_features\": sp_randint(1, 11),\n",
    "              \"min_samples_split\": sp_randint(2, 11),\n",
    "              \"min_samples_leaf\": sp_randint(1, 11),\n",
    "              \"bootstrap\": [True, False]}\n",
    "\n",
    "# run randomized search\n",
    "clf_rf_rs = RandomizedSearchCV(RandomForestClassifier(n_estimators=200), param_distributions=param_dist,\n",
    "                                   n_iter=20, verbose=2, n_jobs=-1)"
   ]
  },
  {
   "cell_type": "code",
   "execution_count": 42,
   "metadata": {
    "collapsed": false
   },
   "outputs": [
    {
     "name": "stdout",
     "output_type": "stream",
     "text": [
      "Fitting 3 folds for each of 20 candidates, totalling 60 fits\n",
      "[CV] min_samples_split=9, bootstrap=True, min_samples_leaf=3, max_features=9, max_depth=None \n",
      "[CV]  min_samples_split=9, bootstrap=True, min_samples_leaf=3, max_features=9, max_depth=None, total=   7.7s\n",
      "[CV] min_samples_split=9, bootstrap=True, min_samples_leaf=3, max_features=9, max_depth=None \n"
     ]
    },
    {
     "name": "stderr",
     "output_type": "stream",
     "text": [
      "[Parallel(n_jobs=-1)]: Done   1 out of   1 | elapsed:    8.2s remaining:    0.0s\n"
     ]
    },
    {
     "name": "stdout",
     "output_type": "stream",
     "text": [
      "[CV]  min_samples_split=9, bootstrap=True, min_samples_leaf=3, max_features=9, max_depth=None, total=   7.4s\n",
      "[CV] min_samples_split=9, bootstrap=True, min_samples_leaf=3, max_features=9, max_depth=None \n",
      "[CV]  min_samples_split=9, bootstrap=True, min_samples_leaf=3, max_features=9, max_depth=None, total=   7.5s\n",
      "[CV] min_samples_split=7, bootstrap=True, min_samples_leaf=9, max_features=3, max_depth=3 \n",
      "[CV]  min_samples_split=7, bootstrap=True, min_samples_leaf=9, max_features=3, max_depth=3, total=   1.4s\n",
      "[CV] min_samples_split=7, bootstrap=True, min_samples_leaf=9, max_features=3, max_depth=3 \n",
      "[CV]  min_samples_split=7, bootstrap=True, min_samples_leaf=9, max_features=3, max_depth=3, total=   1.3s\n",
      "[CV] min_samples_split=7, bootstrap=True, min_samples_leaf=9, max_features=3, max_depth=3 \n",
      "[CV]  min_samples_split=7, bootstrap=True, min_samples_leaf=9, max_features=3, max_depth=3, total=   1.5s\n",
      "[CV] min_samples_split=7, bootstrap=True, min_samples_leaf=2, max_features=6, max_depth=3 \n",
      "[CV]  min_samples_split=7, bootstrap=True, min_samples_leaf=2, max_features=6, max_depth=3, total=   1.9s\n",
      "[CV] min_samples_split=7, bootstrap=True, min_samples_leaf=2, max_features=6, max_depth=3 \n",
      "[CV]  min_samples_split=7, bootstrap=True, min_samples_leaf=2, max_features=6, max_depth=3, total=   1.8s\n",
      "[CV] min_samples_split=7, bootstrap=True, min_samples_leaf=2, max_features=6, max_depth=3 \n",
      "[CV]  min_samples_split=7, bootstrap=True, min_samples_leaf=2, max_features=6, max_depth=3, total=   1.8s\n",
      "[CV] min_samples_split=7, bootstrap=True, min_samples_leaf=4, max_features=5, max_depth=None \n",
      "[CV]  min_samples_split=7, bootstrap=True, min_samples_leaf=4, max_features=5, max_depth=None, total=   4.5s\n",
      "[CV] min_samples_split=7, bootstrap=True, min_samples_leaf=4, max_features=5, max_depth=None \n",
      "[CV]  min_samples_split=7, bootstrap=True, min_samples_leaf=4, max_features=5, max_depth=None, total=   4.7s\n",
      "[CV] min_samples_split=7, bootstrap=True, min_samples_leaf=4, max_features=5, max_depth=None \n",
      "[CV]  min_samples_split=7, bootstrap=True, min_samples_leaf=4, max_features=5, max_depth=None, total=   5.1s\n",
      "[CV] min_samples_split=2, bootstrap=False, min_samples_leaf=10, max_features=1, max_depth=3 \n",
      "[CV]  min_samples_split=2, bootstrap=False, min_samples_leaf=10, max_features=1, max_depth=3, total=   1.5s\n",
      "[CV] min_samples_split=2, bootstrap=False, min_samples_leaf=10, max_features=1, max_depth=3 \n",
      "[CV]  min_samples_split=2, bootstrap=False, min_samples_leaf=10, max_features=1, max_depth=3, total=   1.3s\n",
      "[CV] min_samples_split=2, bootstrap=False, min_samples_leaf=10, max_features=1, max_depth=3 \n",
      "[CV]  min_samples_split=2, bootstrap=False, min_samples_leaf=10, max_features=1, max_depth=3, total=   1.1s\n",
      "[CV] min_samples_split=2, bootstrap=True, min_samples_leaf=1, max_features=7, max_depth=3 \n",
      "[CV]  min_samples_split=2, bootstrap=True, min_samples_leaf=1, max_features=7, max_depth=3, total=   1.9s\n",
      "[CV] min_samples_split=2, bootstrap=True, min_samples_leaf=1, max_features=7, max_depth=3 \n",
      "[CV]  min_samples_split=2, bootstrap=True, min_samples_leaf=1, max_features=7, max_depth=3, total=   2.7s\n",
      "[CV] min_samples_split=2, bootstrap=True, min_samples_leaf=1, max_features=7, max_depth=3 \n",
      "[CV]  min_samples_split=2, bootstrap=True, min_samples_leaf=1, max_features=7, max_depth=3, total=   2.5s\n",
      "[CV] min_samples_split=2, bootstrap=False, min_samples_leaf=7, max_features=8, max_depth=None \n",
      "[CV]  min_samples_split=2, bootstrap=False, min_samples_leaf=7, max_features=8, max_depth=None, total=  11.2s\n",
      "[CV] min_samples_split=2, bootstrap=False, min_samples_leaf=7, max_features=8, max_depth=None \n",
      "[CV]  min_samples_split=2, bootstrap=False, min_samples_leaf=7, max_features=8, max_depth=None, total=  10.2s\n",
      "[CV] min_samples_split=2, bootstrap=False, min_samples_leaf=7, max_features=8, max_depth=None \n",
      "[CV]  min_samples_split=2, bootstrap=False, min_samples_leaf=7, max_features=8, max_depth=None, total=  11.4s\n",
      "[CV] min_samples_split=4, bootstrap=False, min_samples_leaf=6, max_features=7, max_depth=3 \n",
      "[CV]  min_samples_split=4, bootstrap=False, min_samples_leaf=6, max_features=7, max_depth=3, total=   3.3s\n",
      "[CV] min_samples_split=4, bootstrap=False, min_samples_leaf=6, max_features=7, max_depth=3 \n",
      "[CV]  min_samples_split=4, bootstrap=False, min_samples_leaf=6, max_features=7, max_depth=3, total=   3.3s\n",
      "[CV] min_samples_split=4, bootstrap=False, min_samples_leaf=6, max_features=7, max_depth=3 \n",
      "[CV]  min_samples_split=4, bootstrap=False, min_samples_leaf=6, max_features=7, max_depth=3, total=   3.9s\n",
      "[CV] min_samples_split=5, bootstrap=False, min_samples_leaf=10, max_features=6, max_depth=None \n",
      "[CV]  min_samples_split=5, bootstrap=False, min_samples_leaf=10, max_features=6, max_depth=None, total=   9.5s\n",
      "[CV] min_samples_split=5, bootstrap=False, min_samples_leaf=10, max_features=6, max_depth=None \n",
      "[CV]  min_samples_split=5, bootstrap=False, min_samples_leaf=10, max_features=6, max_depth=None, total=   9.0s\n",
      "[CV] min_samples_split=5, bootstrap=False, min_samples_leaf=10, max_features=6, max_depth=None \n",
      "[CV]  min_samples_split=5, bootstrap=False, min_samples_leaf=10, max_features=6, max_depth=None, total=   8.8s\n",
      "[CV] min_samples_split=6, bootstrap=False, min_samples_leaf=4, max_features=6, max_depth=None \n",
      "[CV]  min_samples_split=6, bootstrap=False, min_samples_leaf=4, max_features=6, max_depth=None, total=  10.3s\n",
      "[CV] min_samples_split=6, bootstrap=False, min_samples_leaf=4, max_features=6, max_depth=None \n",
      "[CV]  min_samples_split=6, bootstrap=False, min_samples_leaf=4, max_features=6, max_depth=None, total=   8.7s\n",
      "[CV] min_samples_split=6, bootstrap=False, min_samples_leaf=4, max_features=6, max_depth=None \n",
      "[CV]  min_samples_split=6, bootstrap=False, min_samples_leaf=4, max_features=6, max_depth=None, total=   8.3s\n",
      "[CV] min_samples_split=3, bootstrap=False, min_samples_leaf=9, max_features=9, max_depth=None \n",
      "[CV]  min_samples_split=3, bootstrap=False, min_samples_leaf=9, max_features=9, max_depth=None, total=  10.3s\n",
      "[CV] min_samples_split=3, bootstrap=False, min_samples_leaf=9, max_features=9, max_depth=None \n",
      "[CV]  min_samples_split=3, bootstrap=False, min_samples_leaf=9, max_features=9, max_depth=None, total=  10.3s\n",
      "[CV] min_samples_split=3, bootstrap=False, min_samples_leaf=9, max_features=9, max_depth=None \n",
      "[CV]  min_samples_split=3, bootstrap=False, min_samples_leaf=9, max_features=9, max_depth=None, total=   9.9s\n",
      "[CV] min_samples_split=5, bootstrap=False, min_samples_leaf=9, max_features=4, max_depth=3 \n",
      "[CV]  min_samples_split=5, bootstrap=False, min_samples_leaf=9, max_features=4, max_depth=3, total=   1.9s\n",
      "[CV] min_samples_split=5, bootstrap=False, min_samples_leaf=9, max_features=4, max_depth=3 \n",
      "[CV]  min_samples_split=5, bootstrap=False, min_samples_leaf=9, max_features=4, max_depth=3, total=   2.2s\n",
      "[CV] min_samples_split=5, bootstrap=False, min_samples_leaf=9, max_features=4, max_depth=3 \n",
      "[CV]  min_samples_split=5, bootstrap=False, min_samples_leaf=9, max_features=4, max_depth=3, total=   2.3s\n",
      "[CV] min_samples_split=3, bootstrap=True, min_samples_leaf=3, max_features=3, max_depth=3 \n",
      "[CV]  min_samples_split=3, bootstrap=True, min_samples_leaf=3, max_features=3, max_depth=3, total=   1.6s\n",
      "[CV] min_samples_split=3, bootstrap=True, min_samples_leaf=3, max_features=3, max_depth=3 \n",
      "[CV]  min_samples_split=3, bootstrap=True, min_samples_leaf=3, max_features=3, max_depth=3, total=   1.4s\n",
      "[CV] min_samples_split=3, bootstrap=True, min_samples_leaf=3, max_features=3, max_depth=3 \n",
      "[CV]  min_samples_split=3, bootstrap=True, min_samples_leaf=3, max_features=3, max_depth=3, total=   1.3s\n",
      "[CV] min_samples_split=6, bootstrap=False, min_samples_leaf=5, max_features=9, max_depth=None \n",
      "[CV]  min_samples_split=6, bootstrap=False, min_samples_leaf=5, max_features=9, max_depth=None, total=  12.4s\n",
      "[CV] min_samples_split=6, bootstrap=False, min_samples_leaf=5, max_features=9, max_depth=None \n",
      "[CV]  min_samples_split=6, bootstrap=False, min_samples_leaf=5, max_features=9, max_depth=None, total=  11.4s\n",
      "[CV] min_samples_split=6, bootstrap=False, min_samples_leaf=5, max_features=9, max_depth=None \n",
      "[CV]  min_samples_split=6, bootstrap=False, min_samples_leaf=5, max_features=9, max_depth=None, total=  15.0s\n",
      "[CV] min_samples_split=7, bootstrap=False, min_samples_leaf=2, max_features=7, max_depth=None \n",
      "[CV]  min_samples_split=7, bootstrap=False, min_samples_leaf=2, max_features=7, max_depth=None, total=  11.2s\n",
      "[CV] min_samples_split=7, bootstrap=False, min_samples_leaf=2, max_features=7, max_depth=None \n",
      "[CV]  min_samples_split=7, bootstrap=False, min_samples_leaf=2, max_features=7, max_depth=None, total=  10.0s\n",
      "[CV] min_samples_split=7, bootstrap=False, min_samples_leaf=2, max_features=7, max_depth=None \n",
      "[CV]  min_samples_split=7, bootstrap=False, min_samples_leaf=2, max_features=7, max_depth=None, total=  11.1s\n",
      "[CV] min_samples_split=10, bootstrap=True, min_samples_leaf=3, max_features=10, max_depth=3 \n",
      "[CV]  min_samples_split=10, bootstrap=True, min_samples_leaf=3, max_features=10, max_depth=3, total=   2.6s\n",
      "[CV] min_samples_split=10, bootstrap=True, min_samples_leaf=3, max_features=10, max_depth=3 \n",
      "[CV]  min_samples_split=10, bootstrap=True, min_samples_leaf=3, max_features=10, max_depth=3, total=   2.9s\n",
      "[CV] min_samples_split=10, bootstrap=True, min_samples_leaf=3, max_features=10, max_depth=3 \n",
      "[CV]  min_samples_split=10, bootstrap=True, min_samples_leaf=3, max_features=10, max_depth=3, total=   2.8s\n",
      "[CV] min_samples_split=10, bootstrap=True, min_samples_leaf=2, max_features=6, max_depth=None \n",
      "[CV]  min_samples_split=10, bootstrap=True, min_samples_leaf=2, max_features=6, max_depth=None, total=   6.3s\n",
      "[CV] min_samples_split=10, bootstrap=True, min_samples_leaf=2, max_features=6, max_depth=None \n",
      "[CV]  min_samples_split=10, bootstrap=True, min_samples_leaf=2, max_features=6, max_depth=None, total=   6.5s\n",
      "[CV] min_samples_split=10, bootstrap=True, min_samples_leaf=2, max_features=6, max_depth=None \n",
      "[CV]  min_samples_split=10, bootstrap=True, min_samples_leaf=2, max_features=6, max_depth=None, total=   6.7s\n",
      "[CV] min_samples_split=6, bootstrap=True, min_samples_leaf=2, max_features=10, max_depth=3 \n",
      "[CV]  min_samples_split=6, bootstrap=True, min_samples_leaf=2, max_features=10, max_depth=3, total=   3.1s\n",
      "[CV] min_samples_split=6, bootstrap=True, min_samples_leaf=2, max_features=10, max_depth=3 \n",
      "[CV]  min_samples_split=6, bootstrap=True, min_samples_leaf=2, max_features=10, max_depth=3, total=   3.5s\n",
      "[CV] min_samples_split=6, bootstrap=True, min_samples_leaf=2, max_features=10, max_depth=3 \n",
      "[CV]  min_samples_split=6, bootstrap=True, min_samples_leaf=2, max_features=10, max_depth=3, total=   3.4s\n",
      "[CV] min_samples_split=4, bootstrap=True, min_samples_leaf=5, max_features=5, max_depth=None \n",
      "[CV]  min_samples_split=4, bootstrap=True, min_samples_leaf=5, max_features=5, max_depth=None, total=   6.1s\n",
      "[CV] min_samples_split=4, bootstrap=True, min_samples_leaf=5, max_features=5, max_depth=None \n",
      "[CV]  min_samples_split=4, bootstrap=True, min_samples_leaf=5, max_features=5, max_depth=None, total=   5.5s\n",
      "[CV] min_samples_split=4, bootstrap=True, min_samples_leaf=5, max_features=5, max_depth=None \n",
      "[CV]  min_samples_split=4, bootstrap=True, min_samples_leaf=5, max_features=5, max_depth=None, total=   6.2s\n",
      "[CV] min_samples_split=2, bootstrap=True, min_samples_leaf=3, max_features=10, max_depth=None \n",
      "[CV]  min_samples_split=2, bootstrap=True, min_samples_leaf=3, max_features=10, max_depth=None, total=  11.8s\n",
      "[CV] min_samples_split=2, bootstrap=True, min_samples_leaf=3, max_features=10, max_depth=None \n",
      "[CV]  min_samples_split=2, bootstrap=True, min_samples_leaf=3, max_features=10, max_depth=None, total=  10.6s\n",
      "[CV] min_samples_split=2, bootstrap=True, min_samples_leaf=3, max_features=10, max_depth=None \n",
      "[CV]  min_samples_split=2, bootstrap=True, min_samples_leaf=3, max_features=10, max_depth=None, total=  11.4s\n"
     ]
    },
    {
     "name": "stderr",
     "output_type": "stream",
     "text": [
      "[Parallel(n_jobs=-1)]: Done  60 out of  60 | elapsed:  6.4min finished\n"
     ]
    },
    {
     "data": {
      "text/plain": [
       "RandomizedSearchCV(cv=None, error_score='raise',\n",
       "          estimator=RandomForestClassifier(bootstrap=True, class_weight=None, criterion='gini',\n",
       "            max_depth=None, max_features='auto', max_leaf_nodes=None,\n",
       "            min_impurity_split=1e-07, min_samples_leaf=1,\n",
       "            min_samples_split=2, min_weight_fraction_leaf=0.0,\n",
       "            n_estimators=200, n_jobs=1, oob_score=False, random_state=None,\n",
       "            verbose=0, warm_start=False),\n",
       "          fit_params={}, iid=True, n_iter=20, n_jobs=-1,\n",
       "          param_distributions={'min_samples_split': <scipy.stats._distn_infrastructure.rv_frozen object at 0x7f4d8042f898>, 'bootstrap': [True, False], 'min_samples_leaf': <scipy.stats._distn_infrastructure.rv_frozen object at 0x7f4d8042fb00>, 'max_features': <scipy.stats._distn_infrastructure.rv_frozen object at 0x7f4d8042f710>, 'max_depth': [3, None]},\n",
       "          pre_dispatch='2*n_jobs', random_state=None, refit=True,\n",
       "          return_train_score=True, scoring=None, verbose=2)"
      ]
     },
     "execution_count": 42,
     "metadata": {},
     "output_type": "execute_result"
    }
   ],
   "source": [
    "clf_rf_rs.fit(X_train, Y_train)"
   ]
  },
  {
   "cell_type": "code",
   "execution_count": 46,
   "metadata": {
    "collapsed": false
   },
   "outputs": [
    {
     "data": {
      "text/plain": [
       "0.69869706840390877"
      ]
     },
     "execution_count": 46,
     "metadata": {},
     "output_type": "execute_result"
    }
   ],
   "source": [
    "Y_true, Y_pred = Y_dev, clf_rf_rs.predict(X_dev)\n",
    "acc = metrics.accuracy_score(Y_true, Y_pred)\n",
    "acc"
   ]
  },
  {
   "cell_type": "code",
   "execution_count": null,
   "metadata": {
    "collapsed": false,
    "scrolled": true
   },
   "outputs": [
    {
     "name": "stdout",
     "output_type": "stream",
     "text": [
      "Fitting 3 folds for each of 20 candidates, totalling 60 fits\n",
      "[CV] min_samples_split=10, bootstrap=True, min_samples_leaf=7, max_features=5, max_depth=3 \n",
      "[CV]  min_samples_split=10, bootstrap=True, min_samples_leaf=7, max_features=5, max_depth=3, total=   1.8s\n",
      "[CV] min_samples_split=10, bootstrap=True, min_samples_leaf=7, max_features=5, max_depth=3 \n"
     ]
    },
    {
     "name": "stderr",
     "output_type": "stream",
     "text": [
      "[Parallel(n_jobs=-1)]: Done   1 out of   1 | elapsed:    2.0s remaining:    0.0s\n"
     ]
    },
    {
     "name": "stdout",
     "output_type": "stream",
     "text": [
      "[CV]  min_samples_split=10, bootstrap=True, min_samples_leaf=7, max_features=5, max_depth=3, total=   1.8s\n",
      "[CV] min_samples_split=10, bootstrap=True, min_samples_leaf=7, max_features=5, max_depth=3 \n",
      "[CV]  min_samples_split=10, bootstrap=True, min_samples_leaf=7, max_features=5, max_depth=3, total=   1.9s\n",
      "[CV] min_samples_split=9, bootstrap=False, min_samples_leaf=3, max_features=2, max_depth=3 \n",
      "[CV]  min_samples_split=9, bootstrap=False, min_samples_leaf=3, max_features=2, max_depth=3, total=   1.5s\n",
      "[CV] min_samples_split=9, bootstrap=False, min_samples_leaf=3, max_features=2, max_depth=3 \n",
      "[CV]  min_samples_split=9, bootstrap=False, min_samples_leaf=3, max_features=2, max_depth=3, total=   1.4s\n",
      "[CV] min_samples_split=9, bootstrap=False, min_samples_leaf=3, max_features=2, max_depth=3 \n",
      "[CV]  min_samples_split=9, bootstrap=False, min_samples_leaf=3, max_features=2, max_depth=3, total=   1.6s\n",
      "[CV] min_samples_split=8, bootstrap=False, min_samples_leaf=7, max_features=2, max_depth=3 \n",
      "[CV]  min_samples_split=8, bootstrap=False, min_samples_leaf=7, max_features=2, max_depth=3, total=   2.0s\n",
      "[CV] min_samples_split=8, bootstrap=False, min_samples_leaf=7, max_features=2, max_depth=3 \n",
      "[CV]  min_samples_split=8, bootstrap=False, min_samples_leaf=7, max_features=2, max_depth=3, total=   2.3s\n",
      "[CV] min_samples_split=8, bootstrap=False, min_samples_leaf=7, max_features=2, max_depth=3 \n",
      "[CV]  min_samples_split=8, bootstrap=False, min_samples_leaf=7, max_features=2, max_depth=3, total=   1.9s\n",
      "[CV] min_samples_split=7, bootstrap=True, min_samples_leaf=2, max_features=6, max_depth=3 \n",
      "[CV]  min_samples_split=7, bootstrap=True, min_samples_leaf=2, max_features=6, max_depth=3, total=   3.2s\n",
      "[CV] min_samples_split=7, bootstrap=True, min_samples_leaf=2, max_features=6, max_depth=3 \n",
      "[CV]  min_samples_split=7, bootstrap=True, min_samples_leaf=2, max_features=6, max_depth=3, total=   2.7s\n",
      "[CV] min_samples_split=7, bootstrap=True, min_samples_leaf=2, max_features=6, max_depth=3 \n",
      "[CV]  min_samples_split=7, bootstrap=True, min_samples_leaf=2, max_features=6, max_depth=3, total=   2.2s\n",
      "[CV] min_samples_split=3, bootstrap=False, min_samples_leaf=2, max_features=2, max_depth=3 \n",
      "[CV]  min_samples_split=3, bootstrap=False, min_samples_leaf=2, max_features=2, max_depth=3, total=   1.7s\n",
      "[CV] min_samples_split=3, bootstrap=False, min_samples_leaf=2, max_features=2, max_depth=3 \n",
      "[CV]  min_samples_split=3, bootstrap=False, min_samples_leaf=2, max_features=2, max_depth=3, total=   1.6s\n",
      "[CV] min_samples_split=3, bootstrap=False, min_samples_leaf=2, max_features=2, max_depth=3 \n",
      "[CV]  min_samples_split=3, bootstrap=False, min_samples_leaf=2, max_features=2, max_depth=3, total=   1.4s\n",
      "[CV] min_samples_split=6, bootstrap=True, min_samples_leaf=9, max_features=4, max_depth=None \n",
      "[CV]  min_samples_split=6, bootstrap=True, min_samples_leaf=9, max_features=4, max_depth=None, total=   3.9s\n",
      "[CV] min_samples_split=6, bootstrap=True, min_samples_leaf=9, max_features=4, max_depth=None \n",
      "[CV]  min_samples_split=6, bootstrap=True, min_samples_leaf=9, max_features=4, max_depth=None, total=   4.0s\n",
      "[CV] min_samples_split=6, bootstrap=True, min_samples_leaf=9, max_features=4, max_depth=None \n",
      "[CV]  min_samples_split=6, bootstrap=True, min_samples_leaf=9, max_features=4, max_depth=None, total=   5.3s\n",
      "[CV] min_samples_split=3, bootstrap=True, min_samples_leaf=5, max_features=7, max_depth=None \n",
      "[CV]  min_samples_split=3, bootstrap=True, min_samples_leaf=5, max_features=7, max_depth=None, total=   7.1s\n",
      "[CV] min_samples_split=3, bootstrap=True, min_samples_leaf=5, max_features=7, max_depth=None \n",
      "[CV]  min_samples_split=3, bootstrap=True, min_samples_leaf=5, max_features=7, max_depth=None, total=   6.6s\n",
      "[CV] min_samples_split=3, bootstrap=True, min_samples_leaf=5, max_features=7, max_depth=None \n",
      "[CV]  min_samples_split=3, bootstrap=True, min_samples_leaf=5, max_features=7, max_depth=None, total=   7.5s\n",
      "[CV] min_samples_split=10, bootstrap=True, min_samples_leaf=4, max_features=9, max_depth=None \n",
      "[CV]  min_samples_split=10, bootstrap=True, min_samples_leaf=4, max_features=9, max_depth=None, total=  10.1s\n",
      "[CV] min_samples_split=10, bootstrap=True, min_samples_leaf=4, max_features=9, max_depth=None \n",
      "[CV]  min_samples_split=10, bootstrap=True, min_samples_leaf=4, max_features=9, max_depth=None, total=  11.3s\n",
      "[CV] min_samples_split=10, bootstrap=True, min_samples_leaf=4, max_features=9, max_depth=None \n",
      "[CV]  min_samples_split=10, bootstrap=True, min_samples_leaf=4, max_features=9, max_depth=None, total=   8.1s\n",
      "[CV] min_samples_split=9, bootstrap=True, min_samples_leaf=6, max_features=2, max_depth=None \n",
      "[CV]  min_samples_split=9, bootstrap=True, min_samples_leaf=6, max_features=2, max_depth=None, total=   2.7s\n",
      "[CV] min_samples_split=9, bootstrap=True, min_samples_leaf=6, max_features=2, max_depth=None \n"
     ]
    }
   ],
   "source": [
    "# make and save final predictionclf_rf_rs_full = RandomForestClassifier(n_estimators=200)\n",
    "clf_rf_rs_full = RandomizedSearchCV(RandomForestClassifier(n_estimators=200), param_distributions=param_dist,\n",
    "                                   n_iter=20, verbose=2, n_jobs=-1).fit(X_train, Y_train)\n",
    "clf_rf_rs_full.fit(X, Y)\n",
    "pred = clf_rf_rs_full.predict(X_test)\n",
    "save_result('results/RF_RS_e200_{:3.1f}.csv'.format(acc), pred)"
   ]
  },
  {
   "cell_type": "markdown",
   "metadata": {},
   "source": [
    "# Keras"
   ]
  },
  {
   "cell_type": "code",
   "execution_count": 86,
   "metadata": {
    "collapsed": false
   },
   "outputs": [],
   "source": [
    "from keras.layers import Dense, Activation, Dropout\n",
    "from keras.models import Sequential\n",
    "import keras\n",
    "import tensorflow as tf\n",
    "import numpy as np\n",
    "tf.python.control_flow_ops = tf"
   ]
  },
  {
   "cell_type": "code",
   "execution_count": 56,
   "metadata": {
    "collapsed": false
   },
   "outputs": [],
   "source": [
    "X_train, X_dev, Y_train, Y_dev = train_test_split(\n",
    "    X, Y, test_size=0.2, random_state=33)"
   ]
  },
  {
   "cell_type": "code",
   "execution_count": 76,
   "metadata": {
    "collapsed": false,
    "scrolled": true
   },
   "outputs": [],
   "source": [
    "model = Sequential()\n",
    "# model.add(Dense(128,input_dim=X_train.shape[1], activation='relu'))\n",
    "# model.add(Dense(128,activation='relu'))\n",
    "# model.add(Dropout(0.5))\n",
    "# model.add(Dense(128,activation='relu'))\n",
    "# model.add(Dropout(0.5))\n",
    "# model.add(Dense(64,activation='relu'))\n",
    "\n",
    "model.add(Dense(32, input_dim=X_train.shape[1]))\n",
    "model.add(Activation('relu'))\n",
    "model.add(Dropout(0.5))\n",
    "model.add(Dense(32))\n",
    "model.add(Activation('relu'))\n",
    "model.add(Dropout(0.5))\n",
    "model.add(Dense(32))\n",
    "model.add(Activation('relu'))\n",
    "model.add(Dense(1, ))\n",
    "model.add(Activation('sigmoid'))\n",
    "\n",
    "# model.add(Dense(128,activation='relu'))\n",
    "model.add(Dense(1,activation='sigmoid'))\n",
    "adam = keras.optimizers.Adam(lr=0.0001)\n",
    "model.compile(optimizer=adam,\n",
    "              loss='binary_crossentropy',\n",
    "              metrics=['accuracy'])"
   ]
  },
  {
   "cell_type": "code",
   "execution_count": 77,
   "metadata": {
    "collapsed": false
   },
   "outputs": [
    {
     "name": "stdout",
     "output_type": "stream",
     "text": [
      "Train on 14734 samples, validate on 3684 samples\n",
      "Epoch 1/100\n",
      "14734/14734 [==============================] - 4s - loss: 0.7097 - acc: 0.5020 - val_loss: 0.6951 - val_acc: 0.4970\n",
      "Epoch 2/100\n",
      "14734/14734 [==============================] - 3s - loss: 0.6945 - acc: 0.5164 - val_loss: 0.6869 - val_acc: 0.5100\n",
      "Epoch 3/100\n",
      "14734/14734 [==============================] - 2s - loss: 0.6888 - acc: 0.5425 - val_loss: 0.6828 - val_acc: 0.5497\n",
      "Epoch 4/100\n",
      "14734/14734 [==============================] - 2s - loss: 0.6859 - acc: 0.5596 - val_loss: 0.6790 - val_acc: 0.5904\n",
      "Epoch 5/100\n",
      "14734/14734 [==============================] - 2s - loss: 0.6829 - acc: 0.5729 - val_loss: 0.6744 - val_acc: 0.6061\n",
      "Epoch 6/100\n",
      "14734/14734 [==============================] - 1s - loss: 0.6781 - acc: 0.5870 - val_loss: 0.6682 - val_acc: 0.6251\n",
      "Epoch 7/100\n",
      "14734/14734 [==============================] - 1s - loss: 0.6718 - acc: 0.6026 - val_loss: 0.6605 - val_acc: 0.6365\n",
      "Epoch 8/100\n",
      "14734/14734 [==============================] - 2s - loss: 0.6691 - acc: 0.6083 - val_loss: 0.6545 - val_acc: 0.6488\n",
      "Epoch 9/100\n",
      "14734/14734 [==============================] - 2s - loss: 0.6630 - acc: 0.6195 - val_loss: 0.6491 - val_acc: 0.6542\n",
      "Epoch 10/100\n",
      "14734/14734 [==============================] - 2s - loss: 0.6593 - acc: 0.6233 - val_loss: 0.6452 - val_acc: 0.6561\n",
      "Epoch 11/100\n",
      "14734/14734 [==============================] - 2s - loss: 0.6565 - acc: 0.6347 - val_loss: 0.6417 - val_acc: 0.6593\n",
      "Epoch 12/100\n",
      "14734/14734 [==============================] - 2s - loss: 0.6519 - acc: 0.6333 - val_loss: 0.6392 - val_acc: 0.6623\n",
      "Epoch 13/100\n",
      "14734/14734 [==============================] - 1s - loss: 0.6505 - acc: 0.6397 - val_loss: 0.6371 - val_acc: 0.6618\n",
      "Epoch 14/100\n",
      "14734/14734 [==============================] - 1s - loss: 0.6459 - acc: 0.6465 - val_loss: 0.6348 - val_acc: 0.6631\n",
      "Epoch 15/100\n",
      "14734/14734 [==============================] - 2s - loss: 0.6436 - acc: 0.6463 - val_loss: 0.6331 - val_acc: 0.6648\n",
      "Epoch 16/100\n",
      "14734/14734 [==============================] - 1s - loss: 0.6412 - acc: 0.6499 - val_loss: 0.6315 - val_acc: 0.6656\n",
      "Epoch 17/100\n",
      "14734/14734 [==============================] - 1s - loss: 0.6406 - acc: 0.6480 - val_loss: 0.6301 - val_acc: 0.6667\n",
      "Epoch 18/100\n",
      "14734/14734 [==============================] - 1s - loss: 0.6389 - acc: 0.6503 - val_loss: 0.6287 - val_acc: 0.6669\n",
      "Epoch 19/100\n",
      "14734/14734 [==============================] - 2s - loss: 0.6381 - acc: 0.6523 - val_loss: 0.6274 - val_acc: 0.6694\n",
      "Epoch 20/100\n",
      "14734/14734 [==============================] - 1s - loss: 0.6375 - acc: 0.6498 - val_loss: 0.6264 - val_acc: 0.6686\n",
      "Epoch 21/100\n",
      "14734/14734 [==============================] - 1s - loss: 0.6348 - acc: 0.6579 - val_loss: 0.6254 - val_acc: 0.6702\n",
      "Epoch 22/100\n",
      "14734/14734 [==============================] - 2s - loss: 0.6344 - acc: 0.6549 - val_loss: 0.6246 - val_acc: 0.6713\n",
      "Epoch 23/100\n",
      "14734/14734 [==============================] - 2s - loss: 0.6347 - acc: 0.6538 - val_loss: 0.6237 - val_acc: 0.6691\n",
      "Epoch 24/100\n",
      "14734/14734 [==============================] - 2s - loss: 0.6302 - acc: 0.6623 - val_loss: 0.6228 - val_acc: 0.6697\n",
      "Epoch 25/100\n",
      "14734/14734 [==============================] - 2s - loss: 0.6290 - acc: 0.6613 - val_loss: 0.6219 - val_acc: 0.6694\n",
      "Epoch 26/100\n",
      "14734/14734 [==============================] - 1s - loss: 0.6294 - acc: 0.6613 - val_loss: 0.6210 - val_acc: 0.6678\n",
      "Epoch 27/100\n",
      "14734/14734 [==============================] - 2s - loss: 0.6293 - acc: 0.6595 - val_loss: 0.6202 - val_acc: 0.6680\n",
      "Epoch 28/100\n",
      "14734/14734 [==============================] - 1s - loss: 0.6281 - acc: 0.6623 - val_loss: 0.6194 - val_acc: 0.6691\n",
      "Epoch 29/100\n",
      "14734/14734 [==============================] - 1s - loss: 0.6282 - acc: 0.6629 - val_loss: 0.6186 - val_acc: 0.6675\n",
      "Epoch 30/100\n",
      "14734/14734 [==============================] - 1s - loss: 0.6264 - acc: 0.6638 - val_loss: 0.6178 - val_acc: 0.6686\n",
      "Epoch 31/100\n",
      "14734/14734 [==============================] - 1s - loss: 0.6272 - acc: 0.6645 - val_loss: 0.6170 - val_acc: 0.6707\n",
      "Epoch 32/100\n",
      "14734/14734 [==============================] - 1s - loss: 0.6249 - acc: 0.6658 - val_loss: 0.6164 - val_acc: 0.6716\n",
      "Epoch 33/100\n",
      "14734/14734 [==============================] - 2s - loss: 0.6259 - acc: 0.6650 - val_loss: 0.6159 - val_acc: 0.6729\n",
      "Epoch 34/100\n",
      "14734/14734 [==============================] - 1s - loss: 0.6226 - acc: 0.6665 - val_loss: 0.6154 - val_acc: 0.6732\n",
      "Epoch 35/100\n",
      "14734/14734 [==============================] - 1s - loss: 0.6202 - acc: 0.6719 - val_loss: 0.6147 - val_acc: 0.6732\n",
      "Epoch 36/100\n",
      "14734/14734 [==============================] - 1s - loss: 0.6211 - acc: 0.6664 - val_loss: 0.6141 - val_acc: 0.6735\n",
      "Epoch 37/100\n",
      "14734/14734 [==============================] - 2s - loss: 0.6206 - acc: 0.6674 - val_loss: 0.6135 - val_acc: 0.6732\n",
      "Epoch 38/100\n",
      "14734/14734 [==============================] - 1s - loss: 0.6206 - acc: 0.6694 - val_loss: 0.6129 - val_acc: 0.6732\n",
      "Epoch 39/100\n",
      "14734/14734 [==============================] - 2s - loss: 0.6202 - acc: 0.6683 - val_loss: 0.6121 - val_acc: 0.6745\n",
      "Epoch 40/100\n",
      "14734/14734 [==============================] - 1s - loss: 0.6178 - acc: 0.6710 - val_loss: 0.6116 - val_acc: 0.6743\n",
      "Epoch 41/100\n",
      "14734/14734 [==============================] - 2s - loss: 0.6178 - acc: 0.6722 - val_loss: 0.6111 - val_acc: 0.6754\n",
      "Epoch 42/100\n",
      "14734/14734 [==============================] - 1s - loss: 0.6163 - acc: 0.6773 - val_loss: 0.6107 - val_acc: 0.6754\n",
      "Epoch 43/100\n",
      "14734/14734 [==============================] - 1s - loss: 0.6171 - acc: 0.6731 - val_loss: 0.6103 - val_acc: 0.6748\n",
      "Epoch 44/100\n",
      "14734/14734 [==============================] - 1s - loss: 0.6181 - acc: 0.6714 - val_loss: 0.6100 - val_acc: 0.6759\n",
      "Epoch 45/100\n",
      "14734/14734 [==============================] - 1s - loss: 0.6159 - acc: 0.6754 - val_loss: 0.6096 - val_acc: 0.6775\n",
      "Epoch 46/100\n",
      "14734/14734 [==============================] - 1s - loss: 0.6152 - acc: 0.6744 - val_loss: 0.6094 - val_acc: 0.6762\n",
      "Epoch 47/100\n",
      "14734/14734 [==============================] - 1s - loss: 0.6157 - acc: 0.6704 - val_loss: 0.6090 - val_acc: 0.6762\n",
      "Epoch 48/100\n",
      "14734/14734 [==============================] - 1s - loss: 0.6139 - acc: 0.6746 - val_loss: 0.6086 - val_acc: 0.6775\n",
      "Epoch 49/100\n",
      "14734/14734 [==============================] - 2s - loss: 0.6138 - acc: 0.6761 - val_loss: 0.6081 - val_acc: 0.6783\n",
      "Epoch 50/100\n",
      "14734/14734 [==============================] - 2s - loss: 0.6129 - acc: 0.6769 - val_loss: 0.6079 - val_acc: 0.6775\n",
      "Epoch 51/100\n",
      "14734/14734 [==============================] - 2s - loss: 0.6126 - acc: 0.6805 - val_loss: 0.6074 - val_acc: 0.6783\n",
      "Epoch 52/100\n",
      "14734/14734 [==============================] - 1s - loss: 0.6118 - acc: 0.6761 - val_loss: 0.6073 - val_acc: 0.6792\n",
      "Epoch 53/100\n",
      "14734/14734 [==============================] - 1s - loss: 0.6110 - acc: 0.6769 - val_loss: 0.6068 - val_acc: 0.6792\n",
      "Epoch 54/100\n",
      "14734/14734 [==============================] - 2s - loss: 0.6123 - acc: 0.6750 - val_loss: 0.6065 - val_acc: 0.6783\n",
      "Epoch 55/100\n",
      "14734/14734 [==============================] - 1s - loss: 0.6102 - acc: 0.6784 - val_loss: 0.6062 - val_acc: 0.6778\n",
      "Epoch 56/100\n",
      "14734/14734 [==============================] - 1s - loss: 0.6108 - acc: 0.6777 - val_loss: 0.6059 - val_acc: 0.6789\n",
      "Epoch 57/100\n",
      "14734/14734 [==============================] - 2s - loss: 0.6097 - acc: 0.6812 - val_loss: 0.6055 - val_acc: 0.6781\n",
      "Epoch 58/100\n",
      "14734/14734 [==============================] - 2s - loss: 0.6107 - acc: 0.6741 - val_loss: 0.6053 - val_acc: 0.6781\n",
      "Epoch 59/100\n",
      "14734/14734 [==============================] - 1s - loss: 0.6107 - acc: 0.6765 - val_loss: 0.6050 - val_acc: 0.6767\n",
      "Epoch 60/100\n",
      "14734/14734 [==============================] - 1s - loss: 0.6077 - acc: 0.6798 - val_loss: 0.6048 - val_acc: 0.6778\n",
      "Epoch 61/100\n",
      "14734/14734 [==============================] - 1s - loss: 0.6056 - acc: 0.6790 - val_loss: 0.6046 - val_acc: 0.6764\n",
      "Epoch 62/100\n",
      "14734/14734 [==============================] - 2s - loss: 0.6074 - acc: 0.6803 - val_loss: 0.6042 - val_acc: 0.6773\n",
      "Epoch 63/100\n",
      "14734/14734 [==============================] - 1s - loss: 0.6078 - acc: 0.6825 - val_loss: 0.6039 - val_acc: 0.6783\n",
      "Epoch 64/100\n",
      "14734/14734 [==============================] - 2s - loss: 0.6065 - acc: 0.6825 - val_loss: 0.6038 - val_acc: 0.6797\n",
      "Epoch 65/100\n",
      "14734/14734 [==============================] - 2s - loss: 0.6051 - acc: 0.6837 - val_loss: 0.6035 - val_acc: 0.6802\n",
      "Epoch 66/100\n",
      "14734/14734 [==============================] - 1s - loss: 0.6064 - acc: 0.6807 - val_loss: 0.6031 - val_acc: 0.6802\n",
      "Epoch 67/100\n",
      "14734/14734 [==============================] - 1s - loss: 0.6072 - acc: 0.6790 - val_loss: 0.6030 - val_acc: 0.6802\n",
      "Epoch 68/100\n",
      "14734/14734 [==============================] - 1s - loss: 0.6072 - acc: 0.6788 - val_loss: 0.6027 - val_acc: 0.6808\n",
      "Epoch 69/100\n",
      "14734/14734 [==============================] - 1s - loss: 0.6029 - acc: 0.6835 - val_loss: 0.6024 - val_acc: 0.6797\n",
      "Epoch 70/100\n",
      "14734/14734 [==============================] - 2s - loss: 0.6052 - acc: 0.6818 - val_loss: 0.6021 - val_acc: 0.6783\n",
      "Epoch 71/100\n",
      "14734/14734 [==============================] - 2s - loss: 0.6051 - acc: 0.6830 - val_loss: 0.6018 - val_acc: 0.6781\n",
      "Epoch 72/100\n",
      "14734/14734 [==============================] - 2s - loss: 0.6035 - acc: 0.6818 - val_loss: 0.6015 - val_acc: 0.6781\n",
      "Epoch 73/100\n",
      "14734/14734 [==============================] - 1s - loss: 0.6043 - acc: 0.6824 - val_loss: 0.6014 - val_acc: 0.6786\n",
      "Epoch 74/100\n",
      "14734/14734 [==============================] - 1s - loss: 0.6036 - acc: 0.6835 - val_loss: 0.6014 - val_acc: 0.6775\n",
      "Epoch 75/100\n",
      "14734/14734 [==============================] - 1s - loss: 0.6055 - acc: 0.6813 - val_loss: 0.6012 - val_acc: 0.6781\n",
      "Epoch 76/100\n",
      "14734/14734 [==============================] - 2s - loss: 0.6037 - acc: 0.6835 - val_loss: 0.6010 - val_acc: 0.6786\n",
      "Epoch 77/100\n",
      "14734/14734 [==============================] - 1s - loss: 0.6026 - acc: 0.6849 - val_loss: 0.6009 - val_acc: 0.6775\n",
      "Epoch 78/100\n",
      "14734/14734 [==============================] - 2s - loss: 0.6027 - acc: 0.6807 - val_loss: 0.6007 - val_acc: 0.6792\n",
      "Epoch 79/100\n",
      "14734/14734 [==============================] - 2s - loss: 0.6002 - acc: 0.6866 - val_loss: 0.6004 - val_acc: 0.6794\n",
      "Epoch 80/100\n",
      "14734/14734 [==============================] - 5s - loss: 0.5991 - acc: 0.6866 - val_loss: 0.6001 - val_acc: 0.6805\n",
      "Epoch 81/100\n",
      "14734/14734 [==============================] - 4s - loss: 0.6018 - acc: 0.6839 - val_loss: 0.6000 - val_acc: 0.6794\n",
      "Epoch 82/100\n",
      "14734/14734 [==============================] - 2s - loss: 0.6001 - acc: 0.6855 - val_loss: 0.5998 - val_acc: 0.6808\n",
      "Epoch 83/100\n",
      "14734/14734 [==============================] - 2s - loss: 0.6001 - acc: 0.6874 - val_loss: 0.5996 - val_acc: 0.6824\n",
      "Epoch 84/100\n",
      "14734/14734 [==============================] - 3s - loss: 0.6024 - acc: 0.6841 - val_loss: 0.5995 - val_acc: 0.6813\n",
      "Epoch 85/100\n",
      "14734/14734 [==============================] - 2s - loss: 0.6012 - acc: 0.6831 - val_loss: 0.5994 - val_acc: 0.6800\n",
      "Epoch 86/100\n",
      "14734/14734 [==============================] - 2s - loss: 0.6014 - acc: 0.6827 - val_loss: 0.5993 - val_acc: 0.6794\n",
      "Epoch 87/100\n",
      "14734/14734 [==============================] - 2s - loss: 0.6002 - acc: 0.6844 - val_loss: 0.5991 - val_acc: 0.6800\n",
      "Epoch 88/100\n",
      "14734/14734 [==============================] - 2s - loss: 0.6009 - acc: 0.6830 - val_loss: 0.5988 - val_acc: 0.6802\n",
      "Epoch 89/100\n",
      "14734/14734 [==============================] - 2s - loss: 0.5996 - acc: 0.6845 - val_loss: 0.5987 - val_acc: 0.6808\n",
      "Epoch 90/100\n",
      "14734/14734 [==============================] - 2s - loss: 0.5998 - acc: 0.6851 - val_loss: 0.5987 - val_acc: 0.6805\n",
      "Epoch 91/100\n",
      "14734/14734 [==============================] - 2s - loss: 0.5987 - acc: 0.6870 - val_loss: 0.5985 - val_acc: 0.6797\n",
      "Epoch 92/100\n",
      "14734/14734 [==============================] - 2s - loss: 0.5995 - acc: 0.6868 - val_loss: 0.5984 - val_acc: 0.6794\n",
      "Epoch 93/100\n",
      "14734/14734 [==============================] - 3s - loss: 0.5996 - acc: 0.6843 - val_loss: 0.5983 - val_acc: 0.6805\n",
      "Epoch 94/100\n",
      "14734/14734 [==============================] - 3s - loss: 0.5957 - acc: 0.6904 - val_loss: 0.5981 - val_acc: 0.6802\n",
      "Epoch 95/100\n",
      "14734/14734 [==============================] - 4s - loss: 0.5961 - acc: 0.6887 - val_loss: 0.5980 - val_acc: 0.6802\n",
      "Epoch 96/100\n",
      "14734/14734 [==============================] - 3s - loss: 0.5976 - acc: 0.6887 - val_loss: 0.5978 - val_acc: 0.6797\n",
      "Epoch 97/100\n",
      "14734/14734 [==============================] - 3s - loss: 0.5985 - acc: 0.6866 - val_loss: 0.5976 - val_acc: 0.6794\n",
      "Epoch 98/100\n",
      "14734/14734 [==============================] - 2s - loss: 0.5961 - acc: 0.6899 - val_loss: 0.5974 - val_acc: 0.6789\n",
      "Epoch 99/100\n",
      "14734/14734 [==============================] - 2s - loss: 0.5957 - acc: 0.6889 - val_loss: 0.5974 - val_acc: 0.6794\n",
      "Epoch 100/100\n",
      "14734/14734 [==============================] - 4s - loss: 0.5955 - acc: 0.6895 - val_loss: 0.5973 - val_acc: 0.6781\n"
     ]
    },
    {
     "data": {
      "text/plain": [
       "<keras.callbacks.History at 0x7f4d694b87b8>"
      ]
     },
     "execution_count": 77,
     "metadata": {},
     "output_type": "execute_result"
    }
   ],
   "source": [
    "model.fit(X_train, \n",
    "          Y_train, \n",
    "          nb_epoch=100, batch_size=32, validation_data=[X_dev, Y_dev])"
   ]
  },
  {
   "cell_type": "code",
   "execution_count": 94,
   "metadata": {
    "collapsed": false
   },
   "outputs": [
    {
     "data": {
      "text/plain": [
       "0.67806731813246468"
      ]
     },
     "execution_count": 94,
     "metadata": {},
     "output_type": "execute_result"
    }
   ],
   "source": [
    "Y_true, Y_pred = Y_dev, model.predict(X_dev)\n",
    "acc = metrics.accuracy_score(Y_true, Y_pred.round().astype(np.int))\n",
    "acc"
   ]
  },
  {
   "cell_type": "code",
   "execution_count": 100,
   "metadata": {
    "collapsed": false
   },
   "outputs": [],
   "source": [
    "save_result('MLP.csv', Y_pred.round().astype(np.int).reshape(Y_pred.shape[0]))"
   ]
  }
 ],
 "metadata": {
  "anaconda-cloud": {},
  "kernelspec": {
   "display_name": "Python [default]",
   "language": "python",
   "name": "python3"
  },
  "language_info": {
   "codemirror_mode": {
    "name": "ipython",
    "version": 3
   },
   "file_extension": ".py",
   "mimetype": "text/x-python",
   "name": "python",
   "nbconvert_exporter": "python",
   "pygments_lexer": "ipython3",
   "version": "3.5.2"
  }
 },
 "nbformat": 4,
 "nbformat_minor": 1
}
